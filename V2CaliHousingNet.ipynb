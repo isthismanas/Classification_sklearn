{
 "cells": [
  {
   "cell_type": "code",
   "execution_count": 1,
   "metadata": {
    "notebookRunGroups": {
     "groupValue": "1"
    }
   },
   "outputs": [],
   "source": [
    "import numpy as np\n",
    "import pandas as pd\n",
    "import matplotlib.pyplot as plt\n",
    "import sklearn\n",
    "import tensorflow as tf\n",
    "import tensorflow.keras as keras"
   ]
  },
  {
   "cell_type": "markdown",
   "metadata": {},
   "source": [
    "Data Pipeline"
   ]
  },
  {
   "cell_type": "code",
   "execution_count": 2,
   "metadata": {
    "notebookRunGroups": {
     "groupValue": "1"
    }
   },
   "outputs": [],
   "source": [
    "from pathlib import Path\n",
    "import tarfile\n",
    "import urllib.request\n",
    "\n",
    "def load_housing_data():\n",
    "    tarball_path = Path(\"datasets/housing.tgz\")\n",
    "    if not tarball_path.is_file():\n",
    "        Path(\"datasets\").mkdir(parents=True ,exist_ok=True)\n",
    "        url = \"https://raw.githubusercontent.com/ageron/handson-ml2/master/datasets/housing/housing.tgz\"\n",
    "        urllib.request.urlretrieve(url, tarball_path)\n",
    "        with tarfile.open(tarball_path) as housing_tarball:\n",
    "            housing_tarball.extractall(path=\"datasets\")\n",
    "    return pd.read_csv(Path(\"datasets/housing.csv\"))        "
   ]
  },
  {
   "cell_type": "code",
   "execution_count": 3,
   "metadata": {
    "notebookRunGroups": {
     "groupValue": "1"
    }
   },
   "outputs": [],
   "source": [
    "housing = load_housing_data()"
   ]
  },
  {
   "cell_type": "code",
   "execution_count": 4,
   "metadata": {
    "notebookRunGroups": {
     "groupValue": "1"
    }
   },
   "outputs": [
    {
     "data": {
      "text/html": [
       "<div>\n",
       "<style scoped>\n",
       "    .dataframe tbody tr th:only-of-type {\n",
       "        vertical-align: middle;\n",
       "    }\n",
       "\n",
       "    .dataframe tbody tr th {\n",
       "        vertical-align: top;\n",
       "    }\n",
       "\n",
       "    .dataframe thead th {\n",
       "        text-align: right;\n",
       "    }\n",
       "</style>\n",
       "<table border=\"1\" class=\"dataframe\">\n",
       "  <thead>\n",
       "    <tr style=\"text-align: right;\">\n",
       "      <th></th>\n",
       "      <th>longitude</th>\n",
       "      <th>latitude</th>\n",
       "      <th>housing_median_age</th>\n",
       "      <th>total_rooms</th>\n",
       "      <th>total_bedrooms</th>\n",
       "      <th>population</th>\n",
       "      <th>households</th>\n",
       "      <th>median_income</th>\n",
       "      <th>median_house_value</th>\n",
       "      <th>ocean_proximity</th>\n",
       "    </tr>\n",
       "  </thead>\n",
       "  <tbody>\n",
       "    <tr>\n",
       "      <th>0</th>\n",
       "      <td>-122.23</td>\n",
       "      <td>37.88</td>\n",
       "      <td>41.0</td>\n",
       "      <td>880.0</td>\n",
       "      <td>129.0</td>\n",
       "      <td>322.0</td>\n",
       "      <td>126.0</td>\n",
       "      <td>8.3252</td>\n",
       "      <td>452600.0</td>\n",
       "      <td>NEAR BAY</td>\n",
       "    </tr>\n",
       "    <tr>\n",
       "      <th>1</th>\n",
       "      <td>-122.22</td>\n",
       "      <td>37.86</td>\n",
       "      <td>21.0</td>\n",
       "      <td>7099.0</td>\n",
       "      <td>1106.0</td>\n",
       "      <td>2401.0</td>\n",
       "      <td>1138.0</td>\n",
       "      <td>8.3014</td>\n",
       "      <td>358500.0</td>\n",
       "      <td>NEAR BAY</td>\n",
       "    </tr>\n",
       "    <tr>\n",
       "      <th>2</th>\n",
       "      <td>-122.24</td>\n",
       "      <td>37.85</td>\n",
       "      <td>52.0</td>\n",
       "      <td>1467.0</td>\n",
       "      <td>190.0</td>\n",
       "      <td>496.0</td>\n",
       "      <td>177.0</td>\n",
       "      <td>7.2574</td>\n",
       "      <td>352100.0</td>\n",
       "      <td>NEAR BAY</td>\n",
       "    </tr>\n",
       "    <tr>\n",
       "      <th>3</th>\n",
       "      <td>-122.25</td>\n",
       "      <td>37.85</td>\n",
       "      <td>52.0</td>\n",
       "      <td>1274.0</td>\n",
       "      <td>235.0</td>\n",
       "      <td>558.0</td>\n",
       "      <td>219.0</td>\n",
       "      <td>5.6431</td>\n",
       "      <td>341300.0</td>\n",
       "      <td>NEAR BAY</td>\n",
       "    </tr>\n",
       "    <tr>\n",
       "      <th>4</th>\n",
       "      <td>-122.25</td>\n",
       "      <td>37.85</td>\n",
       "      <td>52.0</td>\n",
       "      <td>1627.0</td>\n",
       "      <td>280.0</td>\n",
       "      <td>565.0</td>\n",
       "      <td>259.0</td>\n",
       "      <td>3.8462</td>\n",
       "      <td>342200.0</td>\n",
       "      <td>NEAR BAY</td>\n",
       "    </tr>\n",
       "  </tbody>\n",
       "</table>\n",
       "</div>"
      ],
      "text/plain": [
       "   longitude  latitude  housing_median_age  total_rooms  total_bedrooms  \\\n",
       "0    -122.23     37.88                41.0        880.0           129.0   \n",
       "1    -122.22     37.86                21.0       7099.0          1106.0   \n",
       "2    -122.24     37.85                52.0       1467.0           190.0   \n",
       "3    -122.25     37.85                52.0       1274.0           235.0   \n",
       "4    -122.25     37.85                52.0       1627.0           280.0   \n",
       "\n",
       "   population  households  median_income  median_house_value ocean_proximity  \n",
       "0       322.0       126.0         8.3252            452600.0        NEAR BAY  \n",
       "1      2401.0      1138.0         8.3014            358500.0        NEAR BAY  \n",
       "2       496.0       177.0         7.2574            352100.0        NEAR BAY  \n",
       "3       558.0       219.0         5.6431            341300.0        NEAR BAY  \n",
       "4       565.0       259.0         3.8462            342200.0        NEAR BAY  "
      ]
     },
     "execution_count": 4,
     "metadata": {},
     "output_type": "execute_result"
    }
   ],
   "source": [
    "housing.head()"
   ]
  },
  {
   "cell_type": "code",
   "execution_count": 5,
   "metadata": {},
   "outputs": [],
   "source": [
    "dataset_path = Path(\"datasets/housing.csv\")\n",
    "dataset_line = tf.data.TextLineDataset(str(dataset_path))\n",
    "record_defaults = [tf.constant([0.], dtype=tf.float32)] * 7 + [tf.constant([0.], dtype=tf.float32)] * 2 + [tf.constant([], dtype=tf.string)] "
   ]
  },
  {
   "cell_type": "code",
   "execution_count": 6,
   "metadata": {},
   "outputs": [],
   "source": [
    "def parserx(line):\n",
    "    x = tf.io.decode_csv(line, record_defaults=record_defaults)\n",
    "    features1 = tf.stack(x[:8])\n",
    "    features2 = tf.stack(tf.concat([x[0:2], x[3:5]], axis=0))\n",
    "    return features1 , features2\n",
    "def parsery(line):\n",
    "    x = tf.io.decode_csv(line, record_defaults=record_defaults)\n",
    "    return tf.stack(x[8])"
   ]
  },
  {
   "cell_type": "code",
   "execution_count": 7,
   "metadata": {},
   "outputs": [],
   "source": [
    "data_x = dataset_line.skip(1).map(parserx)\n",
    "data_y = dataset_line.skip(1).map(parsery)"
   ]
  },
  {
   "cell_type": "code",
   "execution_count": 8,
   "metadata": {},
   "outputs": [],
   "source": [
    "data_x_wide_array = tf.TensorArray(tf.float32, size = 0 , dynamic_size=True)\n",
    "data_x_deep_array = tf.TensorArray(tf.float32, size = 0 , dynamic_size=True)\n",
    "data_y_array = tf.TensorArray(tf.float32, size = 0, dynamic_size = True)"
   ]
  },
  {
   "cell_type": "code",
   "execution_count": 9,
   "metadata": {},
   "outputs": [],
   "source": [
    "for x, y in data_x:\n",
    "    data_x_deep_array = data_x_deep_array.write(data_x_deep_array.size(), x)\n",
    "    data_x_wide_array = data_x_wide_array.write(data_x_wide_array.size(), y)"
   ]
  },
  {
   "cell_type": "code",
   "execution_count": 10,
   "metadata": {},
   "outputs": [],
   "source": [
    "train_x_deep = data_x_deep_array.stack()\n",
    "train_x_wide = data_x_wide_array.stack()"
   ]
  },
  {
   "cell_type": "code",
   "execution_count": 11,
   "metadata": {},
   "outputs": [],
   "source": [
    "for f in data_y:\n",
    "    data_y_array = data_y_array.write(data_y_array.size(), f)"
   ]
  },
  {
   "cell_type": "code",
   "execution_count": 12,
   "metadata": {},
   "outputs": [],
   "source": [
    "train_y = data_y_array.stack()"
   ]
  },
  {
   "cell_type": "code",
   "execution_count": 13,
   "metadata": {},
   "outputs": [
    {
     "data": {
      "text/plain": [
       "<tf.Tensor: shape=(20640, 1), dtype=float32, numpy=\n",
       "array([[452600.],\n",
       "       [358500.],\n",
       "       [352100.],\n",
       "       ...,\n",
       "       [ 92300.],\n",
       "       [ 84700.],\n",
       "       [ 89400.]], dtype=float32)>"
      ]
     },
     "execution_count": 13,
     "metadata": {},
     "output_type": "execute_result"
    }
   ],
   "source": [
    "tf.reshape(train_y , (train_y.shape[0], 1))"
   ]
  },
  {
   "cell_type": "markdown",
   "metadata": {},
   "source": [
    "## Utility Functions"
   ]
  },
  {
   "cell_type": "code",
   "execution_count": 14,
   "metadata": {},
   "outputs": [],
   "source": [
    "from pathlib import Path\n",
    "from time import strftime\n",
    "\n",
    "def get_run_logdir(root_logdir='my_logs'):\n",
    "  return Path(root_logdir)/strftime('rin_%Y_%m_%d_%H_%M_%S')\n",
    "\n",
    "run_logdir = get_run_logdir()"
   ]
  },
  {
   "cell_type": "markdown",
   "metadata": {},
   "source": [
    "## Model:"
   ]
  },
  {
   "cell_type": "code",
   "execution_count": 15,
   "metadata": {},
   "outputs": [],
   "source": [
    "class RTGaussianRegNoiseLayer(tf.keras.layers.Layer):\n",
    "  def __init__(self,units, stddev ,activation = None, **kwargs):\n",
    "    super().__init__(**kwargs)\n",
    "    self.stddev = stddev\n",
    "    self.units = units\n",
    "    self.activation = tf.keras.activations.get(activation)\n",
    "\n",
    "  def build(self, batch_input_shape):\n",
    "\n",
    "    self.kernel = self.add_weight(name = 'kernel',\n",
    "                                  shape = [batch_input_shape[-1], self.units],\n",
    "                                  initializer = tf.keras.initializers.GlorotNormal())\n",
    "    self.bias = self.add_weight(name = 'bias',\n",
    "                                shape = [self.units],\n",
    "                                initializer = tf.keras.initializers.Zeros())\n",
    "\n",
    "  def call(self, X , training = False):\n",
    "    self.batch_size = tf.shape(X)[0]\n",
    "    noise = tf.random.normal(shape = [self.batch_size, self.units], stddev = self.stddev)\n",
    "    if training :\n",
    "      if self.activation is not None:\n",
    "        return self.activation(tf.matmul(X, self.kernel) + self.bias) + noise\n",
    "      else:\n",
    "        return tf.matmul(X, self.kernel) + self.bias + noise\n",
    "    else:\n",
    "      if self.activation is not None:\n",
    "        return self.activation(tf.matmul(X, self.kernel) + self.bias)\n",
    "      else:\n",
    "        return tf.matmul(X, self.kernel) + self.bias\n",
    "\n",
    "  def get_config(self):\n",
    "    base_config = super().get_config()\n",
    "    return {**base_config , 'units': self.units ,\n",
    "            'activation' : tf.keras.activations.serialize(self.activation)}"
   ]
  },
  {
   "cell_type": "code",
   "execution_count": 16,
   "metadata": {},
   "outputs": [],
   "source": [
    "@tf.keras.utils.register_keras_serializable()\n",
    "class DualIOGaussianRT(tf.keras.Model):\n",
    " def __init__(self, architecture, keen_units, layer_depth, g_units , **kwargs):\n",
    "        super().__init__(**kwargs)\n",
    "        self.architecture = architecture\n",
    "        self.keen_units = keen_units\n",
    "        self.g_units = g_units\n",
    "        self.layer_depth = layer_depth\n",
    "        \n",
    "        self.DeepFlow_ = [tf.keras.layers.Dense(units, activation = 'relu',\n",
    "                                                kernel_initializer = tf.keras.initializers.GlorotNormal(),\n",
    "                                                kernel_regularizer = tf.keras.regularizers.L2(0.1)) for units in architecture]\n",
    "        self.BatchNormDeep_ = [tf.keras.layers.BatchNormalization() for _ in architecture]\n",
    "        self.WideFlow = [tf.keras.layers.Dense(keen_units,\n",
    "                                               activation = tf.keras.activations.relu,\n",
    "                                               kernel_initializer = tf.keras.initializers.HeNormal(),\n",
    "                                               kernel_regularizer= tf.keras.regularizers.L2(0.1)) for _ in range(self.layer_depth)]\n",
    "        self.BatchNormWide_ = tf.keras.layers.BatchNormalization()\n",
    "        self.GRNlayer  = RTGaussianRegNoiseLayer(g_units, 0.1, activation = 'relu')\n",
    "        self.concatenate_ = tf.keras.layers.Concatenate()\n",
    "        self.output_1 = tf.keras.layers.Dense(1,name='output_1', activation = tf.keras.activations.linear,\n",
    "                                              kernel_initializer = tf.keras.initializers.GlorotNormal())\n",
    "        self.output_2 = tf.keras.layers.Dense(1,name = 'output_2', activation = tf.keras.activations.linear,\n",
    "                                              kernel_initializer = tf.keras.initializers.GlorotNormal())\n",
    "        \n",
    " def call(self, input):\n",
    "        x_deep , x_wide = input[0] , input[1]\n",
    "        \n",
    "       \n",
    "        for layer, norm in zip(self.DeepFlow_, self.BatchNormDeep_):\n",
    "            x_deep = layer(x_deep)\n",
    "            x_deep = norm(x_deep)\n",
    "        for l in self.WideFlow:\n",
    "            x_wide = l(x_wide)\n",
    "        x_wide = self.BatchNormWide_(x_wide)\n",
    "        x_wide = self.GRNlayer(x_wide)\n",
    "        x = self.concatenate_([x_deep, x_wide])\n",
    "        out_1 = self.output_1(x)\n",
    "        out_2 = self.output_2(x_deep)\n",
    "        return {'output_1': out_1, 'output_2': out_2}\n",
    "\n",
    " def get_config(self):\n",
    "        base_config = super().get_config()\n",
    "        base_config.update({'architecture':self.architecture,\n",
    "                            'keen_units':self.keen_units,\n",
    "                            'g_units':self.g_units,\n",
    "                            'layer_depth':self.layer_depth})\n",
    "        return base_config"
   ]
  },
  {
   "cell_type": "code",
   "execution_count": 17,
   "metadata": {},
   "outputs": [],
   "source": [
    "import keras_tuner as kt\n",
    "class DualIOGaussianRTTuner(kt.HyperModel):\n",
    "    def build(self, hp):\n",
    "        architecture_depth = hp.Int('architecture_depth', min_value = 6, max_value=16)\n",
    "        architecture = [hp.Int(f'architecture_{i}', min_value=32, max_value=256, step=32) for i in range(architecture_depth)]\n",
    "        keen_units = hp.Int('keen_units', min_value=32, max_value=128, step=32)\n",
    "        g_units = hp.Int('g_units', min_value=8, max_value=128, step=32)\n",
    "        layer_depth = hp.Int('layer_depth', min_value=3, max_value=8)\n",
    "        learning_rate = hp.Float('learning_rate', min_value=1e-4, max_value=1e-2, sampling='LOG')\n",
    "        optimizer = hp.Choice('optimizer',  values = ['adam', 'rmsprop'])\n",
    "        if optimizer == 'adam':\n",
    "            optimizer = tf.keras.optimizers.Adam(learning_rate)\n",
    "        else:\n",
    "            optimizer = tf.keras.optimizers.RMSprop(learning_rate)\n",
    "\n",
    "        model = DualIOGaussianRT(architecture, keen_units, layer_depth, g_units)\n",
    "        model.compile(loss = {'output_1':tf.keras.losses.MeanSquaredError(),\n",
    "                              'output_2':tf.keras.losses.MeanSquaredError()},\n",
    "                      optimizer = optimizer,\n",
    "                      metrics = {'output_1':[tf.keras.metrics.RootMeanSquaredError()],\n",
    "                                 'output_2':[tf.keras.metrics.RootMeanSquaredError()]})          \n",
    "        return model"
   ]
  },
  {
   "cell_type": "code",
   "execution_count": 18,
   "metadata": {},
   "outputs": [],
   "source": [
    "objective = kt.Objective('val_loss', direction='min')\n",
    "HyperModelTuner = kt.RandomSearch(hypermodel=DualIOGaussianRTTuner(),\n",
    "                                  objective=objective,\n",
    "                                  max_trials=25,\n",
    "                                  overwrite = True,\n",
    "                                  directory='tuner_dir',\n",
    "                                  project_name='DualIOGaussianRT',\n",
    "                                  seed=42,\n",
    "                                  max_consecutive_failed_trials=5)"
   ]
  },
  {
   "cell_type": "code",
   "execution_count": 19,
   "metadata": {},
   "outputs": [
    {
     "name": "stdout",
     "output_type": "stream",
     "text": [
      "Trial 25 Complete [00h 00m 55s]\n",
      "val_loss: 10566092800.0\n",
      "\n",
      "Best val_loss So Far: 9371780096.0\n",
      "Total elapsed time: 00h 25m 25s\n"
     ]
    }
   ],
   "source": [
    "HyperModelTuner.search([train_x_deep, train_x_wide], {'output_1' : train_y, 'output_2': train_y}, epochs=30, validation_split=0.2)"
   ]
  },
  {
   "cell_type": "code",
   "execution_count": 20,
   "metadata": {},
   "outputs": [
    {
     "data": {
      "text/plain": [
       "{'architecture_depth': 10,\n",
       " 'architecture_0': 32,\n",
       " 'architecture_1': 128,\n",
       " 'architecture_2': 192,\n",
       " 'architecture_3': 64,\n",
       " 'architecture_4': 128,\n",
       " 'architecture_5': 96,\n",
       " 'keen_units': 128,\n",
       " 'g_units': 72,\n",
       " 'layer_depth': 6,\n",
       " 'learning_rate': 0.0012633033032926032,\n",
       " 'optimizer': 'adam',\n",
       " 'architecture_6': 224,\n",
       " 'architecture_7': 192,\n",
       " 'architecture_8': 224,\n",
       " 'architecture_9': 256,\n",
       " 'architecture_10': 224,\n",
       " 'architecture_11': 64,\n",
       " 'architecture_12': 160,\n",
       " 'architecture_13': 256,\n",
       " 'architecture_14': 64,\n",
       " 'architecture_15': 32}"
      ]
     },
     "execution_count": 20,
     "metadata": {},
     "output_type": "execute_result"
    }
   ],
   "source": [
    "HyperModelTuner.get_best_hyperparameters()[0].values"
   ]
  },
  {
   "cell_type": "code",
   "execution_count": 21,
   "metadata": {},
   "outputs": [],
   "source": [
    "lr = HyperModelTuner.get_best_hyperparameters()[0].values['learning_rate']\n",
    "architecture = [HyperModelTuner.get_best_hyperparameters()[0].values[f'architecture_{i}'] for i in range(HyperModelTuner.get_best_hyperparameters()[0].values['architecture_depth'])]\n",
    "ku = HyperModelTuner.get_best_hyperparameters()[0].values['keen_units']\n",
    "gu = HyperModelTuner.get_best_hyperparameters()[0].values['g_units']\n",
    "ld = HyperModelTuner.get_best_hyperparameters()[0].values['layer_depth']"
   ]
  },
  {
   "cell_type": "code",
   "execution_count": 22,
   "metadata": {},
   "outputs": [],
   "source": [
    "model = DualIOGaussianRT(architecture, ku, ld, gu)"
   ]
  },
  {
   "cell_type": "code",
   "execution_count": 23,
   "metadata": {},
   "outputs": [],
   "source": [
    "model.compile(loss = {'output_1':tf.keras.losses.MeanSquaredError(),\n",
    "                        'output_2':tf.keras.losses.MeanSquaredError()},\n",
    "                optimizer = tf.keras.optimizers.Adam(lr),\n",
    "                metrics = {'output_1':[tf.keras.metrics.RootMeanSquaredError()],\n",
    "                             'output_2':[tf.keras.metrics.RootMeanSquaredError()]})"
   ]
  },
  {
   "cell_type": "code",
   "execution_count": 24,
   "metadata": {},
   "outputs": [
    {
     "name": "stdout",
     "output_type": "stream",
     "text": [
      "Epoch 1/100\n",
      "\u001b[1m507/516\u001b[0m \u001b[32m━━━━━━━━━━━━━━━━━━━\u001b[0m\u001b[37m━\u001b[0m \u001b[1m0s\u001b[0m 4ms/step - loss: 49448599552.0000 - output_1_root_mean_squared_error: 154944.5469 - output_2_root_mean_squared_error: 155770.9219\n",
      "Epoch 1: val_loss improved from inf to 22575923200.00000, saving model to best_model.keras\n",
      "\u001b[1m516/516\u001b[0m \u001b[32m━━━━━━━━━━━━━━━━━━━━\u001b[0m\u001b[37m\u001b[0m \u001b[1m11s\u001b[0m 6ms/step - loss: 49119981568.0000 - output_1_root_mean_squared_error: 154408.8906 - output_2_root_mean_squared_error: 155224.8594 - val_loss: 22575923200.0000 - val_output_1_root_mean_squared_error: 106307.2188 - val_output_2_root_mean_squared_error: 106182.4375\n",
      "Epoch 2/100\n",
      "\u001b[1m513/516\u001b[0m \u001b[32m━━━━━━━━━━━━━━━━━━━\u001b[0m\u001b[37m━\u001b[0m \u001b[1m0s\u001b[0m 4ms/step - loss: 19779977216.0000 - output_1_root_mean_squared_error: 99321.5781 - output_2_root_mean_squared_error: 99555.5781\n",
      "Epoch 2: val_loss improved from 22575923200.00000 to 20161292288.00000, saving model to best_model.keras\n",
      "\u001b[1m516/516\u001b[0m \u001b[32m━━━━━━━━━━━━━━━━━━━━\u001b[0m\u001b[37m\u001b[0m \u001b[1m2s\u001b[0m 4ms/step - loss: 19775121408.0000 - output_1_root_mean_squared_error: 99309.2422 - output_2_root_mean_squared_error: 99543.4531 - val_loss: 20161292288.0000 - val_output_1_root_mean_squared_error: 100401.0469 - val_output_2_root_mean_squared_error: 100403.7656\n",
      "Epoch 3/100\n",
      "\u001b[1m512/516\u001b[0m \u001b[32m━━━━━━━━━━━━━━━━━━━\u001b[0m\u001b[37m━\u001b[0m \u001b[1m0s\u001b[0m 4ms/step - loss: 18736988160.0000 - output_1_root_mean_squared_error: 96623.2109 - output_2_root_mean_squared_error: 96884.3516\n",
      "Epoch 3: val_loss improved from 20161292288.00000 to 18493403136.00000, saving model to best_model.keras\n",
      "\u001b[1m516/516\u001b[0m \u001b[32m━━━━━━━━━━━━━━━━━━━━\u001b[0m\u001b[37m\u001b[0m \u001b[1m2s\u001b[0m 5ms/step - loss: 18728228864.0000 - output_1_root_mean_squared_error: 96601.2969 - output_2_root_mean_squared_error: 96861.1719 - val_loss: 18493403136.0000 - val_output_1_root_mean_squared_error: 96174.2266 - val_output_2_root_mean_squared_error: 96145.3359\n",
      "Epoch 4/100\n",
      "\u001b[1m515/516\u001b[0m \u001b[32m━━━━━━━━━━━━━━━━━━━\u001b[0m\u001b[37m━\u001b[0m \u001b[1m0s\u001b[0m 4ms/step - loss: 16980466688.0000 - output_1_root_mean_squared_error: 92121.9609 - output_2_root_mean_squared_error: 92143.6406\n",
      "Epoch 4: val_loss did not improve from 18493403136.00000\n",
      "\u001b[1m516/516\u001b[0m \u001b[32m━━━━━━━━━━━━━━━━━━━━\u001b[0m\u001b[37m\u001b[0m \u001b[1m2s\u001b[0m 4ms/step - loss: 16978513920.0000 - output_1_root_mean_squared_error: 92116.6797 - output_2_root_mean_squared_error: 92138.3281 - val_loss: 22348673024.0000 - val_output_1_root_mean_squared_error: 105615.5312 - val_output_2_root_mean_squared_error: 105801.8203\n",
      "Epoch 5/100\n",
      "\u001b[1m510/516\u001b[0m \u001b[32m━━━━━━━━━━━━━━━━━━━\u001b[0m\u001b[37m━\u001b[0m \u001b[1m0s\u001b[0m 4ms/step - loss: 15901987840.0000 - output_1_root_mean_squared_error: 89143.3984 - output_2_root_mean_squared_error: 89182.2188\n",
      "Epoch 5: val_loss did not improve from 18493403136.00000\n",
      "\u001b[1m516/516\u001b[0m \u001b[32m━━━━━━━━━━━━━━━━━━━━\u001b[0m\u001b[37m\u001b[0m \u001b[1m2s\u001b[0m 4ms/step - loss: 15899211776.0000 - output_1_root_mean_squared_error: 89135.7656 - output_2_root_mean_squared_error: 89174.3828 - val_loss: 19295074304.0000 - val_output_1_root_mean_squared_error: 98005.5234 - val_output_2_root_mean_squared_error: 98437.7266\n",
      "Epoch 6/100\n",
      "\u001b[1m514/516\u001b[0m \u001b[32m━━━━━━━━━━━━━━━━━━━\u001b[0m\u001b[37m━\u001b[0m \u001b[1m0s\u001b[0m 4ms/step - loss: 15833737216.0000 - output_1_root_mean_squared_error: 88917.4531 - output_2_root_mean_squared_error: 88988.1016\n",
      "Epoch 6: val_loss did not improve from 18493403136.00000\n",
      "\u001b[1m516/516\u001b[0m \u001b[32m━━━━━━━━━━━━━━━━━━━━\u001b[0m\u001b[37m\u001b[0m \u001b[1m2s\u001b[0m 5ms/step - loss: 15830773760.0000 - output_1_root_mean_squared_error: 88909.2734 - output_2_root_mean_squared_error: 88979.7656 - val_loss: 18987986944.0000 - val_output_1_root_mean_squared_error: 97237.0938 - val_output_2_root_mean_squared_error: 97636.7578\n",
      "Epoch 7/100\n",
      "\u001b[1m514/516\u001b[0m \u001b[32m━━━━━━━━━━━━━━━━━━━\u001b[0m\u001b[37m━\u001b[0m \u001b[1m0s\u001b[0m 4ms/step - loss: 14434563072.0000 - output_1_root_mean_squared_error: 84916.8906 - output_2_root_mean_squared_error: 84973.7188\n",
      "Epoch 7: val_loss did not improve from 18493403136.00000\n",
      "\u001b[1m516/516\u001b[0m \u001b[32m━━━━━━━━━━━━━━━━━━━━\u001b[0m\u001b[37m\u001b[0m \u001b[1m2s\u001b[0m 4ms/step - loss: 14431546368.0000 - output_1_root_mean_squared_error: 84908.0391 - output_2_root_mean_squared_error: 84964.7656 - val_loss: 18494152704.0000 - val_output_1_root_mean_squared_error: 96136.4453 - val_output_2_root_mean_squared_error: 96186.9688\n",
      "Epoch 8/100\n",
      "\u001b[1m510/516\u001b[0m \u001b[32m━━━━━━━━━━━━━━━━━━━\u001b[0m\u001b[37m━\u001b[0m \u001b[1m0s\u001b[0m 4ms/step - loss: 14058690560.0000 - output_1_root_mean_squared_error: 83809.6719 - output_2_root_mean_squared_error: 83851.0156\n",
      "Epoch 8: val_loss improved from 18493403136.00000 to 13349968896.00000, saving model to best_model.keras\n",
      "\u001b[1m516/516\u001b[0m \u001b[32m━━━━━━━━━━━━━━━━━━━━\u001b[0m\u001b[37m\u001b[0m \u001b[1m2s\u001b[0m 5ms/step - loss: 14052446208.0000 - output_1_root_mean_squared_error: 83791.0781 - output_2_root_mean_squared_error: 83832.3516 - val_loss: 13349968896.0000 - val_output_1_root_mean_squared_error: 81746.7422 - val_output_2_root_mean_squared_error: 81654.3984\n",
      "Epoch 9/100\n",
      "\u001b[1m507/516\u001b[0m \u001b[32m━━━━━━━━━━━━━━━━━━━\u001b[0m\u001b[37m━\u001b[0m \u001b[1m0s\u001b[0m 4ms/step - loss: 12802873344.0000 - output_1_root_mean_squared_error: 79979.4062 - output_2_root_mean_squared_error: 80012.2812\n",
      "Epoch 9: val_loss did not improve from 13349968896.00000\n",
      "\u001b[1m516/516\u001b[0m \u001b[32m━━━━━━━━━━━━━━━━━━━━\u001b[0m\u001b[37m\u001b[0m \u001b[1m2s\u001b[0m 4ms/step - loss: 12795829248.0000 - output_1_root_mean_squared_error: 79957.5000 - output_2_root_mean_squared_error: 79990.3672 - val_loss: 15450172416.0000 - val_output_1_root_mean_squared_error: 87899.4609 - val_output_2_root_mean_squared_error: 87885.4688\n",
      "Epoch 10/100\n",
      "\u001b[1m504/516\u001b[0m \u001b[32m━━━━━━━━━━━━━━━━━━━\u001b[0m\u001b[37m━\u001b[0m \u001b[1m0s\u001b[0m 4ms/step - loss: 11858315264.0000 - output_1_root_mean_squared_error: 76987.3828 - output_2_root_mean_squared_error: 77000.8750\n",
      "Epoch 10: val_loss improved from 13349968896.00000 to 12515343360.00000, saving model to best_model.keras\n",
      "\u001b[1m516/516\u001b[0m \u001b[32m━━━━━━━━━━━━━━━━━━━━\u001b[0m\u001b[37m\u001b[0m \u001b[1m2s\u001b[0m 5ms/step - loss: 11856390144.0000 - output_1_root_mean_squared_error: 76981.2734 - output_2_root_mean_squared_error: 76994.8125 - val_loss: 12515343360.0000 - val_output_1_root_mean_squared_error: 79125.5391 - val_output_2_root_mean_squared_error: 79085.3438\n",
      "Epoch 11/100\n",
      "\u001b[1m512/516\u001b[0m \u001b[32m━━━━━━━━━━━━━━━━━━━\u001b[0m\u001b[37m━\u001b[0m \u001b[1m0s\u001b[0m 4ms/step - loss: 10939547648.0000 - output_1_root_mean_squared_error: 73922.4375 - output_2_root_mean_squared_error: 73937.5938\n",
      "Epoch 11: val_loss did not improve from 12515343360.00000\n",
      "\u001b[1m516/516\u001b[0m \u001b[32m━━━━━━━━━━━━━━━━━━━━\u001b[0m\u001b[37m\u001b[0m \u001b[1m2s\u001b[0m 4ms/step - loss: 10940981248.0000 - output_1_root_mean_squared_error: 73927.5391 - output_2_root_mean_squared_error: 73942.6953 - val_loss: 15347934208.0000 - val_output_1_root_mean_squared_error: 87491.9219 - val_output_2_root_mean_squared_error: 87710.2812\n",
      "Epoch 12/100\n",
      "\u001b[1m508/516\u001b[0m \u001b[32m━━━━━━━━━━━━━━━━━━━\u001b[0m\u001b[37m━\u001b[0m \u001b[1m0s\u001b[0m 4ms/step - loss: 10978528256.0000 - output_1_root_mean_squared_error: 74069.0703 - output_2_root_mean_squared_error: 74093.4688\n",
      "Epoch 12: val_loss improved from 12515343360.00000 to 10069761024.00000, saving model to best_model.keras\n",
      "\u001b[1m516/516\u001b[0m \u001b[32m━━━━━━━━━━━━━━━━━━━━\u001b[0m\u001b[37m\u001b[0m \u001b[1m2s\u001b[0m 4ms/step - loss: 10974296064.0000 - output_1_root_mean_squared_error: 74054.9375 - output_2_root_mean_squared_error: 74079.1641 - val_loss: 10069761024.0000 - val_output_1_root_mean_squared_error: 70927.6719 - val_output_2_root_mean_squared_error: 70986.1016\n",
      "Epoch 13/100\n",
      "\u001b[1m514/516\u001b[0m \u001b[32m━━━━━━━━━━━━━━━━━━━\u001b[0m\u001b[37m━\u001b[0m \u001b[1m0s\u001b[0m 4ms/step - loss: 10637560832.0000 - output_1_root_mean_squared_error: 72913.2578 - output_2_root_mean_squared_error: 72937.2812\n",
      "Epoch 13: val_loss did not improve from 10069761024.00000\n",
      "\u001b[1m516/516\u001b[0m \u001b[32m━━━━━━━━━━━━━━━━━━━━\u001b[0m\u001b[37m\u001b[0m \u001b[1m2s\u001b[0m 4ms/step - loss: 10636244992.0000 - output_1_root_mean_squared_error: 72908.7734 - output_2_root_mean_squared_error: 72932.7422 - val_loss: 14035407872.0000 - val_output_1_root_mean_squared_error: 83781.5000 - val_output_2_root_mean_squared_error: 83761.9922\n",
      "Epoch 14/100\n",
      "\u001b[1m512/516\u001b[0m \u001b[32m━━━━━━━━━━━━━━━━━━━\u001b[0m\u001b[37m━\u001b[0m \u001b[1m0s\u001b[0m 4ms/step - loss: 11005714432.0000 - output_1_root_mean_squared_error: 74152.3906 - output_2_root_mean_squared_error: 74175.2969\n",
      "Epoch 14: val_loss did not improve from 10069761024.00000\n",
      "\u001b[1m516/516\u001b[0m \u001b[32m━━━━━━━━━━━━━━━━━━━━\u001b[0m\u001b[37m\u001b[0m \u001b[1m2s\u001b[0m 4ms/step - loss: 10999040000.0000 - output_1_root_mean_squared_error: 74129.7344 - output_2_root_mean_squared_error: 74152.5703 - val_loss: 10773280768.0000 - val_output_1_root_mean_squared_error: 73371.6094 - val_output_2_root_mean_squared_error: 73415.8672\n",
      "Epoch 15/100\n",
      "\u001b[1m516/516\u001b[0m \u001b[32m━━━━━━━━━━━━━━━━━━━━\u001b[0m\u001b[37m\u001b[0m \u001b[1m0s\u001b[0m 4ms/step - loss: 10424795136.0000 - output_1_root_mean_squared_error: 72176.7266 - output_2_root_mean_squared_error: 72198.3750\n",
      "Epoch 15: val_loss did not improve from 10069761024.00000\n",
      "\u001b[1m516/516\u001b[0m \u001b[32m━━━━━━━━━━━━━━━━━━━━\u001b[0m\u001b[37m\u001b[0m \u001b[1m2s\u001b[0m 4ms/step - loss: 10424947712.0000 - output_1_root_mean_squared_error: 72177.2734 - output_2_root_mean_squared_error: 72198.9219 - val_loss: 10655882240.0000 - val_output_1_root_mean_squared_error: 72993.3516 - val_output_2_root_mean_squared_error: 72992.1641\n",
      "Epoch 16/100\n",
      "\u001b[1m511/516\u001b[0m \u001b[32m━━━━━━━━━━━━━━━━━━━\u001b[0m\u001b[37m━\u001b[0m \u001b[1m0s\u001b[0m 4ms/step - loss: 9804335104.0000 - output_1_root_mean_squared_error: 69999.8984 - output_2_root_mean_squared_error: 70016.7266\n",
      "Epoch 16: val_loss did not improve from 10069761024.00000\n",
      "\u001b[1m516/516\u001b[0m \u001b[32m━━━━━━━━━━━━━━━━━━━━\u001b[0m\u001b[37m\u001b[0m \u001b[1m2s\u001b[0m 4ms/step - loss: 9803257856.0000 - output_1_root_mean_squared_error: 69996.1562 - output_2_root_mean_squared_error: 70012.9375 - val_loss: 11106592768.0000 - val_output_1_root_mean_squared_error: 74529.4297 - val_output_2_root_mean_squared_error: 74511.4766\n",
      "Epoch 17/100\n",
      "\u001b[1m516/516\u001b[0m \u001b[32m━━━━━━━━━━━━━━━━━━━━\u001b[0m\u001b[37m\u001b[0m \u001b[1m0s\u001b[0m 4ms/step - loss: 9929135104.0000 - output_1_root_mean_squared_error: 70424.5078 - output_2_root_mean_squared_error: 70444.0938\n",
      "Epoch 17: val_loss did not improve from 10069761024.00000\n",
      "\u001b[1m516/516\u001b[0m \u001b[32m━━━━━━━━━━━━━━━━━━━━\u001b[0m\u001b[37m\u001b[0m \u001b[1m2s\u001b[0m 4ms/step - loss: 9928823808.0000 - output_1_root_mean_squared_error: 70423.4531 - output_2_root_mean_squared_error: 70443.0234 - val_loss: 12290782208.0000 - val_output_1_root_mean_squared_error: 78394.3750 - val_output_2_root_mean_squared_error: 78390.7109\n",
      "Epoch 18/100\n",
      "\u001b[1m511/516\u001b[0m \u001b[32m━━━━━━━━━━━━━━━━━━━\u001b[0m\u001b[37m━\u001b[0m \u001b[1m0s\u001b[0m 4ms/step - loss: 9465660416.0000 - output_1_root_mean_squared_error: 68781.7969 - output_2_root_mean_squared_error: 68794.3281\n",
      "Epoch 18: val_loss did not improve from 10069761024.00000\n",
      "\u001b[1m516/516\u001b[0m \u001b[32m━━━━━━━━━━━━━━━━━━━━\u001b[0m\u001b[37m\u001b[0m \u001b[1m2s\u001b[0m 4ms/step - loss: 9467040768.0000 - output_1_root_mean_squared_error: 68786.8672 - output_2_root_mean_squared_error: 68799.4297 - val_loss: 12324940800.0000 - val_output_1_root_mean_squared_error: 78471.1406 - val_output_2_root_mean_squared_error: 78531.6797\n",
      "Epoch 19/100\n",
      "\u001b[1m507/516\u001b[0m \u001b[32m━━━━━━━━━━━━━━━━━━━\u001b[0m\u001b[37m━\u001b[0m \u001b[1m0s\u001b[0m 4ms/step - loss: 8985398272.0000 - output_1_root_mean_squared_error: 67013.3828 - output_2_root_mean_squared_error: 67024.0547\n",
      "Epoch 19: val_loss did not improve from 10069761024.00000\n",
      "\u001b[1m516/516\u001b[0m \u001b[32m━━━━━━━━━━━━━━━━━━━━\u001b[0m\u001b[37m\u001b[0m \u001b[1m2s\u001b[0m 4ms/step - loss: 8990322688.0000 - output_1_root_mean_squared_error: 67031.7969 - output_2_root_mean_squared_error: 67042.4609 - val_loss: 13982920704.0000 - val_output_1_root_mean_squared_error: 83599.6641 - val_output_2_root_mean_squared_error: 83630.2578\n",
      "Epoch 20/100\n",
      "\u001b[1m512/516\u001b[0m \u001b[32m━━━━━━━━━━━━━━━━━━━\u001b[0m\u001b[37m━\u001b[0m \u001b[1m0s\u001b[0m 4ms/step - loss: 9472178176.0000 - output_1_root_mean_squared_error: 68782.2109 - output_2_root_mean_squared_error: 68831.0938\n",
      "Epoch 20: val_loss did not improve from 10069761024.00000\n",
      "\u001b[1m516/516\u001b[0m \u001b[32m━━━━━━━━━━━━━━━━━━━━\u001b[0m\u001b[37m\u001b[0m \u001b[1m2s\u001b[0m 4ms/step - loss: 9471355904.0000 - output_1_root_mean_squared_error: 68779.4297 - output_2_root_mean_squared_error: 68828.1250 - val_loss: 10384340992.0000 - val_output_1_root_mean_squared_error: 72063.2344 - val_output_2_root_mean_squared_error: 72050.1797\n",
      "Epoch 21/100\n",
      "\u001b[1m511/516\u001b[0m \u001b[32m━━━━━━━━━━━━━━━━━━━\u001b[0m\u001b[37m━\u001b[0m \u001b[1m0s\u001b[0m 4ms/step - loss: 9592296448.0000 - output_1_root_mean_squared_error: 69229.0781 - output_2_root_mean_squared_error: 69246.5547\n",
      "Epoch 21: val_loss did not improve from 10069761024.00000\n",
      "\u001b[1m516/516\u001b[0m \u001b[32m━━━━━━━━━━━━━━━━━━━━\u001b[0m\u001b[37m\u001b[0m \u001b[1m2s\u001b[0m 4ms/step - loss: 9589018624.0000 - output_1_root_mean_squared_error: 69217.3672 - output_2_root_mean_squared_error: 69234.7969 - val_loss: 18074583040.0000 - val_output_1_root_mean_squared_error: 94974.1250 - val_output_2_root_mean_squared_error: 95155.1328\n",
      "Epoch 22/100\n",
      "\u001b[1m515/516\u001b[0m \u001b[32m━━━━━━━━━━━━━━━━━━━\u001b[0m\u001b[37m━\u001b[0m \u001b[1m0s\u001b[0m 4ms/step - loss: 8784286720.0000 - output_1_root_mean_squared_error: 66256.4219 - output_2_root_mean_squared_error: 66271.7109\n",
      "Epoch 22: val_loss did not improve from 10069761024.00000\n",
      "\u001b[1m516/516\u001b[0m \u001b[32m━━━━━━━━━━━━━━━━━━━━\u001b[0m\u001b[37m\u001b[0m \u001b[1m2s\u001b[0m 4ms/step - loss: 8785204224.0000 - output_1_root_mean_squared_error: 66259.8984 - output_2_root_mean_squared_error: 66275.1797 - val_loss: 10544701440.0000 - val_output_1_root_mean_squared_error: 72628.4922 - val_output_2_root_mean_squared_error: 72593.3906\n",
      "Epoch 23/100\n",
      "\u001b[1m512/516\u001b[0m \u001b[32m━━━━━━━━━━━━━━━━━━━\u001b[0m\u001b[37m━\u001b[0m \u001b[1m0s\u001b[0m 4ms/step - loss: 9210015744.0000 - output_1_root_mean_squared_error: 67851.4219 - output_2_root_mean_squared_error: 67863.1641\n",
      "Epoch 23: val_loss did not improve from 10069761024.00000\n",
      "\u001b[1m516/516\u001b[0m \u001b[32m━━━━━━━━━━━━━━━━━━━━\u001b[0m\u001b[37m\u001b[0m \u001b[1m2s\u001b[0m 4ms/step - loss: 9209441280.0000 - output_1_root_mean_squared_error: 67849.3281 - output_2_root_mean_squared_error: 67861.0781 - val_loss: 11027110912.0000 - val_output_1_root_mean_squared_error: 74240.9766 - val_output_2_root_mean_squared_error: 74265.6719\n",
      "Epoch 24/100\n",
      "\u001b[1m511/516\u001b[0m \u001b[32m━━━━━━━━━━━━━━━━━━━\u001b[0m\u001b[37m━\u001b[0m \u001b[1m0s\u001b[0m 4ms/step - loss: 9287593984.0000 - output_1_root_mean_squared_error: 68114.7031 - output_2_root_mean_squared_error: 68131.3281\n",
      "Epoch 24: val_loss did not improve from 10069761024.00000\n",
      "\u001b[1m516/516\u001b[0m \u001b[32m━━━━━━━━━━━━━━━━━━━━\u001b[0m\u001b[37m\u001b[0m \u001b[1m2s\u001b[0m 4ms/step - loss: 9285196800.0000 - output_1_root_mean_squared_error: 68106.1328 - output_2_root_mean_squared_error: 68122.7266 - val_loss: 10091424768.0000 - val_output_1_root_mean_squared_error: 71050.5938 - val_output_2_root_mean_squared_error: 71015.7656\n",
      "Epoch 25/100\n",
      "\u001b[1m516/516\u001b[0m \u001b[32m━━━━━━━━━━━━━━━━━━━━\u001b[0m\u001b[37m\u001b[0m \u001b[1m0s\u001b[0m 4ms/step - loss: 8978937856.0000 - output_1_root_mean_squared_error: 66989.4062 - output_2_root_mean_squared_error: 67003.1953\n",
      "Epoch 25: val_loss did not improve from 10069761024.00000\n",
      "\u001b[1m516/516\u001b[0m \u001b[32m━━━━━━━━━━━━━━━━━━━━\u001b[0m\u001b[37m\u001b[0m \u001b[1m2s\u001b[0m 4ms/step - loss: 8978765824.0000 - output_1_root_mean_squared_error: 66988.7734 - output_2_root_mean_squared_error: 67002.5625 - val_loss: 11821549568.0000 - val_output_1_root_mean_squared_error: 76865.8984 - val_output_2_root_mean_squared_error: 76897.2266\n",
      "Epoch 26/100\n",
      "\u001b[1m504/516\u001b[0m \u001b[32m━━━━━━━━━━━━━━━━━━━\u001b[0m\u001b[37m━\u001b[0m \u001b[1m0s\u001b[0m 4ms/step - loss: 8829028352.0000 - output_1_root_mean_squared_error: 66411.5078 - output_2_root_mean_squared_error: 66421.4453\n",
      "Epoch 26: val_loss did not improve from 10069761024.00000\n",
      "\u001b[1m516/516\u001b[0m \u001b[32m━━━━━━━━━━━━━━━━━━━━\u001b[0m\u001b[37m\u001b[0m \u001b[1m2s\u001b[0m 4ms/step - loss: 8831817728.0000 - output_1_root_mean_squared_error: 66422.6094 - output_2_root_mean_squared_error: 66432.5469 - val_loss: 10468633600.0000 - val_output_1_root_mean_squared_error: 72354.6250 - val_output_2_root_mean_squared_error: 72342.5156\n",
      "Epoch 27/100\n",
      "\u001b[1m515/516\u001b[0m \u001b[32m━━━━━━━━━━━━━━━━━━━\u001b[0m\u001b[37m━\u001b[0m \u001b[1m0s\u001b[0m 4ms/step - loss: 8976025600.0000 - output_1_root_mean_squared_error: 66967.5625 - output_2_root_mean_squared_error: 66974.3281\n",
      "Epoch 27: val_loss did not improve from 10069761024.00000\n",
      "\u001b[1m516/516\u001b[0m \u001b[32m━━━━━━━━━━━━━━━━━━━━\u001b[0m\u001b[37m\u001b[0m \u001b[1m2s\u001b[0m 4ms/step - loss: 8974767104.0000 - output_1_root_mean_squared_error: 66962.9062 - output_2_root_mean_squared_error: 66969.6719 - val_loss: 10641457152.0000 - val_output_1_root_mean_squared_error: 72971.2031 - val_output_2_root_mean_squared_error: 72915.4062\n",
      "Epoch 28/100\n",
      "\u001b[1m507/516\u001b[0m \u001b[32m━━━━━━━━━━━━━━━━━━━\u001b[0m\u001b[37m━\u001b[0m \u001b[1m0s\u001b[0m 4ms/step - loss: 8635736064.0000 - output_1_root_mean_squared_error: 65696.8359 - output_2_root_mean_squared_error: 65707.0547\n",
      "Epoch 28: val_loss did not improve from 10069761024.00000\n",
      "\u001b[1m516/516\u001b[0m \u001b[32m━━━━━━━━━━━━━━━━━━━━\u001b[0m\u001b[37m\u001b[0m \u001b[1m2s\u001b[0m 5ms/step - loss: 8643018752.0000 - output_1_root_mean_squared_error: 65724.3984 - output_2_root_mean_squared_error: 65734.6406 - val_loss: 19401142272.0000 - val_output_1_root_mean_squared_error: 98474.2344 - val_output_2_root_mean_squared_error: 98508.7109\n",
      "Epoch 29/100\n",
      "\u001b[1m513/516\u001b[0m \u001b[32m━━━━━━━━━━━━━━━━━━━\u001b[0m\u001b[37m━\u001b[0m \u001b[1m0s\u001b[0m 4ms/step - loss: 9308825600.0000 - output_1_root_mean_squared_error: 68158.0234 - output_2_root_mean_squared_error: 68169.2656\n",
      "Epoch 29: val_loss did not improve from 10069761024.00000\n",
      "\u001b[1m516/516\u001b[0m \u001b[32m━━━━━━━━━━━━━━━━━━━━\u001b[0m\u001b[37m\u001b[0m \u001b[1m2s\u001b[0m 4ms/step - loss: 9305796608.0000 - output_1_root_mean_squared_error: 68147.2656 - output_2_root_mean_squared_error: 68158.5156 - val_loss: 12074099712.0000 - val_output_1_root_mean_squared_error: 77692.0703 - val_output_2_root_mean_squared_error: 77704.8281\n",
      "Epoch 30/100\n",
      "\u001b[1m510/516\u001b[0m \u001b[32m━━━━━━━━━━━━━━━━━━━\u001b[0m\u001b[37m━\u001b[0m \u001b[1m0s\u001b[0m 4ms/step - loss: 8865172480.0000 - output_1_root_mean_squared_error: 66559.1953 - output_2_root_mean_squared_error: 66569.6641\n",
      "Epoch 30: val_loss improved from 10069761024.00000 to 9362883584.00000, saving model to best_model.keras\n",
      "\u001b[1m516/516\u001b[0m \u001b[32m━━━━━━━━━━━━━━━━━━━━\u001b[0m\u001b[37m\u001b[0m \u001b[1m2s\u001b[0m 5ms/step - loss: 8864700416.0000 - output_1_root_mean_squared_error: 66557.5938 - output_2_root_mean_squared_error: 66568.0781 - val_loss: 9362883584.0000 - val_output_1_root_mean_squared_error: 68425.5078 - val_output_2_root_mean_squared_error: 68416.6094\n",
      "Epoch 31/100\n",
      "\u001b[1m514/516\u001b[0m \u001b[32m━━━━━━━━━━━━━━━━━━━\u001b[0m\u001b[37m━\u001b[0m \u001b[1m0s\u001b[0m 4ms/step - loss: 8779032576.0000 - output_1_root_mean_squared_error: 66234.5156 - output_2_root_mean_squared_error: 66244.6172\n",
      "Epoch 31: val_loss did not improve from 9362883584.00000\n",
      "\u001b[1m516/516\u001b[0m \u001b[32m━━━━━━━━━━━━━━━━━━━━\u001b[0m\u001b[37m\u001b[0m \u001b[1m2s\u001b[0m 4ms/step - loss: 8779425792.0000 - output_1_root_mean_squared_error: 66236.0781 - output_2_root_mean_squared_error: 66246.1797 - val_loss: 10741069824.0000 - val_output_1_root_mean_squared_error: 73287.0703 - val_output_2_root_mean_squared_error: 73280.7734\n",
      "Epoch 32/100\n",
      "\u001b[1m503/516\u001b[0m \u001b[32m━━━━━━━━━━━━━━━━━━━\u001b[0m\u001b[37m━\u001b[0m \u001b[1m0s\u001b[0m 4ms/step - loss: 9043889152.0000 - output_1_root_mean_squared_error: 67188.3984 - output_2_root_mean_squared_error: 67202.7188\n",
      "Epoch 32: val_loss did not improve from 9362883584.00000\n",
      "\u001b[1m516/516\u001b[0m \u001b[32m━━━━━━━━━━━━━━━━━━━━\u001b[0m\u001b[37m\u001b[0m \u001b[1m2s\u001b[0m 4ms/step - loss: 9038237696.0000 - output_1_root_mean_squared_error: 67168.6797 - output_2_root_mean_squared_error: 67182.8672 - val_loss: 16945258496.0000 - val_output_1_root_mean_squared_error: 92028.8594 - val_output_2_root_mean_squared_error: 92064.9141\n",
      "Epoch 33/100\n",
      "\u001b[1m511/516\u001b[0m \u001b[32m━━━━━━━━━━━━━━━━━━━\u001b[0m\u001b[37m━\u001b[0m \u001b[1m0s\u001b[0m 4ms/step - loss: 8760130560.0000 - output_1_root_mean_squared_error: 66162.7188 - output_2_root_mean_squared_error: 66171.7422\n",
      "Epoch 33: val_loss improved from 9362883584.00000 to 9280807936.00000, saving model to best_model.keras\n",
      "\u001b[1m516/516\u001b[0m \u001b[32m━━━━━━━━━━━━━━━━━━━━\u001b[0m\u001b[37m\u001b[0m \u001b[1m2s\u001b[0m 4ms/step - loss: 8761670656.0000 - output_1_root_mean_squared_error: 66168.6875 - output_2_root_mean_squared_error: 66177.7109 - val_loss: 9280807936.0000 - val_output_1_root_mean_squared_error: 68125.8828 - val_output_2_root_mean_squared_error: 68115.1250\n",
      "Epoch 34/100\n",
      "\u001b[1m513/516\u001b[0m \u001b[32m━━━━━━━━━━━━━━━━━━━\u001b[0m\u001b[37m━\u001b[0m \u001b[1m0s\u001b[0m 4ms/step - loss: 8516573696.0000 - output_1_root_mean_squared_error: 65244.2500 - output_2_root_mean_squared_error: 65252.7812\n",
      "Epoch 34: val_loss did not improve from 9280807936.00000\n",
      "\u001b[1m516/516\u001b[0m \u001b[32m━━━━━━━━━━━━━━━━━━━━\u001b[0m\u001b[37m\u001b[0m \u001b[1m2s\u001b[0m 4ms/step - loss: 8517203456.0000 - output_1_root_mean_squared_error: 65246.7188 - output_2_root_mean_squared_error: 65255.2344 - val_loss: 12842298368.0000 - val_output_1_root_mean_squared_error: 80131.0078 - val_output_2_root_mean_squared_error: 80133.1094\n",
      "Epoch 35/100\n",
      "\u001b[1m504/516\u001b[0m \u001b[32m━━━━━━━━━━━━━━━━━━━\u001b[0m\u001b[37m━\u001b[0m \u001b[1m0s\u001b[0m 3ms/step - loss: 8846465024.0000 - output_1_root_mean_squared_error: 66482.7500 - output_2_root_mean_squared_error: 66490.8281\n",
      "Epoch 35: val_loss did not improve from 9280807936.00000\n",
      "\u001b[1m516/516\u001b[0m \u001b[32m━━━━━━━━━━━━━━━━━━━━\u001b[0m\u001b[37m\u001b[0m \u001b[1m2s\u001b[0m 4ms/step - loss: 8849086464.0000 - output_1_root_mean_squared_error: 66493.0547 - output_2_root_mean_squared_error: 66501.2109 - val_loss: 11789772800.0000 - val_output_1_root_mean_squared_error: 76814.4922 - val_output_2_root_mean_squared_error: 76741.7812\n",
      "Epoch 36/100\n",
      "\u001b[1m505/516\u001b[0m \u001b[32m━━━━━━━━━━━━━━━━━━━\u001b[0m\u001b[37m━\u001b[0m \u001b[1m0s\u001b[0m 3ms/step - loss: 8771083264.0000 - output_1_root_mean_squared_error: 66207.4453 - output_2_root_mean_squared_error: 66214.9609\n",
      "Epoch 36: val_loss did not improve from 9280807936.00000\n",
      "\u001b[1m516/516\u001b[0m \u001b[32m━━━━━━━━━━━━━━━━━━━━\u001b[0m\u001b[37m\u001b[0m \u001b[1m2s\u001b[0m 4ms/step - loss: 8769272832.0000 - output_1_root_mean_squared_error: 66200.8750 - output_2_root_mean_squared_error: 66208.4062 - val_loss: 14172779520.0000 - val_output_1_root_mean_squared_error: 84168.9688 - val_output_2_root_mean_squared_error: 84192.4375\n",
      "Epoch 37/100\n",
      "\u001b[1m514/516\u001b[0m \u001b[32m━━━━━━━━━━━━━━━━━━━\u001b[0m\u001b[37m━\u001b[0m \u001b[1m0s\u001b[0m 4ms/step - loss: 8368407040.0000 - output_1_root_mean_squared_error: 64660.5469 - output_2_root_mean_squared_error: 64667.1953\n",
      "Epoch 37: val_loss did not improve from 9280807936.00000\n",
      "\u001b[1m516/516\u001b[0m \u001b[32m━━━━━━━━━━━━━━━━━━━━\u001b[0m\u001b[37m\u001b[0m \u001b[1m2s\u001b[0m 4ms/step - loss: 8370281472.0000 - output_1_root_mean_squared_error: 64667.8477 - output_2_root_mean_squared_error: 64674.4961 - val_loss: 12835975168.0000 - val_output_1_root_mean_squared_error: 80107.8203 - val_output_2_root_mean_squared_error: 80116.8516\n",
      "Epoch 38/100\n",
      "\u001b[1m501/516\u001b[0m \u001b[32m━━━━━━━━━━━━━━━━━━━\u001b[0m\u001b[37m━\u001b[0m \u001b[1m0s\u001b[0m 4ms/step - loss: 8579374080.0000 - output_1_root_mean_squared_error: 65489.2227 - output_2_root_mean_squared_error: 65494.0977\n",
      "Epoch 38: val_loss did not improve from 9280807936.00000\n",
      "\u001b[1m516/516\u001b[0m \u001b[32m━━━━━━━━━━━━━━━━━━━━\u001b[0m\u001b[37m\u001b[0m \u001b[1m2s\u001b[0m 4ms/step - loss: 8582342144.0000 - output_1_root_mean_squared_error: 65500.6211 - output_2_root_mean_squared_error: 65505.5430 - val_loss: 10346277888.0000 - val_output_1_root_mean_squared_error: 71921.2422 - val_output_2_root_mean_squared_error: 71927.8203\n",
      "Epoch 39/100\n",
      "\u001b[1m510/516\u001b[0m \u001b[32m━━━━━━━━━━━━━━━━━━━\u001b[0m\u001b[37m━\u001b[0m \u001b[1m0s\u001b[0m 3ms/step - loss: 8909237248.0000 - output_1_root_mean_squared_error: 66731.6641 - output_2_root_mean_squared_error: 66740.2031\n",
      "Epoch 39: val_loss improved from 9280807936.00000 to 9233137664.00000, saving model to best_model.keras\n",
      "\u001b[1m516/516\u001b[0m \u001b[32m━━━━━━━━━━━━━━━━━━━━\u001b[0m\u001b[37m\u001b[0m \u001b[1m2s\u001b[0m 4ms/step - loss: 8906894336.0000 - output_1_root_mean_squared_error: 66722.9453 - output_2_root_mean_squared_error: 66731.4609 - val_loss: 9233137664.0000 - val_output_1_root_mean_squared_error: 67949.8828 - val_output_2_root_mean_squared_error: 67940.7578\n",
      "Epoch 40/100\n",
      "\u001b[1m510/516\u001b[0m \u001b[32m━━━━━━━━━━━━━━━━━━━\u001b[0m\u001b[37m━\u001b[0m \u001b[1m0s\u001b[0m 4ms/step - loss: 9108872192.0000 - output_1_root_mean_squared_error: 67470.3047 - output_2_root_mean_squared_error: 67479.0547\n",
      "Epoch 40: val_loss did not improve from 9233137664.00000\n",
      "\u001b[1m516/516\u001b[0m \u001b[32m━━━━━━━━━━━━━━━━━━━━\u001b[0m\u001b[37m\u001b[0m \u001b[1m2s\u001b[0m 4ms/step - loss: 9103000576.0000 - output_1_root_mean_squared_error: 67448.4766 - output_2_root_mean_squared_error: 67457.1797 - val_loss: 16460430336.0000 - val_output_1_root_mean_squared_error: 90709.0547 - val_output_2_root_mean_squared_error: 90732.0234\n",
      "Epoch 41/100\n",
      "\u001b[1m514/516\u001b[0m \u001b[32m━━━━━━━━━━━━━━━━━━━\u001b[0m\u001b[37m━\u001b[0m \u001b[1m0s\u001b[0m 4ms/step - loss: 8740642816.0000 - output_1_root_mean_squared_error: 66087.4531 - output_2_root_mean_squared_error: 66092.3438\n",
      "Epoch 41: val_loss did not improve from 9233137664.00000\n",
      "\u001b[1m516/516\u001b[0m \u001b[32m━━━━━━━━━━━━━━━━━━━━\u001b[0m\u001b[37m\u001b[0m \u001b[1m2s\u001b[0m 4ms/step - loss: 8739487744.0000 - output_1_root_mean_squared_error: 66083.1719 - output_2_root_mean_squared_error: 66088.0547 - val_loss: 16046515200.0000 - val_output_1_root_mean_squared_error: 89571.4922 - val_output_2_root_mean_squared_error: 89573.7656\n",
      "Epoch 42/100\n",
      "\u001b[1m512/516\u001b[0m \u001b[32m━━━━━━━━━━━━━━━━━━━\u001b[0m\u001b[37m━\u001b[0m \u001b[1m0s\u001b[0m 4ms/step - loss: 8352601088.0000 - output_1_root_mean_squared_error: 64598.8125 - output_2_root_mean_squared_error: 64602.7148\n",
      "Epoch 42: val_loss did not improve from 9233137664.00000\n",
      "\u001b[1m516/516\u001b[0m \u001b[32m━━━━━━━━━━━━━━━━━━━━\u001b[0m\u001b[37m\u001b[0m \u001b[1m2s\u001b[0m 4ms/step - loss: 8353146368.0000 - output_1_root_mean_squared_error: 64601.1484 - output_2_root_mean_squared_error: 64605.0469 - val_loss: 13359570944.0000 - val_output_1_root_mean_squared_error: 81728.6172 - val_output_2_root_mean_squared_error: 81731.3125\n",
      "Epoch 43/100\n",
      "\u001b[1m510/516\u001b[0m \u001b[32m━━━━━━━━━━━━━━━━━━━\u001b[0m\u001b[37m━\u001b[0m \u001b[1m0s\u001b[0m 3ms/step - loss: 8103758336.0000 - output_1_root_mean_squared_error: 63644.4922 - output_2_root_mean_squared_error: 63648.2344\n",
      "Epoch 43: val_loss did not improve from 9233137664.00000\n",
      "\u001b[1m516/516\u001b[0m \u001b[32m━━━━━━━━━━━━━━━━━━━━\u001b[0m\u001b[37m\u001b[0m \u001b[1m2s\u001b[0m 4ms/step - loss: 8106908160.0000 - output_1_root_mean_squared_error: 63656.8789 - output_2_root_mean_squared_error: 63660.6328 - val_loss: 11221741568.0000 - val_output_1_root_mean_squared_error: 74905.3984 - val_output_2_root_mean_squared_error: 74906.0781\n",
      "Epoch 44/100\n",
      "\u001b[1m512/516\u001b[0m \u001b[32m━━━━━━━━━━━━━━━━━━━\u001b[0m\u001b[37m━\u001b[0m \u001b[1m0s\u001b[0m 4ms/step - loss: 8373474816.0000 - output_1_root_mean_squared_error: 64693.7266 - output_2_root_mean_squared_error: 64700.4570\n",
      "Epoch 44: val_loss did not improve from 9233137664.00000\n",
      "\u001b[1m516/516\u001b[0m \u001b[32m━━━━━━━━━━━━━━━━━━━━\u001b[0m\u001b[37m\u001b[0m \u001b[1m2s\u001b[0m 4ms/step - loss: 8373887488.0000 - output_1_root_mean_squared_error: 64695.3984 - output_2_root_mean_squared_error: 64702.1250 - val_loss: 9668771840.0000 - val_output_1_root_mean_squared_error: 69530.1641 - val_output_2_root_mean_squared_error: 69529.3125\n",
      "Epoch 45/100\n",
      "\u001b[1m507/516\u001b[0m \u001b[32m━━━━━━━━━━━━━━━━━━━\u001b[0m\u001b[37m━\u001b[0m \u001b[1m0s\u001b[0m 4ms/step - loss: 8213713408.0000 - output_1_root_mean_squared_error: 64066.7969 - output_2_root_mean_squared_error: 64071.5469\n",
      "Epoch 45: val_loss did not improve from 9233137664.00000\n",
      "\u001b[1m516/516\u001b[0m \u001b[32m━━━━━━━━━━━━━━━━━━━━\u001b[0m\u001b[37m\u001b[0m \u001b[1m2s\u001b[0m 4ms/step - loss: 8215597056.0000 - output_1_root_mean_squared_error: 64074.4336 - output_2_root_mean_squared_error: 64079.1641 - val_loss: 10196988928.0000 - val_output_1_root_mean_squared_error: 71409.9453 - val_output_2_root_mean_squared_error: 71397.5312\n",
      "Epoch 46/100\n",
      "\u001b[1m512/516\u001b[0m \u001b[32m━━━━━━━━━━━━━━━━━━━\u001b[0m\u001b[37m━\u001b[0m \u001b[1m0s\u001b[0m 3ms/step - loss: 8459865088.0000 - output_1_root_mean_squared_error: 65018.1172 - output_2_root_mean_squared_error: 65025.5117\n",
      "Epoch 46: val_loss did not improve from 9233137664.00000\n",
      "\u001b[1m516/516\u001b[0m \u001b[32m━━━━━━━━━━━━━━━━━━━━\u001b[0m\u001b[37m\u001b[0m \u001b[1m2s\u001b[0m 4ms/step - loss: 8462340608.0000 - output_1_root_mean_squared_error: 65027.7148 - output_2_root_mean_squared_error: 65035.1172 - val_loss: 11155930112.0000 - val_output_1_root_mean_squared_error: 74688.5234 - val_output_2_root_mean_squared_error: 74683.0312\n",
      "Epoch 47/100\n",
      "\u001b[1m508/516\u001b[0m \u001b[32m━━━━━━━━━━━━━━━━━━━\u001b[0m\u001b[37m━\u001b[0m \u001b[1m0s\u001b[0m 4ms/step - loss: 8849457152.0000 - output_1_root_mean_squared_error: 66499.1797 - output_2_root_mean_squared_error: 66504.2031\n",
      "Epoch 47: val_loss did not improve from 9233137664.00000\n",
      "\u001b[1m516/516\u001b[0m \u001b[32m━━━━━━━━━━━━━━━━━━━━\u001b[0m\u001b[37m\u001b[0m \u001b[1m2s\u001b[0m 4ms/step - loss: 8843478016.0000 - output_1_root_mean_squared_error: 66476.7891 - output_2_root_mean_squared_error: 66481.7969 - val_loss: 11563499520.0000 - val_output_1_root_mean_squared_error: 76048.0469 - val_output_2_root_mean_squared_error: 76027.6094\n",
      "Epoch 48/100\n",
      "\u001b[1m513/516\u001b[0m \u001b[32m━━━━━━━━━━━━━━━━━━━\u001b[0m\u001b[37m━\u001b[0m \u001b[1m0s\u001b[0m 4ms/step - loss: 8117851136.0000 - output_1_root_mean_squared_error: 63665.9531 - output_2_root_mean_squared_error: 63668.8125\n",
      "Epoch 48: val_loss did not improve from 9233137664.00000\n",
      "\u001b[1m516/516\u001b[0m \u001b[32m━━━━━━━━━━━━━━━━━━━━\u001b[0m\u001b[37m\u001b[0m \u001b[1m2s\u001b[0m 4ms/step - loss: 8119462912.0000 - output_1_root_mean_squared_error: 63672.5664 - output_2_root_mean_squared_error: 63675.4219 - val_loss: 12826316800.0000 - val_output_1_root_mean_squared_error: 80074.1641 - val_output_2_root_mean_squared_error: 80090.2266\n",
      "Epoch 49/100\n",
      "\u001b[1m508/516\u001b[0m \u001b[32m━━━━━━━━━━━━━━━━━━━\u001b[0m\u001b[37m━\u001b[0m \u001b[1m0s\u001b[0m 3ms/step - loss: 8441506304.0000 - output_1_root_mean_squared_error: 64944.8398 - output_2_root_mean_squared_error: 64947.5820\n",
      "Epoch 49: val_loss did not improve from 9233137664.00000\n",
      "\u001b[1m516/516\u001b[0m \u001b[32m━━━━━━━━━━━━━━━━━━━━\u001b[0m\u001b[37m\u001b[0m \u001b[1m2s\u001b[0m 4ms/step - loss: 8442920960.0000 - output_1_root_mean_squared_error: 64950.6406 - output_2_root_mean_squared_error: 64953.3789 - val_loss: 10226819072.0000 - val_output_1_root_mean_squared_error: 71508.8672 - val_output_2_root_mean_squared_error: 71507.3594\n",
      "Epoch 50/100\n",
      "\u001b[1m502/516\u001b[0m \u001b[32m━━━━━━━━━━━━━━━━━━━\u001b[0m\u001b[37m━\u001b[0m \u001b[1m0s\u001b[0m 4ms/step - loss: 8784107520.0000 - output_1_root_mean_squared_error: 66256.9531 - output_2_root_mean_squared_error: 66258.3906\n",
      "Epoch 50: val_loss did not improve from 9233137664.00000\n",
      "\u001b[1m516/516\u001b[0m \u001b[32m━━━━━━━━━━━━━━━━━━━━\u001b[0m\u001b[37m\u001b[0m \u001b[1m2s\u001b[0m 4ms/step - loss: 8780483584.0000 - output_1_root_mean_squared_error: 66243.6562 - output_2_root_mean_squared_error: 66245.1094 - val_loss: 13833155584.0000 - val_output_1_root_mean_squared_error: 83167.5234 - val_output_2_root_mean_squared_error: 83164.4219\n",
      "Epoch 51/100\n",
      "\u001b[1m502/516\u001b[0m \u001b[32m━━━━━━━━━━━━━━━━━━━\u001b[0m\u001b[37m━\u001b[0m \u001b[1m0s\u001b[0m 4ms/step - loss: 8606095360.0000 - output_1_root_mean_squared_error: 65584.2578 - output_2_root_mean_squared_error: 65586.4062\n",
      "Epoch 51: val_loss did not improve from 9233137664.00000\n",
      "\u001b[1m516/516\u001b[0m \u001b[32m━━━━━━━━━━━━━━━━━━━━\u001b[0m\u001b[37m\u001b[0m \u001b[1m2s\u001b[0m 4ms/step - loss: 8603164672.0000 - output_1_root_mean_squared_error: 65573.4141 - output_2_root_mean_squared_error: 65575.5625 - val_loss: 11743522816.0000 - val_output_1_root_mean_squared_error: 76622.3828 - val_output_2_root_mean_squared_error: 76632.4453\n",
      "Epoch 52/100\n",
      "\u001b[1m509/516\u001b[0m \u001b[32m━━━━━━━━━━━━━━━━━━━\u001b[0m\u001b[37m━\u001b[0m \u001b[1m0s\u001b[0m 4ms/step - loss: 7913718272.0000 - output_1_root_mean_squared_error: 62857.4336 - output_2_root_mean_squared_error: 62859.5664\n",
      "Epoch 52: val_loss did not improve from 9233137664.00000\n",
      "\u001b[1m516/516\u001b[0m \u001b[32m━━━━━━━━━━━━━━━━━━━━\u001b[0m\u001b[37m\u001b[0m \u001b[1m2s\u001b[0m 4ms/step - loss: 7917969408.0000 - output_1_root_mean_squared_error: 62874.8828 - output_2_root_mean_squared_error: 62877.0195 - val_loss: 9517669376.0000 - val_output_1_root_mean_squared_error: 68985.0703 - val_output_2_root_mean_squared_error: 68983.5312\n",
      "Epoch 53/100\n",
      "\u001b[1m506/516\u001b[0m \u001b[32m━━━━━━━━━━━━━━━━━━━\u001b[0m\u001b[37m━\u001b[0m \u001b[1m0s\u001b[0m 3ms/step - loss: 7702063616.0000 - output_1_root_mean_squared_error: 62044.8281 - output_2_root_mean_squared_error: 62048.6836\n",
      "Epoch 53: val_loss did not improve from 9233137664.00000\n",
      "\u001b[1m516/516\u001b[0m \u001b[32m━━━━━━━━━━━━━━━━━━━━\u001b[0m\u001b[37m\u001b[0m \u001b[1m2s\u001b[0m 4ms/step - loss: 7714327040.0000 - output_1_root_mean_squared_error: 62093.5430 - output_2_root_mean_squared_error: 62097.4102 - val_loss: 12040089600.0000 - val_output_1_root_mean_squared_error: 77581.3516 - val_output_2_root_mean_squared_error: 77596.5312\n",
      "Epoch 54/100\n",
      "\u001b[1m508/516\u001b[0m \u001b[32m━━━━━━━━━━━━━━━━━━━\u001b[0m\u001b[37m━\u001b[0m \u001b[1m0s\u001b[0m 4ms/step - loss: 8566855680.0000 - output_1_root_mean_squared_error: 65430.1641 - output_2_root_mean_squared_error: 65434.7930\n",
      "Epoch 54: val_loss did not improve from 9233137664.00000\n",
      "\u001b[1m516/516\u001b[0m \u001b[32m━━━━━━━━━━━━━━━━━━━━\u001b[0m\u001b[37m\u001b[0m \u001b[1m2s\u001b[0m 4ms/step - loss: 8564798976.0000 - output_1_root_mean_squared_error: 65422.5430 - output_2_root_mean_squared_error: 65427.1836 - val_loss: 11284107264.0000 - val_output_1_root_mean_squared_error: 75123.0938 - val_output_2_root_mean_squared_error: 75104.0781\n",
      "Epoch 55/100\n",
      "\u001b[1m508/516\u001b[0m \u001b[32m━━━━━━━━━━━━━━━━━━━\u001b[0m\u001b[37m━\u001b[0m \u001b[1m0s\u001b[0m 4ms/step - loss: 8318572544.0000 - output_1_root_mean_squared_error: 64482.5938 - output_2_root_mean_squared_error: 64485.0547\n",
      "Epoch 55: val_loss did not improve from 9233137664.00000\n",
      "\u001b[1m516/516\u001b[0m \u001b[32m━━━━━━━━━━━━━━━━━━━━\u001b[0m\u001b[37m\u001b[0m \u001b[1m2s\u001b[0m 4ms/step - loss: 8316530176.0000 - output_1_root_mean_squared_error: 64474.8086 - output_2_root_mean_squared_error: 64477.2500 - val_loss: 9599956992.0000 - val_output_1_root_mean_squared_error: 69283.1953 - val_output_2_root_mean_squared_error: 69280.5469\n",
      "Epoch 56/100\n",
      "\u001b[1m512/516\u001b[0m \u001b[32m━━━━━━━━━━━━━━━━━━━\u001b[0m\u001b[37m━\u001b[0m \u001b[1m0s\u001b[0m 4ms/step - loss: 8380797440.0000 - output_1_root_mean_squared_error: 64726.7070 - output_2_root_mean_squared_error: 64731.0312\n",
      "Epoch 56: val_loss did not improve from 9233137664.00000\n",
      "\u001b[1m516/516\u001b[0m \u001b[32m━━━━━━━━━━━━━━━━━━━━\u001b[0m\u001b[37m\u001b[0m \u001b[1m2s\u001b[0m 4ms/step - loss: 8379693568.0000 - output_1_root_mean_squared_error: 64722.4727 - output_2_root_mean_squared_error: 64726.7930 - val_loss: 9778059264.0000 - val_output_1_root_mean_squared_error: 69923.5078 - val_output_2_root_mean_squared_error: 69919.6562\n",
      "Epoch 57/100\n",
      "\u001b[1m505/516\u001b[0m \u001b[32m━━━━━━━━━━━━━━━━━━━\u001b[0m\u001b[37m━\u001b[0m \u001b[1m0s\u001b[0m 4ms/step - loss: 8017482240.0000 - output_1_root_mean_squared_error: 63294.3125 - output_2_root_mean_squared_error: 63297.7695\n",
      "Epoch 57: val_loss did not improve from 9233137664.00000\n",
      "\u001b[1m516/516\u001b[0m \u001b[32m━━━━━━━━━━━━━━━━━━━━\u001b[0m\u001b[37m\u001b[0m \u001b[1m2s\u001b[0m 4ms/step - loss: 8018374144.0000 - output_1_root_mean_squared_error: 63298.2578 - output_2_root_mean_squared_error: 63301.7227 - val_loss: 13328418816.0000 - val_output_1_root_mean_squared_error: 81635.3828 - val_output_2_root_mean_squared_error: 81633.8047\n",
      "Epoch 58/100\n",
      "\u001b[1m511/516\u001b[0m \u001b[32m━━━━━━━━━━━━━━━━━━━\u001b[0m\u001b[37m━\u001b[0m \u001b[1m0s\u001b[0m 4ms/step - loss: 8210436096.0000 - output_1_root_mean_squared_error: 64046.8789 - output_2_root_mean_squared_error: 64051.6328\n",
      "Epoch 58: val_loss did not improve from 9233137664.00000\n",
      "\u001b[1m516/516\u001b[0m \u001b[32m━━━━━━━━━━━━━━━━━━━━\u001b[0m\u001b[37m\u001b[0m \u001b[1m2s\u001b[0m 4ms/step - loss: 8209629696.0000 - output_1_root_mean_squared_error: 64043.9922 - output_2_root_mean_squared_error: 64048.7422 - val_loss: 13615712256.0000 - val_output_1_root_mean_squared_error: 82517.0234 - val_output_2_root_mean_squared_error: 82502.4453\n",
      "Epoch 59/100\n",
      "\u001b[1m513/516\u001b[0m \u001b[32m━━━━━━━━━━━━━━━━━━━\u001b[0m\u001b[37m━\u001b[0m \u001b[1m0s\u001b[0m 4ms/step - loss: 8394566144.0000 - output_1_root_mean_squared_error: 64755.9531 - output_2_root_mean_squared_error: 64759.8516\n",
      "Epoch 59: val_loss did not improve from 9233137664.00000\n",
      "\u001b[1m516/516\u001b[0m \u001b[32m━━━━━━━━━━━━━━━━━━━━\u001b[0m\u001b[37m\u001b[0m \u001b[1m2s\u001b[0m 4ms/step - loss: 8392863232.0000 - output_1_root_mean_squared_error: 64749.5625 - output_2_root_mean_squared_error: 64753.4570 - val_loss: 9689221120.0000 - val_output_1_root_mean_squared_error: 69602.9844 - val_output_2_root_mean_squared_error: 69603.5312\n",
      "Epoch 60/100\n",
      "\u001b[1m503/516\u001b[0m \u001b[32m━━━━━━━━━━━━━━━━━━━\u001b[0m\u001b[37m━\u001b[0m \u001b[1m0s\u001b[0m 4ms/step - loss: 8600914944.0000 - output_1_root_mean_squared_error: 65558.8203 - output_2_root_mean_squared_error: 65563.4766\n",
      "Epoch 60: val_loss did not improve from 9233137664.00000\n",
      "\u001b[1m516/516\u001b[0m \u001b[32m━━━━━━━━━━━━━━━━━━━━\u001b[0m\u001b[37m\u001b[0m \u001b[1m2s\u001b[0m 4ms/step - loss: 8598808576.0000 - output_1_root_mean_squared_error: 65551.2266 - output_2_root_mean_squared_error: 65555.8750 - val_loss: 11221762048.0000 - val_output_1_root_mean_squared_error: 74908.2812 - val_output_2_root_mean_squared_error: 74903.3125\n",
      "Epoch 61/100\n",
      "\u001b[1m509/516\u001b[0m \u001b[32m━━━━━━━━━━━━━━━━━━━\u001b[0m\u001b[37m━\u001b[0m \u001b[1m0s\u001b[0m 4ms/step - loss: 8875320320.0000 - output_1_root_mean_squared_error: 66581.7344 - output_2_root_mean_squared_error: 66587.2422\n",
      "Epoch 61: val_loss did not improve from 9233137664.00000\n",
      "\u001b[1m516/516\u001b[0m \u001b[32m━━━━━━━━━━━━━━━━━━━━\u001b[0m\u001b[37m\u001b[0m \u001b[1m2s\u001b[0m 4ms/step - loss: 8867525632.0000 - output_1_root_mean_squared_error: 66552.5469 - output_2_root_mean_squared_error: 66558.0312 - val_loss: 16719344640.0000 - val_output_1_root_mean_squared_error: 91426.6406 - val_output_2_root_mean_squared_error: 91435.8516\n",
      "Epoch 62/100\n",
      "\u001b[1m502/516\u001b[0m \u001b[32m━━━━━━━━━━━━━━━━━━━\u001b[0m\u001b[37m━\u001b[0m \u001b[1m0s\u001b[0m 4ms/step - loss: 8402859520.0000 - output_1_root_mean_squared_error: 64746.6484 - output_2_root_mean_squared_error: 64750.8555\n",
      "Epoch 62: val_loss did not improve from 9233137664.00000\n",
      "\u001b[1m516/516\u001b[0m \u001b[32m━━━━━━━━━━━━━━━━━━━━\u001b[0m\u001b[37m\u001b[0m \u001b[1m2s\u001b[0m 4ms/step - loss: 8391676928.0000 - output_1_root_mean_squared_error: 64705.0742 - output_2_root_mean_squared_error: 64709.1992 - val_loss: 9485350912.0000 - val_output_1_root_mean_squared_error: 68866.7422 - val_output_2_root_mean_squared_error: 68867.4062\n",
      "Epoch 63/100\n",
      "\u001b[1m506/516\u001b[0m \u001b[32m━━━━━━━━━━━━━━━━━━━\u001b[0m\u001b[37m━\u001b[0m \u001b[1m0s\u001b[0m 4ms/step - loss: 8079402496.0000 - output_1_root_mean_squared_error: 63546.3906 - output_2_root_mean_squared_error: 63551.8398\n",
      "Epoch 63: val_loss did not improve from 9233137664.00000\n",
      "\u001b[1m516/516\u001b[0m \u001b[32m━━━━━━━━━━━━━━━━━━━━\u001b[0m\u001b[37m\u001b[0m \u001b[1m2s\u001b[0m 4ms/step - loss: 8078689280.0000 - output_1_root_mean_squared_error: 63543.8477 - output_2_root_mean_squared_error: 63549.1758 - val_loss: 12697156608.0000 - val_output_1_root_mean_squared_error: 79679.4766 - val_output_2_root_mean_squared_error: 79676.4531\n",
      "Epoch 64/100\n",
      "\u001b[1m504/516\u001b[0m \u001b[32m━━━━━━━━━━━━━━━━━━━\u001b[0m\u001b[37m━\u001b[0m \u001b[1m0s\u001b[0m 4ms/step - loss: 8257254400.0000 - output_1_root_mean_squared_error: 64241.9453 - output_2_root_mean_squared_error: 64243.5859\n",
      "Epoch 64: val_loss did not improve from 9233137664.00000\n",
      "\u001b[1m516/516\u001b[0m \u001b[32m━━━━━━━━━━━━━━━━━━━━\u001b[0m\u001b[37m\u001b[0m \u001b[1m2s\u001b[0m 4ms/step - loss: 8251951104.0000 - output_1_root_mean_squared_error: 64221.4922 - output_2_root_mean_squared_error: 64223.0820 - val_loss: 12233451520.0000 - val_output_1_root_mean_squared_error: 78218.1562 - val_output_2_root_mean_squared_error: 78200.8516\n",
      "Epoch 65/100\n",
      "\u001b[1m511/516\u001b[0m \u001b[32m━━━━━━━━━━━━━━━━━━━\u001b[0m\u001b[37m━\u001b[0m \u001b[1m0s\u001b[0m 4ms/step - loss: 7923736576.0000 - output_1_root_mean_squared_error: 62927.3633 - output_2_root_mean_squared_error: 62918.7891\n",
      "Epoch 65: val_loss did not improve from 9233137664.00000\n",
      "\u001b[1m516/516\u001b[0m \u001b[32m━━━━━━━━━━━━━━━━━━━━\u001b[0m\u001b[37m\u001b[0m \u001b[1m2s\u001b[0m 4ms/step - loss: 7923395584.0000 - output_1_root_mean_squared_error: 62926.2500 - output_2_root_mean_squared_error: 62917.6641 - val_loss: 11212299264.0000 - val_output_1_root_mean_squared_error: 74881.9297 - val_output_2_root_mean_squared_error: 74866.5156\n",
      "Epoch 66/100\n",
      "\u001b[1m516/516\u001b[0m \u001b[32m━━━━━━━━━━━━━━━━━━━━\u001b[0m\u001b[37m\u001b[0m \u001b[1m0s\u001b[0m 4ms/step - loss: 7952089088.0000 - output_1_root_mean_squared_error: 63044.2852 - output_2_root_mean_squared_error: 63041.8984\n",
      "Epoch 66: val_loss did not improve from 9233137664.00000\n",
      "\u001b[1m516/516\u001b[0m \u001b[32m━━━━━━━━━━━━━━━━━━━━\u001b[0m\u001b[37m\u001b[0m \u001b[1m2s\u001b[0m 4ms/step - loss: 7952441344.0000 - output_1_root_mean_squared_error: 63045.6992 - output_2_root_mean_squared_error: 63043.3125 - val_loss: 9305430016.0000 - val_output_1_root_mean_squared_error: 68209.0938 - val_output_2_root_mean_squared_error: 68212.5312\n",
      "Epoch 67/100\n",
      "\u001b[1m507/516\u001b[0m \u001b[32m━━━━━━━━━━━━━━━━━━━\u001b[0m\u001b[37m━\u001b[0m \u001b[1m0s\u001b[0m 4ms/step - loss: 7969582592.0000 - output_1_root_mean_squared_error: 63111.6094 - output_2_root_mean_squared_error: 63111.6289\n",
      "Epoch 67: val_loss did not improve from 9233137664.00000\n",
      "\u001b[1m516/516\u001b[0m \u001b[32m━━━━━━━━━━━━━━━━━━━━\u001b[0m\u001b[37m\u001b[0m \u001b[1m2s\u001b[0m 4ms/step - loss: 7969986048.0000 - output_1_root_mean_squared_error: 63113.4883 - output_2_root_mean_squared_error: 63113.4688 - val_loss: 10045844480.0000 - val_output_1_root_mean_squared_error: 70874.0547 - val_output_2_root_mean_squared_error: 70871.1094\n",
      "Epoch 68/100\n",
      "\u001b[1m505/516\u001b[0m \u001b[32m━━━━━━━━━━━━━━━━━━━\u001b[0m\u001b[37m━\u001b[0m \u001b[1m0s\u001b[0m 4ms/step - loss: 7777826304.0000 - output_1_root_mean_squared_error: 62343.1875 - output_2_root_mean_squared_error: 62343.8477\n",
      "Epoch 68: val_loss did not improve from 9233137664.00000\n",
      "\u001b[1m516/516\u001b[0m \u001b[32m━━━━━━━━━━━━━━━━━━━━\u001b[0m\u001b[37m\u001b[0m \u001b[1m2s\u001b[0m 4ms/step - loss: 7782661120.0000 - output_1_root_mean_squared_error: 62362.8633 - output_2_root_mean_squared_error: 62363.5039 - val_loss: 15440978944.0000 - val_output_1_root_mean_squared_error: 87874.7344 - val_output_2_root_mean_squared_error: 87857.8984\n",
      "Epoch 69/100\n",
      "\u001b[1m507/516\u001b[0m \u001b[32m━━━━━━━━━━━━━━━━━━━\u001b[0m\u001b[37m━\u001b[0m \u001b[1m0s\u001b[0m 4ms/step - loss: 8696092672.0000 - output_1_root_mean_squared_error: 65896.0938 - output_2_root_mean_squared_error: 65895.9688\n",
      "Epoch 69: val_loss did not improve from 9233137664.00000\n",
      "\u001b[1m516/516\u001b[0m \u001b[32m━━━━━━━━━━━━━━━━━━━━\u001b[0m\u001b[37m\u001b[0m \u001b[1m2s\u001b[0m 4ms/step - loss: 8685635584.0000 - output_1_root_mean_squared_error: 65856.6953 - output_2_root_mean_squared_error: 65856.4922 - val_loss: 9426659328.0000 - val_output_1_root_mean_squared_error: 68651.3203 - val_output_2_root_mean_squared_error: 68656.0391\n",
      "Epoch 70/100\n",
      "\u001b[1m510/516\u001b[0m \u001b[32m━━━━━━━━━━━━━━━━━━━\u001b[0m\u001b[37m━\u001b[0m \u001b[1m0s\u001b[0m 4ms/step - loss: 7837803520.0000 - output_1_root_mean_squared_error: 62596.9297 - output_2_root_mean_squared_error: 62597.8086\n",
      "Epoch 70: val_loss did not improve from 9233137664.00000\n",
      "\u001b[1m516/516\u001b[0m \u001b[32m━━━━━━━━━━━━━━━━━━━━\u001b[0m\u001b[37m\u001b[0m \u001b[1m2s\u001b[0m 5ms/step - loss: 7839081984.0000 - output_1_root_mean_squared_error: 62602.0859 - output_2_root_mean_squared_error: 62602.9336 - val_loss: 13581520896.0000 - val_output_1_root_mean_squared_error: 82413.4453 - val_output_2_root_mean_squared_error: 82398.7031\n",
      "Epoch 71/100\n",
      "\u001b[1m511/516\u001b[0m \u001b[32m━━━━━━━━━━━━━━━━━━━\u001b[0m\u001b[37m━\u001b[0m \u001b[1m0s\u001b[0m 4ms/step - loss: 7826240512.0000 - output_1_root_mean_squared_error: 62536.9297 - output_2_root_mean_squared_error: 62539.3008\n",
      "Epoch 71: val_loss did not improve from 9233137664.00000\n",
      "\u001b[1m516/516\u001b[0m \u001b[32m━━━━━━━━━━━━━━━━━━━━\u001b[0m\u001b[37m\u001b[0m \u001b[1m2s\u001b[0m 4ms/step - loss: 7829730816.0000 - output_1_root_mean_squared_error: 62550.9844 - output_2_root_mean_squared_error: 62553.2773 - val_loss: 11427675136.0000 - val_output_1_root_mean_squared_error: 75603.1172 - val_output_2_root_mean_squared_error: 75576.6875\n",
      "Epoch 72/100\n",
      "\u001b[1m510/516\u001b[0m \u001b[32m━━━━━━━━━━━━━━━━━━━\u001b[0m\u001b[37m━\u001b[0m \u001b[1m0s\u001b[0m 4ms/step - loss: 7402384384.0000 - output_1_root_mean_squared_error: 60805.9844 - output_2_root_mean_squared_error: 60804.1953\n",
      "Epoch 72: val_loss did not improve from 9233137664.00000\n",
      "\u001b[1m516/516\u001b[0m \u001b[32m━━━━━━━━━━━━━━━━━━━━\u001b[0m\u001b[37m\u001b[0m \u001b[1m2s\u001b[0m 4ms/step - loss: 7407900672.0000 - output_1_root_mean_squared_error: 60828.7969 - output_2_root_mean_squared_error: 60826.9844 - val_loss: 10943752192.0000 - val_output_1_root_mean_squared_error: 73976.4531 - val_output_2_root_mean_squared_error: 73967.8203\n",
      "Epoch 73/100\n",
      "\u001b[1m516/516\u001b[0m \u001b[32m━━━━━━━━━━━━━━━━━━━━\u001b[0m\u001b[37m\u001b[0m \u001b[1m0s\u001b[0m 4ms/step - loss: 7690468864.0000 - output_1_root_mean_squared_error: 62007.1133 - output_2_root_mean_squared_error: 62006.5273\n",
      "Epoch 73: val_loss did not improve from 9233137664.00000\n",
      "\u001b[1m516/516\u001b[0m \u001b[32m━━━━━━━━━━━━━━━━━━━━\u001b[0m\u001b[37m\u001b[0m \u001b[1m2s\u001b[0m 4ms/step - loss: 7690627072.0000 - output_1_root_mean_squared_error: 62007.7539 - output_2_root_mean_squared_error: 62007.1680 - val_loss: 11663642624.0000 - val_output_1_root_mean_squared_error: 76368.3750 - val_output_2_root_mean_squared_error: 76364.3125\n",
      "Epoch 74/100\n",
      "\u001b[1m507/516\u001b[0m \u001b[32m━━━━━━━━━━━━━━━━━━━\u001b[0m\u001b[37m━\u001b[0m \u001b[1m0s\u001b[0m 4ms/step - loss: 8171909120.0000 - output_1_root_mean_squared_error: 63896.1445 - output_2_root_mean_squared_error: 63887.8008\n",
      "Epoch 74: val_loss did not improve from 9233137664.00000\n",
      "\u001b[1m516/516\u001b[0m \u001b[32m━━━━━━━━━━━━━━━━━━━━\u001b[0m\u001b[37m\u001b[0m \u001b[1m2s\u001b[0m 4ms/step - loss: 8167115776.0000 - output_1_root_mean_squared_error: 63877.7812 - output_2_root_mean_squared_error: 63869.5234 - val_loss: 11129692160.0000 - val_output_1_root_mean_squared_error: 74591.3125 - val_output_2_root_mean_squared_error: 74604.4766\n",
      "Epoch 75/100\n",
      "\u001b[1m506/516\u001b[0m \u001b[32m━━━━━━━━━━━━━━━━━━━\u001b[0m\u001b[37m━\u001b[0m \u001b[1m0s\u001b[0m 4ms/step - loss: 7632879104.0000 - output_1_root_mean_squared_error: 61767.4531 - output_2_root_mean_squared_error: 61764.1562\n",
      "Epoch 75: val_loss did not improve from 9233137664.00000\n",
      "\u001b[1m516/516\u001b[0m \u001b[32m━━━━━━━━━━━━━━━━━━━━\u001b[0m\u001b[37m\u001b[0m \u001b[1m2s\u001b[0m 4ms/step - loss: 7638605824.0000 - output_1_root_mean_squared_error: 61790.8945 - output_2_root_mean_squared_error: 61787.1484 - val_loss: 14865339392.0000 - val_output_1_root_mean_squared_error: 86185.6484 - val_output_2_root_mean_squared_error: 86240.2031\n",
      "Epoch 76/100\n",
      "\u001b[1m514/516\u001b[0m \u001b[32m━━━━━━━━━━━━━━━━━━━\u001b[0m\u001b[37m━\u001b[0m \u001b[1m0s\u001b[0m 4ms/step - loss: 7769670656.0000 - output_1_root_mean_squared_error: 62322.9688 - output_2_root_mean_squared_error: 62316.8281\n",
      "Epoch 76: val_loss did not improve from 9233137664.00000\n",
      "\u001b[1m516/516\u001b[0m \u001b[32m━━━━━━━━━━━━━━━━━━━━\u001b[0m\u001b[37m\u001b[0m \u001b[1m2s\u001b[0m 4ms/step - loss: 7769679872.0000 - output_1_root_mean_squared_error: 62323.0586 - output_2_root_mean_squared_error: 62316.9141 - val_loss: 11844935680.0000 - val_output_1_root_mean_squared_error: 76963.8828 - val_output_2_root_mean_squared_error: 76951.2109\n",
      "Epoch 77/100\n",
      "\u001b[1m516/516\u001b[0m \u001b[32m━━━━━━━━━━━━━━━━━━━━\u001b[0m\u001b[37m\u001b[0m \u001b[1m0s\u001b[0m 4ms/step - loss: 7683542528.0000 - output_1_root_mean_squared_error: 61976.8672 - output_2_root_mean_squared_error: 61972.5391\n",
      "Epoch 77: val_loss did not improve from 9233137664.00000\n",
      "\u001b[1m516/516\u001b[0m \u001b[32m━━━━━━━━━━━━━━━━━━━━\u001b[0m\u001b[37m\u001b[0m \u001b[1m2s\u001b[0m 4ms/step - loss: 7683851264.0000 - output_1_root_mean_squared_error: 61978.1211 - output_2_root_mean_squared_error: 61973.7891 - val_loss: 10982224896.0000 - val_output_1_root_mean_squared_error: 74102.7500 - val_output_2_root_mean_squared_error: 74101.3281\n",
      "Epoch 78/100\n",
      "\u001b[1m515/516\u001b[0m \u001b[32m━━━━━━━━━━━━━━━━━━━\u001b[0m\u001b[37m━\u001b[0m \u001b[1m0s\u001b[0m 4ms/step - loss: 7405315072.0000 - output_1_root_mean_squared_error: 60828.8086 - output_2_root_mean_squared_error: 60827.4219\n",
      "Epoch 78: val_loss did not improve from 9233137664.00000\n",
      "\u001b[1m516/516\u001b[0m \u001b[32m━━━━━━━━━━━━━━━━━━━━\u001b[0m\u001b[37m\u001b[0m \u001b[1m2s\u001b[0m 5ms/step - loss: 7406942208.0000 - output_1_root_mean_squared_error: 60835.4844 - output_2_root_mean_squared_error: 60834.0977 - val_loss: 11591818240.0000 - val_output_1_root_mean_squared_error: 76131.7188 - val_output_2_root_mean_squared_error: 76129.9922\n",
      "Epoch 79/100\n",
      "\u001b[1m516/516\u001b[0m \u001b[32m━━━━━━━━━━━━━━━━━━━━\u001b[0m\u001b[37m\u001b[0m \u001b[1m0s\u001b[0m 4ms/step - loss: 7586343424.0000 - output_1_root_mean_squared_error: 61584.4727 - output_2_root_mean_squared_error: 61578.2344\n",
      "Epoch 79: val_loss did not improve from 9233137664.00000\n",
      "\u001b[1m516/516\u001b[0m \u001b[32m━━━━━━━━━━━━━━━━━━━━\u001b[0m\u001b[37m\u001b[0m \u001b[1m2s\u001b[0m 5ms/step - loss: 7586465792.0000 - output_1_root_mean_squared_error: 61584.9805 - output_2_root_mean_squared_error: 61578.7500 - val_loss: 9662263296.0000 - val_output_1_root_mean_squared_error: 69508.7812 - val_output_2_root_mean_squared_error: 69503.8984\n",
      "Epoch 80/100\n",
      "\u001b[1m510/516\u001b[0m \u001b[32m━━━━━━━━━━━━━━━━━━━\u001b[0m\u001b[37m━\u001b[0m \u001b[1m0s\u001b[0m 4ms/step - loss: 7952652288.0000 - output_1_root_mean_squared_error: 63056.6914 - output_2_root_mean_squared_error: 63048.9453\n",
      "Epoch 80: val_loss did not improve from 9233137664.00000\n",
      "\u001b[1m516/516\u001b[0m \u001b[32m━━━━━━━━━━━━━━━━━━━━\u001b[0m\u001b[37m\u001b[0m \u001b[1m2s\u001b[0m 5ms/step - loss: 7950883328.0000 - output_1_root_mean_squared_error: 63049.6680 - output_2_root_mean_squared_error: 63042.0312 - val_loss: 10069063680.0000 - val_output_1_root_mean_squared_error: 70957.1172 - val_output_2_root_mean_squared_error: 70951.7500\n",
      "Epoch 81/100\n",
      "\u001b[1m508/516\u001b[0m \u001b[32m━━━━━━━━━━━━━━━━━━━\u001b[0m\u001b[37m━\u001b[0m \u001b[1m0s\u001b[0m 4ms/step - loss: 7609400832.0000 - output_1_root_mean_squared_error: 61678.1289 - output_2_root_mean_squared_error: 61670.5234\n",
      "Epoch 81: val_loss did not improve from 9233137664.00000\n",
      "\u001b[1m516/516\u001b[0m \u001b[32m━━━━━━━━━━━━━━━━━━━━\u001b[0m\u001b[37m\u001b[0m \u001b[1m2s\u001b[0m 5ms/step - loss: 7614669824.0000 - output_1_root_mean_squared_error: 61699.3555 - output_2_root_mean_squared_error: 61691.8672 - val_loss: 10944839680.0000 - val_output_1_root_mean_squared_error: 73975.6953 - val_output_2_root_mean_squared_error: 73975.9062\n",
      "Epoch 82/100\n",
      "\u001b[1m506/516\u001b[0m \u001b[32m━━━━━━━━━━━━━━━━━━━\u001b[0m\u001b[37m━\u001b[0m \u001b[1m0s\u001b[0m 4ms/step - loss: 7865725440.0000 - output_1_root_mean_squared_error: 62704.2109 - output_2_root_mean_squared_error: 62708.6758\n",
      "Epoch 82: val_loss did not improve from 9233137664.00000\n",
      "\u001b[1m516/516\u001b[0m \u001b[32m━━━━━━━━━━━━━━━━━━━━\u001b[0m\u001b[37m\u001b[0m \u001b[1m2s\u001b[0m 5ms/step - loss: 7863163904.0000 - output_1_root_mean_squared_error: 62694.1289 - output_2_root_mean_squared_error: 62698.5156 - val_loss: 10660048896.0000 - val_output_1_root_mean_squared_error: 73010.0625 - val_output_2_root_mean_squared_error: 73003.9297\n",
      "Epoch 83/100\n",
      "\u001b[1m515/516\u001b[0m \u001b[32m━━━━━━━━━━━━━━━━━━━\u001b[0m\u001b[37m━\u001b[0m \u001b[1m0s\u001b[0m 4ms/step - loss: 8086804480.0000 - output_1_root_mean_squared_error: 63567.9844 - output_2_root_mean_squared_error: 63570.6719\n",
      "Epoch 83: val_loss did not improve from 9233137664.00000\n",
      "\u001b[1m516/516\u001b[0m \u001b[32m━━━━━━━━━━━━━━━━━━━━\u001b[0m\u001b[37m\u001b[0m \u001b[1m2s\u001b[0m 5ms/step - loss: 8086108672.0000 - output_1_root_mean_squared_error: 63565.3047 - output_2_root_mean_squared_error: 63567.9883 - val_loss: 9672715264.0000 - val_output_1_root_mean_squared_error: 69544.3672 - val_output_2_root_mean_squared_error: 69543.4844\n",
      "Epoch 84/100\n",
      "\u001b[1m505/516\u001b[0m \u001b[32m━━━━━━━━━━━━━━━━━━━\u001b[0m\u001b[37m━\u001b[0m \u001b[1m0s\u001b[0m 4ms/step - loss: 8019224576.0000 - output_1_root_mean_squared_error: 63254.2148 - output_2_root_mean_squared_error: 63258.3047\n",
      "Epoch 84: val_loss did not improve from 9233137664.00000\n",
      "\u001b[1m516/516\u001b[0m \u001b[32m━━━━━━━━━━━━━━━━━━━━\u001b[0m\u001b[37m\u001b[0m \u001b[1m2s\u001b[0m 5ms/step - loss: 8007681536.0000 - output_1_root_mean_squared_error: 63209.4180 - output_2_root_mean_squared_error: 63213.5273 - val_loss: 14302395392.0000 - val_output_1_root_mean_squared_error: 84567.3984 - val_output_2_root_mean_squared_error: 84562.1328\n",
      "Epoch 85/100\n",
      "\u001b[1m516/516\u001b[0m \u001b[32m━━━━━━━━━━━━━━━━━━━━\u001b[0m\u001b[37m\u001b[0m \u001b[1m0s\u001b[0m 4ms/step - loss: 7747514368.0000 - output_1_root_mean_squared_error: 62212.8398 - output_2_root_mean_squared_error: 62223.3008\n",
      "Epoch 85: val_loss did not improve from 9233137664.00000\n",
      "\u001b[1m516/516\u001b[0m \u001b[32m━━━━━━━━━━━━━━━━━━━━\u001b[0m\u001b[37m\u001b[0m \u001b[1m2s\u001b[0m 5ms/step - loss: 7747513344.0000 - output_1_root_mean_squared_error: 62212.8828 - output_2_root_mean_squared_error: 62223.3320 - val_loss: 10696201216.0000 - val_output_1_root_mean_squared_error: 73131.2656 - val_output_2_root_mean_squared_error: 73130.1172\n",
      "Epoch 86/100\n",
      "\u001b[1m511/516\u001b[0m \u001b[32m━━━━━━━━━━━━━━━━━━━\u001b[0m\u001b[37m━\u001b[0m \u001b[1m0s\u001b[0m 4ms/step - loss: 7555237376.0000 - output_1_root_mean_squared_error: 61430.5234 - output_2_root_mean_squared_error: 61435.6289\n",
      "Epoch 86: val_loss did not improve from 9233137664.00000\n",
      "\u001b[1m516/516\u001b[0m \u001b[32m━━━━━━━━━━━━━━━━━━━━\u001b[0m\u001b[37m\u001b[0m \u001b[1m2s\u001b[0m 5ms/step - loss: 7556968960.0000 - output_1_root_mean_squared_error: 61437.8750 - output_2_root_mean_squared_error: 61442.9727 - val_loss: 10267029504.0000 - val_output_1_root_mean_squared_error: 71645.4141 - val_output_2_root_mean_squared_error: 71651.6406\n",
      "Epoch 87/100\n",
      "\u001b[1m508/516\u001b[0m \u001b[32m━━━━━━━━━━━━━━━━━━━\u001b[0m\u001b[37m━\u001b[0m \u001b[1m0s\u001b[0m 5ms/step - loss: 7482002944.0000 - output_1_root_mean_squared_error: 61153.2461 - output_2_root_mean_squared_error: 61163.0312\n",
      "Epoch 87: val_loss did not improve from 9233137664.00000\n",
      "\u001b[1m516/516\u001b[0m \u001b[32m━━━━━━━━━━━━━━━━━━━━\u001b[0m\u001b[37m\u001b[0m \u001b[1m3s\u001b[0m 5ms/step - loss: 7482383360.0000 - output_1_root_mean_squared_error: 61154.9414 - output_2_root_mean_squared_error: 61164.6406 - val_loss: 12865264640.0000 - val_output_1_root_mean_squared_error: 80210.1172 - val_output_2_root_mean_squared_error: 80197.2578\n",
      "Epoch 88/100\n",
      "\u001b[1m508/516\u001b[0m \u001b[32m━━━━━━━━━━━━━━━━━━━\u001b[0m\u001b[37m━\u001b[0m \u001b[1m0s\u001b[0m 5ms/step - loss: 7884004864.0000 - output_1_root_mean_squared_error: 62782.1328 - output_2_root_mean_squared_error: 62780.7773\n",
      "Epoch 88: val_loss did not improve from 9233137664.00000\n",
      "\u001b[1m516/516\u001b[0m \u001b[32m━━━━━━━━━━━━━━━━━━━━\u001b[0m\u001b[37m\u001b[0m \u001b[1m3s\u001b[0m 5ms/step - loss: 7882497024.0000 - output_1_root_mean_squared_error: 62776.1484 - output_2_root_mean_squared_error: 62774.8555 - val_loss: 9596397568.0000 - val_output_1_root_mean_squared_error: 69273.3594 - val_output_2_root_mean_squared_error: 69264.6719\n",
      "Epoch 89/100\n",
      "\u001b[1m516/516\u001b[0m \u001b[32m━━━━━━━━━━━━━━━━━━━━\u001b[0m\u001b[37m\u001b[0m \u001b[1m0s\u001b[0m 5ms/step - loss: 7459938304.0000 - output_1_root_mean_squared_error: 61043.4766 - output_2_root_mean_squared_error: 61050.5508\n",
      "Epoch 89: val_loss did not improve from 9233137664.00000\n",
      "\u001b[1m516/516\u001b[0m \u001b[32m━━━━━━━━━━━━━━━━━━━━\u001b[0m\u001b[37m\u001b[0m \u001b[1m3s\u001b[0m 5ms/step - loss: 7460322304.0000 - output_1_root_mean_squared_error: 61045.0977 - output_2_root_mean_squared_error: 61052.1602 - val_loss: 10848693248.0000 - val_output_1_root_mean_squared_error: 73653.8281 - val_output_2_root_mean_squared_error: 73646.4922\n",
      "Epoch 90/100\n",
      "\u001b[1m509/516\u001b[0m \u001b[32m━━━━━━━━━━━━━━━━━━━\u001b[0m\u001b[37m━\u001b[0m \u001b[1m0s\u001b[0m 4ms/step - loss: 7739363840.0000 - output_1_root_mean_squared_error: 62185.6250 - output_2_root_mean_squared_error: 62185.2422\n",
      "Epoch 90: val_loss did not improve from 9233137664.00000\n",
      "\u001b[1m516/516\u001b[0m \u001b[32m━━━━━━━━━━━━━━━━━━━━\u001b[0m\u001b[37m\u001b[0m \u001b[1m3s\u001b[0m 5ms/step - loss: 7740323328.0000 - output_1_root_mean_squared_error: 62189.7930 - output_2_root_mean_squared_error: 62189.4297 - val_loss: 15710888960.0000 - val_output_1_root_mean_squared_error: 88632.0781 - val_output_2_root_mean_squared_error: 88629.7891\n",
      "Epoch 91/100\n",
      "\u001b[1m512/516\u001b[0m \u001b[32m━━━━━━━━━━━━━━━━━━━\u001b[0m\u001b[37m━\u001b[0m \u001b[1m0s\u001b[0m 4ms/step - loss: 7404015104.0000 - output_1_root_mean_squared_error: 60835.9922 - output_2_root_mean_squared_error: 60835.9844\n",
      "Epoch 91: val_loss did not improve from 9233137664.00000\n",
      "\u001b[1m516/516\u001b[0m \u001b[32m━━━━━━━━━━━━━━━━━━━━\u001b[0m\u001b[37m\u001b[0m \u001b[1m2s\u001b[0m 4ms/step - loss: 7404563456.0000 - output_1_root_mean_squared_error: 60838.3164 - output_2_root_mean_squared_error: 60838.3125 - val_loss: 11769718784.0000 - val_output_1_root_mean_squared_error: 76712.6094 - val_output_2_root_mean_squared_error: 76713.0781\n",
      "Epoch 92/100\n",
      "\u001b[1m516/516\u001b[0m \u001b[32m━━━━━━━━━━━━━━━━━━━━\u001b[0m\u001b[37m\u001b[0m \u001b[1m0s\u001b[0m 4ms/step - loss: 7413654016.0000 - output_1_root_mean_squared_error: 60864.5039 - output_2_root_mean_squared_error: 60864.6094\n",
      "Epoch 92: val_loss did not improve from 9233137664.00000\n",
      "\u001b[1m516/516\u001b[0m \u001b[32m━━━━━━━━━━━━━━━━━━━━\u001b[0m\u001b[37m\u001b[0m \u001b[1m2s\u001b[0m 4ms/step - loss: 7413756416.0000 - output_1_root_mean_squared_error: 60864.9609 - output_2_root_mean_squared_error: 60865.0664 - val_loss: 10861730816.0000 - val_output_1_root_mean_squared_error: 73694.4219 - val_output_2_root_mean_squared_error: 73694.3594\n",
      "Epoch 93/100\n",
      "\u001b[1m516/516\u001b[0m \u001b[32m━━━━━━━━━━━━━━━━━━━━\u001b[0m\u001b[37m\u001b[0m \u001b[1m0s\u001b[0m 4ms/step - loss: 7860420608.0000 - output_1_root_mean_squared_error: 62668.4453 - output_2_root_mean_squared_error: 62670.6367\n",
      "Epoch 93: val_loss did not improve from 9233137664.00000\n",
      "\u001b[1m516/516\u001b[0m \u001b[32m━━━━━━━━━━━━━━━━━━━━\u001b[0m\u001b[37m\u001b[0m \u001b[1m2s\u001b[0m 4ms/step - loss: 7860214272.0000 - output_1_root_mean_squared_error: 62667.6602 - output_2_root_mean_squared_error: 62669.8555 - val_loss: 15710047232.0000 - val_output_1_root_mean_squared_error: 88614.3906 - val_output_2_root_mean_squared_error: 88642.7266\n",
      "Epoch 94/100\n",
      "\u001b[1m515/516\u001b[0m \u001b[32m━━━━━━━━━━━━━━━━━━━\u001b[0m\u001b[37m━\u001b[0m \u001b[1m0s\u001b[0m 4ms/step - loss: 7670635520.0000 - output_1_root_mean_squared_error: 61919.7617 - output_2_root_mean_squared_error: 61922.9492\n",
      "Epoch 94: val_loss did not improve from 9233137664.00000\n",
      "\u001b[1m516/516\u001b[0m \u001b[32m━━━━━━━━━━━━━━━━━━━━\u001b[0m\u001b[37m\u001b[0m \u001b[1m2s\u001b[0m 4ms/step - loss: 7670540800.0000 - output_1_root_mean_squared_error: 61919.4141 - output_2_root_mean_squared_error: 61922.5977 - val_loss: 11178136576.0000 - val_output_1_root_mean_squared_error: 74761.1641 - val_output_2_root_mean_squared_error: 74758.9531\n",
      "Epoch 95/100\n",
      "\u001b[1m511/516\u001b[0m \u001b[32m━━━━━━━━━━━━━━━━━━━\u001b[0m\u001b[37m━\u001b[0m \u001b[1m0s\u001b[0m 4ms/step - loss: 7859960832.0000 - output_1_root_mean_squared_error: 62675.7344 - output_2_root_mean_squared_error: 62676.5234\n",
      "Epoch 95: val_loss did not improve from 9233137664.00000\n",
      "\u001b[1m516/516\u001b[0m \u001b[32m━━━━━━━━━━━━━━━━━━━━\u001b[0m\u001b[37m\u001b[0m \u001b[1m2s\u001b[0m 4ms/step - loss: 7858268160.0000 - output_1_root_mean_squared_error: 62669.1328 - output_2_root_mean_squared_error: 62669.8711 - val_loss: 9786828800.0000 - val_output_1_root_mean_squared_error: 69956.7188 - val_output_2_root_mean_squared_error: 69949.1641\n",
      "Epoch 96/100\n",
      "\u001b[1m515/516\u001b[0m \u001b[32m━━━━━━━━━━━━━━━━━━━\u001b[0m\u001b[37m━\u001b[0m \u001b[1m0s\u001b[0m 4ms/step - loss: 7586971136.0000 - output_1_root_mean_squared_error: 61578.9219 - output_2_root_mean_squared_error: 61581.1172\n",
      "Epoch 96: val_loss did not improve from 9233137664.00000\n",
      "\u001b[1m516/516\u001b[0m \u001b[32m━━━━━━━━━━━━━━━━━━━━\u001b[0m\u001b[37m\u001b[0m \u001b[1m2s\u001b[0m 4ms/step - loss: 7586779648.0000 - output_1_root_mean_squared_error: 61578.1875 - output_2_root_mean_squared_error: 61580.3750 - val_loss: 10805903360.0000 - val_output_1_root_mean_squared_error: 73508.0312 - val_output_2_root_mean_squared_error: 73501.5156\n",
      "Epoch 97/100\n",
      "\u001b[1m516/516\u001b[0m \u001b[32m━━━━━━━━━━━━━━━━━━━━\u001b[0m\u001b[37m\u001b[0m \u001b[1m0s\u001b[0m 4ms/step - loss: 7300249600.0000 - output_1_root_mean_squared_error: 60398.3867 - output_2_root_mean_squared_error: 60399.6641\n",
      "Epoch 97: val_loss did not improve from 9233137664.00000\n",
      "\u001b[1m516/516\u001b[0m \u001b[32m━━━━━━━━━━━━━━━━━━━━\u001b[0m\u001b[37m\u001b[0m \u001b[1m2s\u001b[0m 4ms/step - loss: 7300423680.0000 - output_1_root_mean_squared_error: 60399.1367 - output_2_root_mean_squared_error: 60400.4141 - val_loss: 15191353344.0000 - val_output_1_root_mean_squared_error: 87160.3281 - val_output_2_root_mean_squared_error: 87146.0156\n",
      "Epoch 98/100\n",
      "\u001b[1m513/516\u001b[0m \u001b[32m━━━━━━━━━━━━━━━━━━━\u001b[0m\u001b[37m━\u001b[0m \u001b[1m0s\u001b[0m 4ms/step - loss: 8207575040.0000 - output_1_root_mean_squared_error: 64040.0938 - output_2_root_mean_squared_error: 64043.1914\n",
      "Epoch 98: val_loss did not improve from 9233137664.00000\n",
      "\u001b[1m516/516\u001b[0m \u001b[32m━━━━━━━━━━━━━━━━━━━━\u001b[0m\u001b[37m\u001b[0m \u001b[1m2s\u001b[0m 4ms/step - loss: 8204599296.0000 - output_1_root_mean_squared_error: 64028.4883 - output_2_root_mean_squared_error: 64031.5938 - val_loss: 13020225536.0000 - val_output_1_root_mean_squared_error: 80698.8984 - val_output_2_root_mean_squared_error: 80671.6016\n",
      "Epoch 99/100\n",
      "\u001b[1m514/516\u001b[0m \u001b[32m━━━━━━━━━━━━━━━━━━━\u001b[0m\u001b[37m━\u001b[0m \u001b[1m0s\u001b[0m 4ms/step - loss: 7549468672.0000 - output_1_root_mean_squared_error: 61427.2188 - output_2_root_mean_squared_error: 61435.5508\n",
      "Epoch 99: val_loss did not improve from 9233137664.00000\n",
      "\u001b[1m516/516\u001b[0m \u001b[32m━━━━━━━━━━━━━━━━━━━━\u001b[0m\u001b[37m\u001b[0m \u001b[1m2s\u001b[0m 4ms/step - loss: 7549626368.0000 - output_1_root_mean_squared_error: 61427.9219 - output_2_root_mean_squared_error: 61436.2148 - val_loss: 15124327424.0000 - val_output_1_root_mean_squared_error: 86969.4297 - val_output_2_root_mean_squared_error: 86951.9922\n",
      "Epoch 100/100\n",
      "\u001b[1m510/516\u001b[0m \u001b[32m━━━━━━━━━━━━━━━━━━━\u001b[0m\u001b[37m━\u001b[0m \u001b[1m0s\u001b[0m 4ms/step - loss: 7467782144.0000 - output_1_root_mean_squared_error: 61071.8633 - output_2_root_mean_squared_error: 61076.0898\n",
      "Epoch 100: val_loss did not improve from 9233137664.00000\n",
      "\u001b[1m516/516\u001b[0m \u001b[32m━━━━━━━━━━━━━━━━━━━━\u001b[0m\u001b[37m\u001b[0m \u001b[1m2s\u001b[0m 4ms/step - loss: 7467868160.0000 - output_1_root_mean_squared_error: 61072.6992 - output_2_root_mean_squared_error: 61076.8086 - val_loss: 10772139008.0000 - val_output_1_root_mean_squared_error: 73388.9297 - val_output_2_root_mean_squared_error: 73390.7422\n"
     ]
    },
    {
     "data": {
      "text/plain": [
       "<keras.src.callbacks.history.History at 0x1e730f3e090>"
      ]
     },
     "execution_count": 24,
     "metadata": {},
     "output_type": "execute_result"
    }
   ],
   "source": [
    "model.fit([train_x_deep, train_x_wide], {'output_1':train_y, 'output_2':train_y}, epochs=100, validation_split=0.2 , callbacks = [tf.keras.callbacks.ModelCheckpoint(filepath = 'best_model.keras',\n",
    "                                                                                                                                         monitor = 'val_loss',\n",
    "                                                                                                                                         save_best_only = True,\n",
    "                                                                                                                                         save_weights_only = False,\n",
    "                                                                                                                                         mode = 'min',\n",
    "                                                                                                                                         verbose =1),\n",
    "                                                                                                                                         tf.keras.callbacks.TensorBoard(run_logdir)])"
   ]
  },
  {
   "cell_type": "code",
   "execution_count": 25,
   "metadata": {},
   "outputs": [],
   "source": [
    "best_model = tf.keras.models.load_model('best_model.keras')"
   ]
  },
  {
   "cell_type": "code",
   "execution_count": 26,
   "metadata": {},
   "outputs": [
    {
     "name": "stdout",
     "output_type": "stream",
     "text": [
      "\u001b[1m645/645\u001b[0m \u001b[32m━━━━━━━━━━━━━━━━━━━━\u001b[0m\u001b[37m\u001b[0m \u001b[1m1s\u001b[0m 2ms/step\n"
     ]
    }
   ],
   "source": [
    "y_pred = best_model.predict([train_x_deep, train_x_wide])"
   ]
  },
  {
   "cell_type": "code",
   "execution_count": 27,
   "metadata": {},
   "outputs": [],
   "source": [
    "y_pred_main , y_pred_aux = y_pred['output_1'] , y_pred['output_2']"
   ]
  },
  {
   "cell_type": "code",
   "execution_count": 28,
   "metadata": {},
   "outputs": [
    {
     "data": {
      "text/plain": [
       "(array([[458848.53],\n",
       "        [507670.75],\n",
       "        [440635.9 ],\n",
       "        [356627.06],\n",
       "        [265587.84],\n",
       "        [317916.12],\n",
       "        [289009.75],\n",
       "        [367808.88],\n",
       "        [216439.03],\n",
       "        [344379.25]], dtype=float32),\n",
       " <tf.Tensor: shape=(10,), dtype=float32, numpy=\n",
       " array([452600., 358500., 352100., 341300., 342200., 269700., 299200.,\n",
       "        241400., 226700., 261100.], dtype=float32)>)"
      ]
     },
     "execution_count": 28,
     "metadata": {},
     "output_type": "execute_result"
    }
   ],
   "source": [
    "y_pred_main[0:10] , train_y[0:10]"
   ]
  },
  {
   "cell_type": "code",
   "execution_count": 29,
   "metadata": {},
   "outputs": [
    {
     "data": {
      "text/plain": [
       "[<Dense name=dense_29, built=True>,\n",
       " <Dense name=dense_30, built=True>,\n",
       " <Dense name=dense_31, built=True>,\n",
       " <Dense name=dense_32, built=True>,\n",
       " <Dense name=dense_33, built=True>,\n",
       " <Dense name=dense_34, built=True>,\n",
       " <Dense name=dense_35, built=True>,\n",
       " <Dense name=dense_36, built=True>,\n",
       " <Dense name=dense_37, built=True>,\n",
       " <Dense name=dense_38, built=True>,\n",
       " <BatchNormalization name=batch_normalization_18, built=True>,\n",
       " <BatchNormalization name=batch_normalization_19, built=True>,\n",
       " <BatchNormalization name=batch_normalization_20, built=True>,\n",
       " <BatchNormalization name=batch_normalization_21, built=True>,\n",
       " <BatchNormalization name=batch_normalization_22, built=True>,\n",
       " <BatchNormalization name=batch_normalization_23, built=True>,\n",
       " <BatchNormalization name=batch_normalization_24, built=True>,\n",
       " <BatchNormalization name=batch_normalization_25, built=True>,\n",
       " <BatchNormalization name=batch_normalization_26, built=True>,\n",
       " <BatchNormalization name=batch_normalization_27, built=True>,\n",
       " <Dense name=dense_39, built=True>,\n",
       " <Dense name=dense_40, built=True>,\n",
       " <Dense name=dense_41, built=True>,\n",
       " <Dense name=dense_42, built=True>,\n",
       " <Dense name=dense_43, built=True>,\n",
       " <Dense name=dense_44, built=True>,\n",
       " <BatchNormalization name=batch_normalization_28, built=True>,\n",
       " <RTGaussianRegNoiseLayer name=rt_gaussian_reg_noise_layer_2, built=True>,\n",
       " <Concatenate name=concatenate_2, built=True>,\n",
       " <Dense name=output_1, built=True>,\n",
       " <Dense name=output_2, built=True>]"
      ]
     },
     "execution_count": 29,
     "metadata": {},
     "output_type": "execute_result"
    }
   ],
   "source": [
    "best_model.layers"
   ]
  },
  {
   "cell_type": "code",
   "execution_count": 30,
   "metadata": {
    "notebookRunGroups": {
     "groupValue": "2"
    }
   },
   "outputs": [
    {
     "data": {
      "image/png": "[encoded data removed]",
      "text/plain": [
       "<IPython.core.display.Image object>"
      ]
     },
     "execution_count": 30,
     "metadata": {},
     "output_type": "execute_result"
    }
   ],
   "source": [
    "tf.keras.utils.plot_model(best_model, to_file='model_plot.png', show_shapes=True, show_layer_names=True)"
   ]
  }
 ],
 "metadata": {
  "kernelspec": {
   "display_name": "Python 3",
   "language": "python",
   "name": "python3"
  },
  "language_info": {
   "codemirror_mode": {
    "name": "ipython",
    "version": 3
   },
   "file_extension": ".py",
   "mimetype": "text/x-python",
   "name": "python",
   "nbconvert_exporter": "python",
   "pygments_lexer": "ipython3",
   "version": "3.11.5"
  }
 },
 "nbformat": 4,
 "nbformat_minor": 2
}
