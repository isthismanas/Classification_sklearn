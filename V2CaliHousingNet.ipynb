{
 "cells": [
  {
   "cell_type": "code",
   "execution_count": 1,
   "metadata": {
    "notebookRunGroups": {
     "groupValue": "1"
    }
   },
   "outputs": [],
   "source": [
    "import numpy as np\n",
    "import pandas as pd\n",
    "import matplotlib.pyplot as plt\n",
    "import sklearn\n",
    "import tensorflow as tf\n",
    "import tensorflow.keras as keras"
   ]
  },
  {
   "cell_type": "markdown",
   "metadata": {},
   "source": [
    "Data Pipeline"
   ]
  },
  {
   "cell_type": "code",
   "execution_count": 2,
   "metadata": {
    "notebookRunGroups": {
     "groupValue": "1"
    }
   },
   "outputs": [],
   "source": [
    "from pathlib import Path\n",
    "import tarfile\n",
    "import urllib.request\n",
    "\n",
    "def load_housing_data():\n",
    "    tarball_path = Path(\"datasets/housing.tgz\")\n",
    "    if not tarball_path.is_file():\n",
    "        Path(\"datasets\").mkdir(parents=True ,exist_ok=True)\n",
    "        url = \"https://raw.githubusercontent.com/ageron/handson-ml2/master/datasets/housing/housing.tgz\"\n",
    "        urllib.request.urlretrieve(url, tarball_path)\n",
    "        with tarfile.open(tarball_path) as housing_tarball:\n",
    "            housing_tarball.extractall(path=\"datasets\")\n",
    "    return pd.read_csv(Path(\"datasets/housing.csv\"))        "
   ]
  },
  {
   "cell_type": "code",
   "execution_count": 3,
   "metadata": {
    "notebookRunGroups": {
     "groupValue": "1"
    }
   },
   "outputs": [],
   "source": [
    "housing = load_housing_data()"
   ]
  },
  {
   "cell_type": "code",
   "execution_count": 4,
   "metadata": {
    "notebookRunGroups": {
     "groupValue": "1"
    }
   },
   "outputs": [
    {
     "data": {
      "text/html": [
       "<div>\n",
       "<style scoped>\n",
       "    .dataframe tbody tr th:only-of-type {\n",
       "        vertical-align: middle;\n",
       "    }\n",
       "\n",
       "    .dataframe tbody tr th {\n",
       "        vertical-align: top;\n",
       "    }\n",
       "\n",
       "    .dataframe thead th {\n",
       "        text-align: right;\n",
       "    }\n",
       "</style>\n",
       "<table border=\"1\" class=\"dataframe\">\n",
       "  <thead>\n",
       "    <tr style=\"text-align: right;\">\n",
       "      <th></th>\n",
       "      <th>longitude</th>\n",
       "      <th>latitude</th>\n",
       "      <th>housing_median_age</th>\n",
       "      <th>total_rooms</th>\n",
       "      <th>total_bedrooms</th>\n",
       "      <th>population</th>\n",
       "      <th>households</th>\n",
       "      <th>median_income</th>\n",
       "      <th>median_house_value</th>\n",
       "      <th>ocean_proximity</th>\n",
       "    </tr>\n",
       "  </thead>\n",
       "  <tbody>\n",
       "    <tr>\n",
       "      <th>0</th>\n",
       "      <td>-122.23</td>\n",
       "      <td>37.88</td>\n",
       "      <td>41.0</td>\n",
       "      <td>880.0</td>\n",
       "      <td>129.0</td>\n",
       "      <td>322.0</td>\n",
       "      <td>126.0</td>\n",
       "      <td>8.3252</td>\n",
       "      <td>452600.0</td>\n",
       "      <td>NEAR BAY</td>\n",
       "    </tr>\n",
       "    <tr>\n",
       "      <th>1</th>\n",
       "      <td>-122.22</td>\n",
       "      <td>37.86</td>\n",
       "      <td>21.0</td>\n",
       "      <td>7099.0</td>\n",
       "      <td>1106.0</td>\n",
       "      <td>2401.0</td>\n",
       "      <td>1138.0</td>\n",
       "      <td>8.3014</td>\n",
       "      <td>358500.0</td>\n",
       "      <td>NEAR BAY</td>\n",
       "    </tr>\n",
       "    <tr>\n",
       "      <th>2</th>\n",
       "      <td>-122.24</td>\n",
       "      <td>37.85</td>\n",
       "      <td>52.0</td>\n",
       "      <td>1467.0</td>\n",
       "      <td>190.0</td>\n",
       "      <td>496.0</td>\n",
       "      <td>177.0</td>\n",
       "      <td>7.2574</td>\n",
       "      <td>352100.0</td>\n",
       "      <td>NEAR BAY</td>\n",
       "    </tr>\n",
       "    <tr>\n",
       "      <th>3</th>\n",
       "      <td>-122.25</td>\n",
       "      <td>37.85</td>\n",
       "      <td>52.0</td>\n",
       "      <td>1274.0</td>\n",
       "      <td>235.0</td>\n",
       "      <td>558.0</td>\n",
       "      <td>219.0</td>\n",
       "      <td>5.6431</td>\n",
       "      <td>341300.0</td>\n",
       "      <td>NEAR BAY</td>\n",
       "    </tr>\n",
       "    <tr>\n",
       "      <th>4</th>\n",
       "      <td>-122.25</td>\n",
       "      <td>37.85</td>\n",
       "      <td>52.0</td>\n",
       "      <td>1627.0</td>\n",
       "      <td>280.0</td>\n",
       "      <td>565.0</td>\n",
       "      <td>259.0</td>\n",
       "      <td>3.8462</td>\n",
       "      <td>342200.0</td>\n",
       "      <td>NEAR BAY</td>\n",
       "    </tr>\n",
       "  </tbody>\n",
       "</table>\n",
       "</div>"
      ],
      "text/plain": [
       "   longitude  latitude  housing_median_age  total_rooms  total_bedrooms  \\\n",
       "0    -122.23     37.88                41.0        880.0           129.0   \n",
       "1    -122.22     37.86                21.0       7099.0          1106.0   \n",
       "2    -122.24     37.85                52.0       1467.0           190.0   \n",
       "3    -122.25     37.85                52.0       1274.0           235.0   \n",
       "4    -122.25     37.85                52.0       1627.0           280.0   \n",
       "\n",
       "   population  households  median_income  median_house_value ocean_proximity  \n",
       "0       322.0       126.0         8.3252            452600.0        NEAR BAY  \n",
       "1      2401.0      1138.0         8.3014            358500.0        NEAR BAY  \n",
       "2       496.0       177.0         7.2574            352100.0        NEAR BAY  \n",
       "3       558.0       219.0         5.6431            341300.0        NEAR BAY  \n",
       "4       565.0       259.0         3.8462            342200.0        NEAR BAY  "
      ]
     },
     "execution_count": 4,
     "metadata": {},
     "output_type": "execute_result"
    }
   ],
   "source": [
    "housing.head()"
   ]
  },
  {
   "cell_type": "code",
   "execution_count": 5,
   "metadata": {},
   "outputs": [],
   "source": [
    "dataset_path = Path(\"datasets/housing.csv\")\n",
    "dataset_line = tf.data.TextLineDataset(str(dataset_path))\n",
    "record_defaults = [tf.constant([0.], dtype=tf.float32)] * 7 + [tf.constant([0.], dtype=tf.float32)] * 2 + [tf.constant([], dtype=tf.string)] "
   ]
  },
  {
   "cell_type": "code",
   "execution_count": 6,
   "metadata": {},
   "outputs": [],
   "source": [
    "def parserx(line):\n",
    "    x = tf.io.decode_csv(line, record_defaults=record_defaults)\n",
    "    features1 = tf.stack(x[:8])\n",
    "    features2 = tf.stack(tf.concat([x[0:2], x[3:5]], axis=0))\n",
    "    return features1 , features2\n",
    "def parsery(line):\n",
    "    x = tf.io.decode_csv(line, record_defaults=record_defaults)\n",
    "    return tf.stack(x[8])"
   ]
  },
  {
   "cell_type": "code",
   "execution_count": 7,
   "metadata": {},
   "outputs": [],
   "source": [
    "data_x = dataset_line.skip(1).map(parserx)\n",
    "data_y = dataset_line.skip(1).map(parsery)"
   ]
  },
  {
   "cell_type": "code",
   "execution_count": 8,
   "metadata": {},
   "outputs": [],
   "source": [
    "data_x_wide_array = tf.TensorArray(tf.float32, size = 0 , dynamic_size=True)\n",
    "data_x_deep_array = tf.TensorArray(tf.float32, size = 0 , dynamic_size=True)\n",
    "data_y_array = tf.TensorArray(tf.float32, size = 0, dynamic_size = True)"
   ]
  },
  {
   "cell_type": "code",
   "execution_count": 9,
   "metadata": {},
   "outputs": [],
   "source": [
    "for x, y in data_x:\n",
    "    data_x_deep_array = data_x_deep_array.write(data_x_deep_array.size(), x)\n",
    "    data_x_wide_array = data_x_wide_array.write(data_x_wide_array.size(), y)"
   ]
  },
  {
   "cell_type": "code",
   "execution_count": 10,
   "metadata": {},
   "outputs": [],
   "source": [
    "train_x_deep = data_x_deep_array.stack()\n",
    "train_x_wide = data_x_wide_array.stack()"
   ]
  },
  {
   "cell_type": "code",
   "execution_count": 11,
   "metadata": {},
   "outputs": [],
   "source": [
    "for f in data_y:\n",
    "    data_y_array = data_y_array.write(data_y_array.size(), f)"
   ]
  },
  {
   "cell_type": "code",
   "execution_count": 12,
   "metadata": {},
   "outputs": [],
   "source": [
    "train_y = data_y_array.stack()"
   ]
  },
  {
   "cell_type": "code",
   "execution_count": 13,
   "metadata": {},
   "outputs": [
    {
     "data": {
      "text/plain": [
       "<tf.Tensor: shape=(20640, 1), dtype=float32, numpy=\n",
       "array([[452600.],\n",
       "       [358500.],\n",
       "       [352100.],\n",
       "       ...,\n",
       "       [ 92300.],\n",
       "       [ 84700.],\n",
       "       [ 89400.]], dtype=float32)>"
      ]
     },
     "execution_count": 13,
     "metadata": {},
     "output_type": "execute_result"
    }
   ],
   "source": [
    "tf.reshape(train_y , (train_y.shape[0], 1))"
   ]
  },
  {
   "cell_type": "markdown",
   "metadata": {},
   "source": [
    "## Utility Functions"
   ]
  },
  {
   "cell_type": "code",
   "execution_count": 14,
   "metadata": {},
   "outputs": [],
   "source": [
    "from pathlib import Path\n",
    "from time import strftime\n",
    "\n",
    "def get_run_logdir(root_logdir='my_logs'):\n",
    "  return Path(root_logdir)/strftime('rin_%Y_%m_%d_%H_%M_%S')\n",
    "\n",
    "run_logdir = get_run_logdir()"
   ]
  },
  {
   "cell_type": "markdown",
   "metadata": {},
   "source": [
    "## Model:"
   ]
  },
  {
   "cell_type": "code",
   "execution_count": 15,
   "metadata": {},
   "outputs": [],
   "source": [
    "class RTGaussianRegNoiseLayer(tf.keras.layers.Layer):\n",
    "  def __init__(self,units, stddev ,activation = None, **kwargs):\n",
    "    super().__init__(**kwargs)\n",
    "    self.stddev = stddev\n",
    "    self.units = units\n",
    "    self.activation = tf.keras.activations.get(activation)\n",
    "\n",
    "  def build(self, batch_input_shape):\n",
    "\n",
    "    self.kernel = self.add_weight(name = 'kernel',\n",
    "                                  shape = [batch_input_shape[-1], self.units],\n",
    "                                  initializer = tf.keras.initializers.GlorotNormal())\n",
    "    self.bias = self.add_weight(name = 'bias',\n",
    "                                shape = [self.units],\n",
    "                                initializer = tf.keras.initializers.Zeros())\n",
    "\n",
    "  def call(self, X , training = False):\n",
    "    self.batch_size = tf.shape(X)[0]\n",
    "    noise = tf.random.normal(shape = [self.batch_size, self.units], stddev = self.stddev)\n",
    "    if training :\n",
    "      if self.activation is not None:\n",
    "        return self.activation(tf.matmul(X, self.kernel) + self.bias) + noise\n",
    "      else:\n",
    "        return tf.matmul(X, self.kernel) + self.bias + noise\n",
    "    else:\n",
    "      if self.activation is not None:\n",
    "        return self.activation(tf.matmul(X, self.kernel) + self.bias)\n",
    "      else:\n",
    "        return tf.matmul(X, self.kernel) + self.bias\n",
    "\n",
    "  def get_config(self):\n",
    "    base_config = super().get_config()\n",
    "    return {**base_config , 'units': self.units ,\n",
    "            'activation' : tf.keras.activations.serialize(self.activation)}"
   ]
  },
  {
   "cell_type": "code",
   "execution_count": 16,
   "metadata": {},
   "outputs": [],
   "source": [
    "@tf.keras.utils.register_keras_serializable()\n",
    "class DualIOGaussianRT(tf.keras.Model):\n",
    " def __init__(self, architecture, keen_units, layer_depth, g_units , **kwargs):\n",
    "        super().__init__(**kwargs)\n",
    "        self.architecture = architecture\n",
    "        self.keen_units = keen_units\n",
    "        self.g_units = g_units\n",
    "        self.layer_depth = layer_depth\n",
    "        \n",
    "        self.DeepFlow_ = [tf.keras.layers.Dense(units, activation = 'relu',\n",
    "                                                kernel_initializer = tf.keras.initializers.GlorotNormal(),\n",
    "                                                kernel_regularizer = tf.keras.regularizers.L2(0.1)) for units in architecture]\n",
    "        self.BatchNormDeep_ = [tf.keras.layers.BatchNormalization() for _ in architecture]\n",
    "        self.WideFlow = [tf.keras.layers.Dense(keen_units,\n",
    "                                               activation = tf.keras.activations.relu,\n",
    "                                               kernel_initializer = tf.keras.initializers.HeNormal(),\n",
    "                                               kernel_regularizer= tf.keras.regularizers.L2(0.1)) for _ in range(self.layer_depth)]\n",
    "        self.BatchNormWide_ = tf.keras.layers.BatchNormalization()\n",
    "        self.GRNlayer  = RTGaussianRegNoiseLayer(g_units, 0.1, activation = 'relu')\n",
    "        self.concatenate_ = tf.keras.layers.Concatenate()\n",
    "        self.output_1 = tf.keras.layers.Dense(1,name='output_1', activation = tf.keras.activations.linear,\n",
    "                                              kernel_initializer = tf.keras.initializers.GlorotNormal())\n",
    "        self.output_2 = tf.keras.layers.Dense(1,name = 'output_2', activation = tf.keras.activations.linear,\n",
    "                                              kernel_initializer = tf.keras.initializers.GlorotNormal())\n",
    "        \n",
    " def call(self, input):\n",
    "        x_deep , x_wide = input[0] , input[1]\n",
    "        \n",
    "       \n",
    "        for layer, norm in zip(self.DeepFlow_, self.BatchNormDeep_):\n",
    "            x_deep = layer(x_deep)\n",
    "            x_deep = norm(x_deep)\n",
    "        for l in self.WideFlow:\n",
    "            x_wide = l(x_wide)\n",
    "        x_wide = self.BatchNormWide_(x_wide)\n",
    "        x_wide = self.GRNlayer(x_wide)\n",
    "        x = self.concatenate_([x_deep, x_wide])\n",
    "        out_1 = self.output_1(x)\n",
    "        out_2 = self.output_2(x_deep)\n",
    "        return {'output_1': out_1, 'output_2': out_2}\n",
    "\n",
    " def get_config(self):\n",
    "        base_config = super().get_config()\n",
    "        base_config.update({'architecture':self.architecture,\n",
    "                            'keen_units':self.keen_units,\n",
    "                            'g_units':self.g_units,\n",
    "                            'layer_depth':self.layer_depth})\n",
    "        return base_config"
   ]
  },
  {
   "cell_type": "code",
   "execution_count": 17,
   "metadata": {},
   "outputs": [],
   "source": [
    "import keras_tuner as kt\n",
    "class DualIOGaussianRTTuner(kt.HyperModel):\n",
    "    def build(self, hp):\n",
    "        architecture_depth = hp.Int('architecture_depth', min_value = 6, max_value=16)\n",
    "        architecture = [hp.Int(f'architecture_{i}', min_value=32, max_value=256, step=32) for i in range(architecture_depth)]\n",
    "        keen_units = hp.Int('keen_units', min_value=32, max_value=128, step=32)\n",
    "        g_units = hp.Int('g_units', min_value=8, max_value=128, step=32)\n",
    "        layer_depth = hp.Int('layer_depth', min_value=3, max_value=8)\n",
    "        learning_rate = hp.Float('learning_rate', min_value=1e-4, max_value=1e-2, sampling='LOG')\n",
    "        optimizer = hp.Choice('optimizer',  values = ['adam', 'rmsprop'])\n",
    "        if optimizer == 'adam':\n",
    "            optimizer = tf.keras.optimizers.Adam(learning_rate)\n",
    "        else:\n",
    "            optimizer = tf.keras.optimizers.RMSprop(learning_rate)\n",
    "\n",
    "        model = DualIOGaussianRT(architecture, keen_units, layer_depth, g_units)\n",
    "        model.compile(loss = {'output_1':tf.keras.losses.MeanSquaredError(),\n",
    "                              'output_2':tf.keras.losses.MeanSquaredError()},\n",
    "                      optimizer = optimizer,\n",
    "                      metrics = {'output_1':[tf.keras.metrics.RootMeanSquaredError()],\n",
    "                                 'output_2':[tf.keras.metrics.RootMeanSquaredError()]})          \n",
    "        return model"
   ]
  },
  {
   "cell_type": "code",
   "execution_count": 18,
   "metadata": {},
   "outputs": [],
   "source": [
    "objective = kt.Objective('val_loss', direction='min')\n",
    "HyperModelTuner = kt.RandomSearch(hypermodel=DualIOGaussianRTTuner(),\n",
    "                                  objective=objective,\n",
    "                                  max_trials=25,\n",
    "                                  overwrite = True,\n",
    "                                  directory='tuner_dir',\n",
    "                                  project_name='DualIOGaussianRT',\n",
    "                                  seed=42,\n",
    "                                  max_consecutive_failed_trials=5)"
   ]
  },
  {
   "cell_type": "code",
   "execution_count": 20,
   "metadata": {},
   "outputs": [
    {
     "name": "stdout",
     "output_type": "stream",
     "text": [
      "Trial 25 Complete [00h 00m 56s]\n",
      "val_loss: 10023739392.0\n",
      "\n",
      "Best val_loss So Far: 9088507904.0\n",
      "Total elapsed time: 00h 31m 33s\n"
     ]
    }
   ],
   "source": [
    "HyperModelTuner.search([train_x_deep, train_x_wide], {'output_1' : train_y, 'output_2': train_y}, epochs=30, validation_split=0.2)"
   ]
  },
  {
   "cell_type": "code",
   "execution_count": 21,
   "metadata": {},
   "outputs": [
    {
     "data": {
      "text/plain": [
       "{'architecture_depth': 8,\n",
       " 'architecture_0': 32,\n",
       " 'architecture_1': 256,\n",
       " 'architecture_2': 256,\n",
       " 'architecture_3': 96,\n",
       " 'architecture_4': 32,\n",
       " 'architecture_5': 256,\n",
       " 'keen_units': 64,\n",
       " 'g_units': 72,\n",
       " 'layer_depth': 8,\n",
       " 'learning_rate': 0.006838349735093645,\n",
       " 'optimizer': 'adam',\n",
       " 'architecture_6': 192,\n",
       " 'architecture_7': 160,\n",
       " 'architecture_8': 160,\n",
       " 'architecture_9': 160,\n",
       " 'architecture_10': 64,\n",
       " 'architecture_11': 64,\n",
       " 'architecture_12': 224,\n",
       " 'architecture_13': 32,\n",
       " 'architecture_14': 256,\n",
       " 'architecture_15': 256}"
      ]
     },
     "execution_count": 21,
     "metadata": {},
     "output_type": "execute_result"
    }
   ],
   "source": [
    "HyperModelTuner.get_best_hyperparameters()[0].values"
   ]
  },
  {
   "cell_type": "code",
   "execution_count": 22,
   "metadata": {},
   "outputs": [],
   "source": [
    "lr = HyperModelTuner.get_best_hyperparameters()[0].values['learning_rate']\n",
    "architecture = [HyperModelTuner.get_best_hyperparameters()[0].values[f'architecture_{i}'] for i in range(HyperModelTuner.get_best_hyperparameters()[0].values['architecture_depth'])]\n",
    "ku = HyperModelTuner.get_best_hyperparameters()[0].values['keen_units']\n",
    "gu = HyperModelTuner.get_best_hyperparameters()[0].values['g_units']\n",
    "ld = HyperModelTuner.get_best_hyperparameters()[0].values['layer_depth']"
   ]
  },
  {
   "cell_type": "code",
   "execution_count": 23,
   "metadata": {},
   "outputs": [],
   "source": [
    "model = DualIOGaussianRT(architecture, ku, ld, gu)"
   ]
  },
  {
   "cell_type": "code",
   "execution_count": 24,
   "metadata": {},
   "outputs": [],
   "source": [
    "model.compile(loss = {'output_1':tf.keras.losses.MeanSquaredError(),\n",
    "                        'output_2':tf.keras.losses.MeanSquaredError()},\n",
    "                optimizer = tf.keras.optimizers.Adam(lr),\n",
    "                metrics = {'output_1':[tf.keras.metrics.RootMeanSquaredError()],\n",
    "                             'output_2':[tf.keras.metrics.RootMeanSquaredError()]})"
   ]
  },
  {
   "cell_type": "code",
   "execution_count": 25,
   "metadata": {},
   "outputs": [
    {
     "name": "stdout",
     "output_type": "stream",
     "text": [
      "Epoch 1/100\n",
      "\u001b[1m511/516\u001b[0m \u001b[32m━━━━━━━━━━━━━━━━━━━\u001b[0m\u001b[37m━\u001b[0m \u001b[1m0s\u001b[0m 4ms/step - loss: 47529684992.0000 - output_1_root_mean_squared_error: 152149.3281 - output_2_root_mean_squared_error: 151989.7969\n",
      "Epoch 1: val_loss improved from inf to 66133561344.00000, saving model to best_model.keras\n",
      "\u001b[1m516/516\u001b[0m \u001b[32m━━━━━━━━━━━━━━━━━━━━\u001b[0m\u001b[37m\u001b[0m \u001b[1m11s\u001b[0m 6ms/step - loss: 47339417600.0000 - output_1_root_mean_squared_error: 151825.6875 - output_2_root_mean_squared_error: 151679.7656 - val_loss: 66133561344.0000 - val_output_1_root_mean_squared_error: 176199.5312 - val_output_2_root_mean_squared_error: 187315.9688\n",
      "Epoch 2/100\n",
      "\u001b[1m510/516\u001b[0m \u001b[32m━━━━━━━━━━━━━━━━━━━\u001b[0m\u001b[37m━\u001b[0m \u001b[1m0s\u001b[0m 4ms/step - loss: 20058269696.0000 - output_1_root_mean_squared_error: 99600.7734 - output_2_root_mean_squared_error: 100020.1172\n",
      "Epoch 2: val_loss improved from 66133561344.00000 to 17556639744.00000, saving model to best_model.keras\n",
      "\u001b[1m516/516\u001b[0m \u001b[32m━━━━━━━━━━━━━━━━━━━━\u001b[0m\u001b[37m\u001b[0m \u001b[1m2s\u001b[0m 4ms/step - loss: 20035559424.0000 - output_1_root_mean_squared_error: 99548.6875 - output_2_root_mean_squared_error: 99965.4141 - val_loss: 17556639744.0000 - val_output_1_root_mean_squared_error: 93645.3203 - val_output_2_root_mean_squared_error: 93740.0234\n",
      "Epoch 3/100\n",
      "\u001b[1m511/516\u001b[0m \u001b[32m━━━━━━━━━━━━━━━━━━━\u001b[0m\u001b[37m━\u001b[0m \u001b[1m0s\u001b[0m 4ms/step - loss: 16130413568.0000 - output_1_root_mean_squared_error: 89726.5938 - output_2_root_mean_squared_error: 89871.6719\n",
      "Epoch 3: val_loss did not improve from 17556639744.00000\n",
      "\u001b[1m516/516\u001b[0m \u001b[32m━━━━━━━━━━━━━━━━━━━━\u001b[0m\u001b[37m\u001b[0m \u001b[1m2s\u001b[0m 4ms/step - loss: 16125661184.0000 - output_1_root_mean_squared_error: 89713.2266 - output_2_root_mean_squared_error: 89858.5781 - val_loss: 20515504128.0000 - val_output_1_root_mean_squared_error: 101346.2969 - val_output_2_root_mean_squared_error: 101214.7734\n",
      "Epoch 4/100\n",
      "\u001b[1m508/516\u001b[0m \u001b[32m━━━━━━━━━━━━━━━━━━━\u001b[0m\u001b[37m━\u001b[0m \u001b[1m0s\u001b[0m 4ms/step - loss: 15886444544.0000 - output_1_root_mean_squared_error: 88953.1406 - output_2_root_mean_squared_error: 89204.0625\n",
      "Epoch 4: val_loss did not improve from 17556639744.00000\n",
      "\u001b[1m516/516\u001b[0m \u001b[32m━━━━━━━━━━━━━━━━━━━━\u001b[0m\u001b[37m\u001b[0m \u001b[1m2s\u001b[0m 5ms/step - loss: 15870115840.0000 - output_1_root_mean_squared_error: 88907.8281 - output_2_root_mean_squared_error: 89157.9766 - val_loss: 18388303872.0000 - val_output_1_root_mean_squared_error: 95801.5469 - val_output_2_root_mean_squared_error: 95970.6328\n",
      "Epoch 5/100\n",
      "\u001b[1m504/516\u001b[0m \u001b[32m━━━━━━━━━━━━━━━━━━━\u001b[0m\u001b[37m━\u001b[0m \u001b[1m0s\u001b[0m 4ms/step - loss: 14409381888.0000 - output_1_root_mean_squared_error: 84796.0312 - output_2_root_mean_squared_error: 84892.4609\n",
      "Epoch 5: val_loss improved from 17556639744.00000 to 14189918208.00000, saving model to best_model.keras\n",
      "\u001b[1m516/516\u001b[0m \u001b[32m━━━━━━━━━━━━━━━━━━━━\u001b[0m\u001b[37m\u001b[0m \u001b[1m2s\u001b[0m 5ms/step - loss: 14394254336.0000 - output_1_root_mean_squared_error: 84752.0703 - output_2_root_mean_squared_error: 84848.1797 - val_loss: 14189918208.0000 - val_output_1_root_mean_squared_error: 84250.8047 - val_output_2_root_mean_squared_error: 84212.3203\n",
      "Epoch 6/100\n",
      "\u001b[1m504/516\u001b[0m \u001b[32m━━━━━━━━━━━━━━━━━━━\u001b[0m\u001b[37m━\u001b[0m \u001b[1m0s\u001b[0m 4ms/step - loss: 12393008128.0000 - output_1_root_mean_squared_error: 78682.2188 - output_2_root_mean_squared_error: 78734.1562\n",
      "Epoch 6: val_loss improved from 14189918208.00000 to 12331559936.00000, saving model to best_model.keras\n",
      "\u001b[1m516/516\u001b[0m \u001b[32m━━━━━━━━━━━━━━━━━━━━\u001b[0m\u001b[37m\u001b[0m \u001b[1m2s\u001b[0m 4ms/step - loss: 12404040704.0000 - output_1_root_mean_squared_error: 78716.8359 - output_2_root_mean_squared_error: 78769.5000 - val_loss: 12331559936.0000 - val_output_1_root_mean_squared_error: 78555.2656 - val_output_2_root_mean_squared_error: 78489.6562\n",
      "Epoch 7/100\n",
      "\u001b[1m505/516\u001b[0m \u001b[32m━━━━━━━━━━━━━━━━━━━\u001b[0m\u001b[37m━\u001b[0m \u001b[1m0s\u001b[0m 4ms/step - loss: 12285784064.0000 - output_1_root_mean_squared_error: 78325.3281 - output_2_root_mean_squared_error: 78382.8203\n",
      "Epoch 7: val_loss did not improve from 12331559936.00000\n",
      "\u001b[1m516/516\u001b[0m \u001b[32m━━━━━━━━━━━━━━━━━━━━\u001b[0m\u001b[37m\u001b[0m \u001b[1m2s\u001b[0m 4ms/step - loss: 12293962752.0000 - output_1_root_mean_squared_error: 78351.6719 - output_2_root_mean_squared_error: 78409.3281 - val_loss: 14479771648.0000 - val_output_1_root_mean_squared_error: 85059.3203 - val_output_2_root_mean_squared_error: 85115.6953\n",
      "Epoch 8/100\n",
      "\u001b[1m515/516\u001b[0m \u001b[32m━━━━━━━━━━━━━━━━━━━\u001b[0m\u001b[37m━\u001b[0m \u001b[1m0s\u001b[0m 4ms/step - loss: 12653330432.0000 - output_1_root_mean_squared_error: 79464.5312 - output_2_root_mean_squared_error: 79548.8906\n",
      "Epoch 8: val_loss improved from 12331559936.00000 to 11398755328.00000, saving model to best_model.keras\n",
      "\u001b[1m516/516\u001b[0m \u001b[32m━━━━━━━━━━━━━━━━━━━━\u001b[0m\u001b[37m\u001b[0m \u001b[1m2s\u001b[0m 4ms/step - loss: 12652058624.0000 - output_1_root_mean_squared_error: 79460.6953 - output_2_root_mean_squared_error: 79544.9375 - val_loss: 11398755328.0000 - val_output_1_root_mean_squared_error: 75490.3281 - val_output_2_root_mean_squared_error: 75498.0859\n",
      "Epoch 9/100\n",
      "\u001b[1m515/516\u001b[0m \u001b[32m━━━━━━━━━━━━━━━━━━━\u001b[0m\u001b[37m━\u001b[0m \u001b[1m0s\u001b[0m 4ms/step - loss: 12788430848.0000 - output_1_root_mean_squared_error: 79891.4375 - output_2_root_mean_squared_error: 79962.0391\n",
      "Epoch 9: val_loss did not improve from 11398755328.00000\n",
      "\u001b[1m516/516\u001b[0m \u001b[32m━━━━━━━━━━━━━━━━━━━━\u001b[0m\u001b[37m\u001b[0m \u001b[1m2s\u001b[0m 4ms/step - loss: 12786343936.0000 - output_1_root_mean_squared_error: 79885.0391 - output_2_root_mean_squared_error: 79955.5391 - val_loss: 19064500224.0000 - val_output_1_root_mean_squared_error: 97574.8516 - val_output_2_root_mean_squared_error: 97691.5781\n",
      "Epoch 10/100\n",
      "\u001b[1m516/516\u001b[0m \u001b[32m━━━━━━━━━━━━━━━━━━━━\u001b[0m\u001b[37m\u001b[0m \u001b[1m0s\u001b[0m 4ms/step - loss: 11525509120.0000 - output_1_root_mean_squared_error: 75870.8438 - output_2_root_mean_squared_error: 75898.6172\n",
      "Epoch 10: val_loss did not improve from 11398755328.00000\n",
      "\u001b[1m516/516\u001b[0m \u001b[32m━━━━━━━━━━━━━━━━━━━━\u001b[0m\u001b[37m\u001b[0m \u001b[1m2s\u001b[0m 4ms/step - loss: 11524701184.0000 - output_1_root_mean_squared_error: 75868.2188 - output_2_root_mean_squared_error: 75895.9844 - val_loss: 14185380864.0000 - val_output_1_root_mean_squared_error: 84201.5391 - val_output_2_root_mean_squared_error: 84234.6562\n",
      "Epoch 11/100\n",
      "\u001b[1m514/516\u001b[0m \u001b[32m━━━━━━━━━━━━━━━━━━━\u001b[0m\u001b[37m━\u001b[0m \u001b[1m0s\u001b[0m 4ms/step - loss: 11480141824.0000 - output_1_root_mean_squared_error: 75683.9219 - output_2_root_mean_squared_error: 75710.4062\n",
      "Epoch 11: val_loss improved from 11398755328.00000 to 11287131136.00000, saving model to best_model.keras\n",
      "\u001b[1m516/516\u001b[0m \u001b[32m━━━━━━━━━━━━━━━━━━━━\u001b[0m\u001b[37m\u001b[0m \u001b[1m2s\u001b[0m 5ms/step - loss: 11476472832.0000 - output_1_root_mean_squared_error: 75672.0547 - output_2_root_mean_squared_error: 75698.4922 - val_loss: 11287131136.0000 - val_output_1_root_mean_squared_error: 75141.2969 - val_output_2_root_mean_squared_error: 75106.0078\n",
      "Epoch 12/100\n",
      "\u001b[1m506/516\u001b[0m \u001b[32m━━━━━━━━━━━━━━━━━━━\u001b[0m\u001b[37m━\u001b[0m \u001b[1m0s\u001b[0m 4ms/step - loss: 10662727680.0000 - output_1_root_mean_squared_error: 72993.7578 - output_2_root_mean_squared_error: 73003.5938\n",
      "Epoch 12: val_loss did not improve from 11287131136.00000\n",
      "\u001b[1m516/516\u001b[0m \u001b[32m━━━━━━━━━━━━━━━━━━━━\u001b[0m\u001b[37m\u001b[0m \u001b[1m2s\u001b[0m 4ms/step - loss: 10668341248.0000 - output_1_root_mean_squared_error: 73013.1719 - output_2_root_mean_squared_error: 73023.1328 - val_loss: 11480029184.0000 - val_output_1_root_mean_squared_error: 75757.7812 - val_output_2_root_mean_squared_error: 75767.9453\n",
      "Epoch 13/100\n",
      "\u001b[1m508/516\u001b[0m \u001b[32m━━━━━━━━━━━━━━━━━━━\u001b[0m\u001b[37m━\u001b[0m \u001b[1m0s\u001b[0m 4ms/step - loss: 11162443776.0000 - output_1_root_mean_squared_error: 74694.2734 - output_2_root_mean_squared_error: 74698.3594\n",
      "Epoch 13: val_loss did not improve from 11287131136.00000\n",
      "\u001b[1m516/516\u001b[0m \u001b[32m━━━━━━━━━━━━━━━━━━━━\u001b[0m\u001b[37m\u001b[0m \u001b[1m2s\u001b[0m 4ms/step - loss: 11160586240.0000 - output_1_root_mean_squared_error: 74688.2188 - output_2_root_mean_squared_error: 74692.3516 - val_loss: 11608659968.0000 - val_output_1_root_mean_squared_error: 76185.0078 - val_output_2_root_mean_squared_error: 76187.2812\n",
      "Epoch 14/100\n",
      "\u001b[1m507/516\u001b[0m \u001b[32m━━━━━━━━━━━━━━━━━━━\u001b[0m\u001b[37m━\u001b[0m \u001b[1m0s\u001b[0m 4ms/step - loss: 10895433728.0000 - output_1_root_mean_squared_error: 73777.0078 - output_2_root_mean_squared_error: 73777.7109\n",
      "Epoch 14: val_loss did not improve from 11287131136.00000\n",
      "\u001b[1m516/516\u001b[0m \u001b[32m━━━━━━━━━━━━━━━━━━━━\u001b[0m\u001b[37m\u001b[0m \u001b[1m2s\u001b[0m 4ms/step - loss: 10884720640.0000 - output_1_root_mean_squared_error: 73740.8594 - output_2_root_mean_squared_error: 73741.5547 - val_loss: 13481999360.0000 - val_output_1_root_mean_squared_error: 82090.6875 - val_output_2_root_mean_squared_error: 82116.5156\n",
      "Epoch 15/100\n",
      "\u001b[1m509/516\u001b[0m \u001b[32m━━━━━━━━━━━━━━━━━━━\u001b[0m\u001b[37m━\u001b[0m \u001b[1m0s\u001b[0m 4ms/step - loss: 10286312448.0000 - output_1_root_mean_squared_error: 71670.9375 - output_2_root_mean_squared_error: 71672.2031\n",
      "Epoch 15: val_loss improved from 11287131136.00000 to 10551222272.00000, saving model to best_model.keras\n",
      "\u001b[1m516/516\u001b[0m \u001b[32m━━━━━━━━━━━━━━━━━━━━\u001b[0m\u001b[37m\u001b[0m \u001b[1m2s\u001b[0m 4ms/step - loss: 10284774400.0000 - output_1_root_mean_squared_error: 71666.2578 - output_2_root_mean_squared_error: 71667.5000 - val_loss: 10551222272.0000 - val_output_1_root_mean_squared_error: 72634.6094 - val_output_2_root_mean_squared_error: 72632.1641\n",
      "Epoch 16/100\n",
      "\u001b[1m513/516\u001b[0m \u001b[32m━━━━━━━━━━━━━━━━━━━\u001b[0m\u001b[37m━\u001b[0m \u001b[1m0s\u001b[0m 4ms/step - loss: 10632044544.0000 - output_1_root_mean_squared_error: 72897.9219 - output_2_root_mean_squared_error: 72895.3672\n",
      "Epoch 16: val_loss did not improve from 10551222272.00000\n",
      "\u001b[1m516/516\u001b[0m \u001b[32m━━━━━━━━━━━━━━━━━━━━\u001b[0m\u001b[37m\u001b[0m \u001b[1m2s\u001b[0m 4ms/step - loss: 10629626880.0000 - output_1_root_mean_squared_error: 72889.6875 - output_2_root_mean_squared_error: 72887.1172 - val_loss: 11894846464.0000 - val_output_1_root_mean_squared_error: 77118.8359 - val_output_2_root_mean_squared_error: 77120.1797\n",
      "Epoch 17/100\n",
      "\u001b[1m512/516\u001b[0m \u001b[32m━━━━━━━━━━━━━━━━━━━\u001b[0m\u001b[37m━\u001b[0m \u001b[1m0s\u001b[0m 4ms/step - loss: 10475379712.0000 - output_1_root_mean_squared_error: 72346.2891 - output_2_root_mean_squared_error: 72361.5234\n",
      "Epoch 17: val_loss did not improve from 10551222272.00000\n",
      "\u001b[1m516/516\u001b[0m \u001b[32m━━━━━━━━━━━━━━━━━━━━\u001b[0m\u001b[37m\u001b[0m \u001b[1m2s\u001b[0m 4ms/step - loss: 10471467008.0000 - output_1_root_mean_squared_error: 72332.6719 - output_2_root_mean_squared_error: 72348.1953 - val_loss: 13390017536.0000 - val_output_1_root_mean_squared_error: 81869.2500 - val_output_2_root_mean_squared_error: 81776.7578\n",
      "Epoch 18/100\n",
      "\u001b[1m505/516\u001b[0m \u001b[32m━━━━━━━━━━━━━━━━━━━\u001b[0m\u001b[37m━\u001b[0m \u001b[1m0s\u001b[0m 4ms/step - loss: 10244492288.0000 - output_1_root_mean_squared_error: 71553.1719 - output_2_root_mean_squared_error: 71547.2266\n",
      "Epoch 18: val_loss improved from 10551222272.00000 to 10538911744.00000, saving model to best_model.keras\n",
      "\u001b[1m516/516\u001b[0m \u001b[32m━━━━━━━━━━━━━━━━━━━━\u001b[0m\u001b[37m\u001b[0m \u001b[1m2s\u001b[0m 4ms/step - loss: 10244706304.0000 - output_1_root_mean_squared_error: 71554.3438 - output_2_root_mean_squared_error: 71548.4688 - val_loss: 10538911744.0000 - val_output_1_root_mean_squared_error: 72594.7422 - val_output_2_root_mean_squared_error: 72587.2266\n",
      "Epoch 19/100\n",
      "\u001b[1m504/516\u001b[0m \u001b[32m━━━━━━━━━━━━━━━━━━━\u001b[0m\u001b[37m━\u001b[0m \u001b[1m0s\u001b[0m 4ms/step - loss: 10104782848.0000 - output_1_root_mean_squared_error: 71065.2031 - output_2_root_mean_squared_error: 71065.2578\n",
      "Epoch 19: val_loss did not improve from 10538911744.00000\n",
      "\u001b[1m516/516\u001b[0m \u001b[32m━━━━━━━━━━━━━━━━━━━━\u001b[0m\u001b[37m\u001b[0m \u001b[1m2s\u001b[0m 4ms/step - loss: 10099316736.0000 - output_1_root_mean_squared_error: 71046.2656 - output_2_root_mean_squared_error: 71046.2812 - val_loss: 15289887744.0000 - val_output_1_root_mean_squared_error: 87425.7344 - val_output_2_root_mean_squared_error: 87444.9844\n",
      "Epoch 20/100\n",
      "\u001b[1m513/516\u001b[0m \u001b[32m━━━━━━━━━━━━━━━━━━━\u001b[0m\u001b[37m━\u001b[0m \u001b[1m0s\u001b[0m 4ms/step - loss: 9777313792.0000 - output_1_root_mean_squared_error: 69914.3594 - output_2_root_mean_squared_error: 69915.3281\n",
      "Epoch 20: val_loss did not improve from 10538911744.00000\n",
      "\u001b[1m516/516\u001b[0m \u001b[32m━━━━━━━━━━━━━━━━━━━━\u001b[0m\u001b[37m\u001b[0m \u001b[1m2s\u001b[0m 5ms/step - loss: 9777111040.0000 - output_1_root_mean_squared_error: 69913.6641 - output_2_root_mean_squared_error: 69914.6406 - val_loss: 10643673088.0000 - val_output_1_root_mean_squared_error: 72957.3906 - val_output_2_root_mean_squared_error: 72944.3672\n",
      "Epoch 21/100\n",
      "\u001b[1m512/516\u001b[0m \u001b[32m━━━━━━━━━━━━━━━━━━━\u001b[0m\u001b[37m━\u001b[0m \u001b[1m0s\u001b[0m 4ms/step - loss: 9387298816.0000 - output_1_root_mean_squared_error: 68492.2422 - output_2_root_mean_squared_error: 68490.5234\n",
      "Epoch 21: val_loss did not improve from 10538911744.00000\n",
      "\u001b[1m516/516\u001b[0m \u001b[32m━━━━━━━━━━━━━━━━━━━━\u001b[0m\u001b[37m\u001b[0m \u001b[1m2s\u001b[0m 5ms/step - loss: 9389318144.0000 - output_1_root_mean_squared_error: 68499.7344 - output_2_root_mean_squared_error: 68498.0469 - val_loss: 10710660096.0000 - val_output_1_root_mean_squared_error: 73179.9062 - val_output_2_root_mean_squared_error: 73180.3047\n",
      "Epoch 22/100\n",
      "\u001b[1m510/516\u001b[0m \u001b[32m━━━━━━━━━━━━━━━━━━━\u001b[0m\u001b[37m━\u001b[0m \u001b[1m0s\u001b[0m 4ms/step - loss: 9436400640.0000 - output_1_root_mean_squared_error: 68624.8125 - output_2_root_mean_squared_error: 68682.0469\n",
      "Epoch 22: val_loss did not improve from 10538911744.00000\n",
      "\u001b[1m516/516\u001b[0m \u001b[32m━━━━━━━━━━━━━━━━━━━━\u001b[0m\u001b[37m\u001b[0m \u001b[1m2s\u001b[0m 5ms/step - loss: 9439452160.0000 - output_1_root_mean_squared_error: 68636.1328 - output_2_root_mean_squared_error: 68693.7734 - val_loss: 12597918720.0000 - val_output_1_root_mean_squared_error: 79432.3125 - val_output_2_root_mean_squared_error: 79299.5312\n",
      "Epoch 23/100\n",
      "\u001b[1m507/516\u001b[0m \u001b[32m━━━━━━━━━━━━━━━━━━━\u001b[0m\u001b[37m━\u001b[0m \u001b[1m0s\u001b[0m 4ms/step - loss: 9473436672.0000 - output_1_root_mean_squared_error: 68797.3438 - output_2_root_mean_squared_error: 68838.5469\n",
      "Epoch 23: val_loss did not improve from 10538911744.00000\n",
      "\u001b[1m516/516\u001b[0m \u001b[32m━━━━━━━━━━━━━━━━━━━━\u001b[0m\u001b[37m\u001b[0m \u001b[1m2s\u001b[0m 5ms/step - loss: 9474196480.0000 - output_1_root_mean_squared_error: 68800.2344 - output_2_root_mean_squared_error: 68841.4062 - val_loss: 16635572224.0000 - val_output_1_root_mean_squared_error: 91053.3984 - val_output_2_root_mean_squared_error: 91350.1250\n",
      "Epoch 24/100\n",
      "\u001b[1m515/516\u001b[0m \u001b[32m━━━━━━━━━━━━━━━━━━━\u001b[0m\u001b[37m━\u001b[0m \u001b[1m0s\u001b[0m 4ms/step - loss: 10277403648.0000 - output_1_root_mean_squared_error: 71574.1719 - output_2_root_mean_squared_error: 71629.8594\n",
      "Epoch 24: val_loss did not improve from 10538911744.00000\n",
      "\u001b[1m516/516\u001b[0m \u001b[32m━━━━━━━━━━━━━━━━━━━━\u001b[0m\u001b[37m\u001b[0m \u001b[1m2s\u001b[0m 4ms/step - loss: 10276410368.0000 - output_1_root_mean_squared_error: 71571.0156 - output_2_root_mean_squared_error: 71626.6953 - val_loss: 13569165312.0000 - val_output_1_root_mean_squared_error: 82729.1328 - val_output_2_root_mean_squared_error: 82006.3828\n",
      "Epoch 25/100\n",
      "\u001b[1m503/516\u001b[0m \u001b[32m━━━━━━━━━━━━━━━━━━━\u001b[0m\u001b[37m━\u001b[0m \u001b[1m0s\u001b[0m 4ms/step - loss: 9558481920.0000 - output_1_root_mean_squared_error: 69116.6875 - output_2_root_mean_squared_error: 69117.0547\n",
      "Epoch 25: val_loss did not improve from 10538911744.00000\n",
      "\u001b[1m516/516\u001b[0m \u001b[32m━━━━━━━━━━━━━━━━━━━━\u001b[0m\u001b[37m\u001b[0m \u001b[1m2s\u001b[0m 4ms/step - loss: 9561551872.0000 - output_1_root_mean_squared_error: 69127.7812 - output_2_root_mean_squared_error: 69128.9141 - val_loss: 17756604416.0000 - val_output_1_root_mean_squared_error: 94069.6953 - val_output_2_root_mean_squared_error: 94379.5078\n",
      "Epoch 26/100\n",
      "\u001b[1m511/516\u001b[0m \u001b[32m━━━━━━━━━━━━━━━━━━━\u001b[0m\u001b[37m━\u001b[0m \u001b[1m0s\u001b[0m 4ms/step - loss: 9540542464.0000 - output_1_root_mean_squared_error: 69042.1484 - output_2_root_mean_squared_error: 69070.2656\n",
      "Epoch 26: val_loss improved from 10538911744.00000 to 10330092544.00000, saving model to best_model.keras\n",
      "\u001b[1m516/516\u001b[0m \u001b[32m━━━━━━━━━━━━━━━━━━━━\u001b[0m\u001b[37m\u001b[0m \u001b[1m2s\u001b[0m 4ms/step - loss: 9541262336.0000 - output_1_root_mean_squared_error: 69044.8047 - output_2_root_mean_squared_error: 69073.0547 - val_loss: 10330092544.0000 - val_output_1_root_mean_squared_error: 71944.9844 - val_output_2_root_mean_squared_error: 71791.3984\n",
      "Epoch 27/100\n",
      "\u001b[1m516/516\u001b[0m \u001b[32m━━━━━━━━━━━━━━━━━━━━\u001b[0m\u001b[37m\u001b[0m \u001b[1m0s\u001b[0m 4ms/step - loss: 9488986112.0000 - output_1_root_mean_squared_error: 68868.6484 - output_2_root_mean_squared_error: 68855.5234\n",
      "Epoch 27: val_loss improved from 10330092544.00000 to 9994036224.00000, saving model to best_model.keras\n",
      "\u001b[1m516/516\u001b[0m \u001b[32m━━━━━━━━━━━━━━━━━━━━\u001b[0m\u001b[37m\u001b[0m \u001b[1m2s\u001b[0m 4ms/step - loss: 9488762880.0000 - output_1_root_mean_squared_error: 68867.8672 - output_2_root_mean_squared_error: 68854.7578 - val_loss: 9994036224.0000 - val_output_1_root_mean_squared_error: 70700.3984 - val_output_2_root_mean_squared_error: 70678.7344\n",
      "Epoch 28/100\n",
      "\u001b[1m510/516\u001b[0m \u001b[32m━━━━━━━━━━━━━━━━━━━\u001b[0m\u001b[37m━\u001b[0m \u001b[1m0s\u001b[0m 4ms/step - loss: 9173011456.0000 - output_1_root_mean_squared_error: 67705.1797 - output_2_root_mean_squared_error: 67734.1328\n",
      "Epoch 28: val_loss did not improve from 9994036224.00000\n",
      "\u001b[1m516/516\u001b[0m \u001b[32m━━━━━━━━━━━━━━━━━━━━\u001b[0m\u001b[37m\u001b[0m \u001b[1m2s\u001b[0m 4ms/step - loss: 9174938624.0000 - output_1_root_mean_squared_error: 67712.3203 - output_2_root_mean_squared_error: 67741.2734 - val_loss: 16564978688.0000 - val_output_1_root_mean_squared_error: 90800.8672 - val_output_2_root_mean_squared_error: 91214.9844\n",
      "Epoch 29/100\n",
      "\u001b[1m515/516\u001b[0m \u001b[32m━━━━━━━━━━━━━━━━━━━\u001b[0m\u001b[37m━\u001b[0m \u001b[1m0s\u001b[0m 4ms/step - loss: 9125850112.0000 - output_1_root_mean_squared_error: 67535.9219 - output_2_root_mean_squared_error: 67556.0156\n",
      "Epoch 29: val_loss did not improve from 9994036224.00000\n",
      "\u001b[1m516/516\u001b[0m \u001b[32m━━━━━━━━━━━━━━━━━━━━\u001b[0m\u001b[37m\u001b[0m \u001b[1m2s\u001b[0m 4ms/step - loss: 9125641216.0000 - output_1_root_mean_squared_error: 67535.1719 - output_2_root_mean_squared_error: 67555.2500 - val_loss: 12632136704.0000 - val_output_1_root_mean_squared_error: 79447.7109 - val_output_2_root_mean_squared_error: 79499.5859\n",
      "Epoch 30/100\n",
      "\u001b[1m504/516\u001b[0m \u001b[32m━━━━━━━━━━━━━━━━━━━\u001b[0m\u001b[37m━\u001b[0m \u001b[1m0s\u001b[0m 4ms/step - loss: 9418831872.0000 - output_1_root_mean_squared_error: 68587.5703 - output_2_root_mean_squared_error: 68637.9609\n",
      "Epoch 30: val_loss did not improve from 9994036224.00000\n",
      "\u001b[1m516/516\u001b[0m \u001b[32m━━━━━━━━━━━━━━━━━━━━\u001b[0m\u001b[37m\u001b[0m \u001b[1m2s\u001b[0m 4ms/step - loss: 9426270208.0000 - output_1_root_mean_squared_error: 68613.8516 - output_2_root_mean_squared_error: 68666.0859 - val_loss: 11747639296.0000 - val_output_1_root_mean_squared_error: 76623.4688 - val_output_2_root_mean_squared_error: 76658.1797\n",
      "Epoch 31/100\n",
      "\u001b[1m514/516\u001b[0m \u001b[32m━━━━━━━━━━━━━━━━━━━\u001b[0m\u001b[37m━\u001b[0m \u001b[1m0s\u001b[0m 4ms/step - loss: 10803958784.0000 - output_1_root_mean_squared_error: 73326.0078 - output_2_root_mean_squared_error: 73604.6328\n",
      "Epoch 31: val_loss did not improve from 9994036224.00000\n",
      "\u001b[1m516/516\u001b[0m \u001b[32m━━━━━━━━━━━━━━━━━━━━\u001b[0m\u001b[37m\u001b[0m \u001b[1m2s\u001b[0m 4ms/step - loss: 10803902464.0000 - output_1_root_mean_squared_error: 73326.3281 - output_2_root_mean_squared_error: 73604.3047 - val_loss: 20981741568.0000 - val_output_1_root_mean_squared_error: 101892.6406 - val_output_2_root_mean_squared_error: 102954.4453\n",
      "Epoch 32/100\n",
      "\u001b[1m512/516\u001b[0m \u001b[32m━━━━━━━━━━━━━━━━━━━\u001b[0m\u001b[37m━\u001b[0m \u001b[1m0s\u001b[0m 4ms/step - loss: 9823341568.0000 - output_1_root_mean_squared_error: 70023.8594 - output_2_root_mean_squared_error: 70101.8750\n",
      "Epoch 32: val_loss improved from 9994036224.00000 to 9964129280.00000, saving model to best_model.keras\n",
      "\u001b[1m516/516\u001b[0m \u001b[32m━━━━━━━━━━━━━━━━━━━━\u001b[0m\u001b[37m\u001b[0m \u001b[1m2s\u001b[0m 4ms/step - loss: 9822307328.0000 - output_1_root_mean_squared_error: 70020.4688 - output_2_root_mean_squared_error: 70098.2578 - val_loss: 9964129280.0000 - val_output_1_root_mean_squared_error: 70674.9688 - val_output_2_root_mean_squared_error: 70492.3125\n",
      "Epoch 33/100\n",
      "\u001b[1m513/516\u001b[0m \u001b[32m━━━━━━━━━━━━━━━━━━━\u001b[0m\u001b[37m━\u001b[0m \u001b[1m0s\u001b[0m 4ms/step - loss: 9786950656.0000 - output_1_root_mean_squared_error: 69923.5469 - output_2_root_mean_squared_error: 69950.9219\n",
      "Epoch 33: val_loss did not improve from 9964129280.00000\n",
      "\u001b[1m516/516\u001b[0m \u001b[32m━━━━━━━━━━━━━━━━━━━━\u001b[0m\u001b[37m\u001b[0m \u001b[1m2s\u001b[0m 4ms/step - loss: 9783171072.0000 - output_1_root_mean_squared_error: 69909.9922 - output_2_root_mean_squared_error: 69937.3594 - val_loss: 17203636224.0000 - val_output_1_root_mean_squared_error: 92458.5469 - val_output_2_root_mean_squared_error: 93032.5156\n",
      "Epoch 34/100\n",
      "\u001b[1m505/516\u001b[0m \u001b[32m━━━━━━━━━━━━━━━━━━━\u001b[0m\u001b[37m━\u001b[0m \u001b[1m0s\u001b[0m 4ms/step - loss: 9373868032.0000 - output_1_root_mean_squared_error: 68430.7344 - output_2_root_mean_squared_error: 68478.4453\n",
      "Epoch 34: val_loss did not improve from 9964129280.00000\n",
      "\u001b[1m516/516\u001b[0m \u001b[32m━━━━━━━━━━━━━━━━━━━━\u001b[0m\u001b[37m\u001b[0m \u001b[1m2s\u001b[0m 4ms/step - loss: 9370940416.0000 - output_1_root_mean_squared_error: 68420.3984 - output_2_root_mean_squared_error: 68467.6328 - val_loss: 11420354560.0000 - val_output_1_root_mean_squared_error: 75384.7188 - val_output_2_root_mean_squared_error: 75746.2266\n",
      "Epoch 35/100\n",
      "\u001b[1m509/516\u001b[0m \u001b[32m━━━━━━━━━━━━━━━━━━━\u001b[0m\u001b[37m━\u001b[0m \u001b[1m0s\u001b[0m 4ms/step - loss: 9064656896.0000 - output_1_root_mean_squared_error: 67281.8984 - output_2_root_mean_squared_error: 67320.2422\n",
      "Epoch 35: val_loss did not improve from 9964129280.00000\n",
      "\u001b[1m516/516\u001b[0m \u001b[32m━━━━━━━━━━━━━━━━━━━━\u001b[0m\u001b[37m\u001b[0m \u001b[1m2s\u001b[0m 4ms/step - loss: 9067715584.0000 - output_1_root_mean_squared_error: 67293.4766 - output_2_root_mean_squared_error: 67331.9219 - val_loss: 17704523776.0000 - val_output_1_root_mean_squared_error: 93914.4531 - val_output_2_root_mean_squared_error: 94258.1016\n",
      "Epoch 36/100\n",
      "\u001b[1m511/516\u001b[0m \u001b[32m━━━━━━━━━━━━━━━━━━━\u001b[0m\u001b[37m━\u001b[0m \u001b[1m0s\u001b[0m 4ms/step - loss: 9547898880.0000 - output_1_root_mean_squared_error: 69070.0078 - output_2_root_mean_squared_error: 69107.6406\n",
      "Epoch 36: val_loss did not improve from 9964129280.00000\n",
      "\u001b[1m516/516\u001b[0m \u001b[32m━━━━━━━━━━━━━━━━━━━━\u001b[0m\u001b[37m\u001b[0m \u001b[1m2s\u001b[0m 4ms/step - loss: 9546514432.0000 - output_1_root_mean_squared_error: 69065.0312 - output_2_root_mean_squared_error: 69102.6719 - val_loss: 11849093120.0000 - val_output_1_root_mean_squared_error: 76875.6406 - val_output_2_root_mean_squared_error: 77066.3438\n",
      "Epoch 37/100\n",
      "\u001b[1m508/516\u001b[0m \u001b[32m━━━━━━━━━━━━━━━━━━━\u001b[0m\u001b[37m━\u001b[0m \u001b[1m0s\u001b[0m 4ms/step - loss: 9457647616.0000 - output_1_root_mean_squared_error: 68724.8984 - output_2_root_mean_squared_error: 68773.3281\n",
      "Epoch 37: val_loss improved from 9964129280.00000 to 9707781120.00000, saving model to best_model.keras\n",
      "\u001b[1m516/516\u001b[0m \u001b[32m━━━━━━━━━━━━━━━━━━━━\u001b[0m\u001b[37m\u001b[0m \u001b[1m2s\u001b[0m 4ms/step - loss: 9453471744.0000 - output_1_root_mean_squared_error: 68709.4531 - output_2_root_mean_squared_error: 68758.8203 - val_loss: 9707781120.0000 - val_output_1_root_mean_squared_error: 69647.0000 - val_output_2_root_mean_squared_error: 69692.6797\n",
      "Epoch 38/100\n",
      "\u001b[1m513/516\u001b[0m \u001b[32m━━━━━━━━━━━━━━━━━━━\u001b[0m\u001b[37m━\u001b[0m \u001b[1m0s\u001b[0m 4ms/step - loss: 9328050176.0000 - output_1_root_mean_squared_error: 68191.2422 - output_2_root_mean_squared_error: 68377.1797\n",
      "Epoch 38: val_loss did not improve from 9707781120.00000\n",
      "\u001b[1m516/516\u001b[0m \u001b[32m━━━━━━━━━━━━━━━━━━━━\u001b[0m\u001b[37m\u001b[0m \u001b[1m2s\u001b[0m 4ms/step - loss: 9328131072.0000 - output_1_root_mean_squared_error: 68191.6328 - output_2_root_mean_squared_error: 68377.5156 - val_loss: 14828678144.0000 - val_output_1_root_mean_squared_error: 85616.6250 - val_output_2_root_mean_squared_error: 86593.6797\n",
      "Epoch 39/100\n",
      "\u001b[1m507/516\u001b[0m \u001b[32m━━━━━━━━━━━━━━━━━━━\u001b[0m\u001b[37m━\u001b[0m \u001b[1m0s\u001b[0m 4ms/step - loss: 9566612480.0000 - output_1_root_mean_squared_error: 69045.5625 - output_2_root_mean_squared_error: 69243.8203\n",
      "Epoch 39: val_loss did not improve from 9707781120.00000\n",
      "\u001b[1m516/516\u001b[0m \u001b[32m━━━━━━━━━━━━━━━━━━━━\u001b[0m\u001b[37m\u001b[0m \u001b[1m2s\u001b[0m 4ms/step - loss: 9568392192.0000 - output_1_root_mean_squared_error: 69052.7422 - output_2_root_mean_squared_error: 69250.1172 - val_loss: 17307705344.0000 - val_output_1_root_mean_squared_error: 92532.3594 - val_output_2_root_mean_squared_error: 93517.1484\n",
      "Epoch 40/100\n",
      "\u001b[1m506/516\u001b[0m \u001b[32m━━━━━━━━━━━━━━━━━━━\u001b[0m\u001b[37m━\u001b[0m \u001b[1m0s\u001b[0m 4ms/step - loss: 9503860736.0000 - output_1_root_mean_squared_error: 68881.4375 - output_2_root_mean_squared_error: 68950.9141\n",
      "Epoch 40: val_loss did not improve from 9707781120.00000\n",
      "\u001b[1m516/516\u001b[0m \u001b[32m━━━━━━━━━━━━━━━━━━━━\u001b[0m\u001b[37m\u001b[0m \u001b[1m2s\u001b[0m 4ms/step - loss: 9498923008.0000 - output_1_root_mean_squared_error: 68863.8516 - output_2_root_mean_squared_error: 68933.2344 - val_loss: 12441170944.0000 - val_output_1_root_mean_squared_error: 78809.4453 - val_output_2_root_mean_squared_error: 78931.8516\n",
      "Epoch 41/100\n",
      "\u001b[1m505/516\u001b[0m \u001b[32m━━━━━━━━━━━━━━━━━━━\u001b[0m\u001b[37m━\u001b[0m \u001b[1m0s\u001b[0m 4ms/step - loss: 8806351872.0000 - output_1_root_mean_squared_error: 66281.4766 - output_2_root_mean_squared_error: 66426.2266\n",
      "Epoch 41: val_loss did not improve from 9707781120.00000\n",
      "\u001b[1m516/516\u001b[0m \u001b[32m━━━━━━━━━━━━━━━━━━━━\u001b[0m\u001b[37m\u001b[0m \u001b[1m2s\u001b[0m 4ms/step - loss: 8811116544.0000 - output_1_root_mean_squared_error: 66297.9453 - output_2_root_mean_squared_error: 66445.5625 - val_loss: 11265195008.0000 - val_output_1_root_mean_squared_error: 74932.6406 - val_output_2_root_mean_squared_error: 75168.4062\n",
      "Epoch 42/100\n",
      "\u001b[1m508/516\u001b[0m \u001b[32m━━━━━━━━━━━━━━━━━━━\u001b[0m\u001b[37m━\u001b[0m \u001b[1m0s\u001b[0m 4ms/step - loss: 8943232000.0000 - output_1_root_mean_squared_error: 66815.9922 - output_2_root_mean_squared_error: 66910.9375\n",
      "Epoch 42: val_loss did not improve from 9707781120.00000\n",
      "\u001b[1m516/516\u001b[0m \u001b[32m━━━━━━━━━━━━━━━━━━━━\u001b[0m\u001b[37m\u001b[0m \u001b[1m2s\u001b[0m 5ms/step - loss: 8945113088.0000 - output_1_root_mean_squared_error: 66822.9922 - output_2_root_mean_squared_error: 66918.1875 - val_loss: 10030368768.0000 - val_output_1_root_mean_squared_error: 70765.6797 - val_output_2_root_mean_squared_error: 70870.1797\n",
      "Epoch 43/100\n",
      "\u001b[1m507/516\u001b[0m \u001b[32m━━━━━━━━━━━━━━━━━━━\u001b[0m\u001b[37m━\u001b[0m \u001b[1m0s\u001b[0m 4ms/step - loss: 9190395904.0000 - output_1_root_mean_squared_error: 67737.7109 - output_2_root_mean_squared_error: 67805.3203\n",
      "Epoch 43: val_loss did not improve from 9707781120.00000\n",
      "\u001b[1m516/516\u001b[0m \u001b[32m━━━━━━━━━━━━━━━━━━━━\u001b[0m\u001b[37m\u001b[0m \u001b[1m2s\u001b[0m 4ms/step - loss: 9192121344.0000 - output_1_root_mean_squared_error: 67744.1719 - output_2_root_mean_squared_error: 67812.1797 - val_loss: 10600395776.0000 - val_output_1_root_mean_squared_error: 72693.1094 - val_output_2_root_mean_squared_error: 72911.5547\n",
      "Epoch 44/100\n",
      "\u001b[1m514/516\u001b[0m \u001b[32m━━━━━━━━━━━━━━━━━━━\u001b[0m\u001b[37m━\u001b[0m \u001b[1m0s\u001b[0m 4ms/step - loss: 9600928768.0000 - output_1_root_mean_squared_error: 69152.9219 - output_2_root_mean_squared_error: 69275.5625\n",
      "Epoch 44: val_loss did not improve from 9707781120.00000\n",
      "\u001b[1m516/516\u001b[0m \u001b[32m━━━━━━━━━━━━━━━━━━━━\u001b[0m\u001b[37m\u001b[0m \u001b[1m2s\u001b[0m 4ms/step - loss: 9615807488.0000 - output_1_root_mean_squared_error: 69202.7812 - output_2_root_mean_squared_error: 69327.5625 - val_loss: 16048128000.0000 - val_output_1_root_mean_squared_error: 89386.1641 - val_output_2_root_mean_squared_error: 89767.6562\n",
      "Epoch 45/100\n",
      "\u001b[1m508/516\u001b[0m \u001b[32m━━━━━━━━━━━━━━━━━━━\u001b[0m\u001b[37m━\u001b[0m \u001b[1m0s\u001b[0m 4ms/step - loss: 12590285824.0000 - output_1_root_mean_squared_error: 79203.9219 - output_2_root_mean_squared_error: 79418.2266\n",
      "Epoch 45: val_loss did not improve from 9707781120.00000\n",
      "\u001b[1m516/516\u001b[0m \u001b[32m━━━━━━━━━━━━━━━━━━━━\u001b[0m\u001b[37m\u001b[0m \u001b[1m2s\u001b[0m 5ms/step - loss: 12580045824.0000 - output_1_root_mean_squared_error: 79171.6328 - output_2_root_mean_squared_error: 79386.2812 - val_loss: 10929012736.0000 - val_output_1_root_mean_squared_error: 73927.7578 - val_output_2_root_mean_squared_error: 73916.7734\n",
      "Epoch 46/100\n",
      "\u001b[1m515/516\u001b[0m \u001b[32m━━━━━━━━━━━━━━━━━━━\u001b[0m\u001b[37m━\u001b[0m \u001b[1m0s\u001b[0m 4ms/step - loss: 11679956992.0000 - output_1_root_mean_squared_error: 76352.5547 - output_2_root_mean_squared_error: 76469.7188\n",
      "Epoch 46: val_loss did not improve from 9707781120.00000\n",
      "\u001b[1m516/516\u001b[0m \u001b[32m━━━━━━━━━━━━━━━━━━━━\u001b[0m\u001b[37m\u001b[0m \u001b[1m2s\u001b[0m 4ms/step - loss: 11678777344.0000 - output_1_root_mean_squared_error: 76348.4688 - output_2_root_mean_squared_error: 76466.1016 - val_loss: 18878099456.0000 - val_output_1_root_mean_squared_error: 96551.7188 - val_output_2_root_mean_squared_error: 97754.0859\n",
      "Epoch 47/100\n",
      "\u001b[1m510/516\u001b[0m \u001b[32m━━━━━━━━━━━━━━━━━━━\u001b[0m\u001b[37m━\u001b[0m \u001b[1m0s\u001b[0m 4ms/step - loss: 10018633728.0000 - output_1_root_mean_squared_error: 70743.4375 - output_2_root_mean_squared_error: 70798.1719\n",
      "Epoch 47: val_loss did not improve from 9707781120.00000\n",
      "\u001b[1m516/516\u001b[0m \u001b[32m━━━━━━━━━━━━━━━━━━━━\u001b[0m\u001b[37m\u001b[0m \u001b[1m2s\u001b[0m 4ms/step - loss: 10021253120.0000 - output_1_root_mean_squared_error: 70751.9297 - output_2_root_mean_squared_error: 70808.2422 - val_loss: 10250995712.0000 - val_output_1_root_mean_squared_error: 71771.5391 - val_output_2_root_mean_squared_error: 71413.1172\n",
      "Epoch 48/100\n",
      "\u001b[1m508/516\u001b[0m \u001b[32m━━━━━━━━━━━━━━━━━━━\u001b[0m\u001b[37m━\u001b[0m \u001b[1m0s\u001b[0m 4ms/step - loss: 9910083584.0000 - output_1_root_mean_squared_error: 70278.1875 - output_2_root_mean_squared_error: 70441.8672\n",
      "Epoch 48: val_loss did not improve from 9707781120.00000\n",
      "\u001b[1m516/516\u001b[0m \u001b[32m━━━━━━━━━━━━━━━━━━━━\u001b[0m\u001b[37m\u001b[0m \u001b[1m2s\u001b[0m 4ms/step - loss: 9911682048.0000 - output_1_root_mean_squared_error: 70284.6406 - output_2_root_mean_squared_error: 70447.8672 - val_loss: 14657879040.0000 - val_output_1_root_mean_squared_error: 85047.2344 - val_output_2_root_mean_squared_error: 86167.5234\n",
      "Epoch 49/100\n",
      "\u001b[1m510/516\u001b[0m \u001b[32m━━━━━━━━━━━━━━━━━━━\u001b[0m\u001b[37m━\u001b[0m \u001b[1m0s\u001b[0m 4ms/step - loss: 10246312960.0000 - output_1_root_mean_squared_error: 71508.2031 - output_2_root_mean_squared_error: 71619.4609\n",
      "Epoch 49: val_loss did not improve from 9707781120.00000\n",
      "\u001b[1m516/516\u001b[0m \u001b[32m━━━━━━━━━━━━━━━━━━━━\u001b[0m\u001b[37m\u001b[0m \u001b[1m2s\u001b[0m 4ms/step - loss: 10240489472.0000 - output_1_root_mean_squared_error: 71487.9297 - output_2_root_mean_squared_error: 71598.9453 - val_loss: 19419256832.0000 - val_output_1_root_mean_squared_error: 97805.7891 - val_output_2_root_mean_squared_error: 99263.6641\n",
      "Epoch 50/100\n",
      "\u001b[1m502/516\u001b[0m \u001b[32m━━━━━━━━━━━━━━━━━━━\u001b[0m\u001b[37m━\u001b[0m \u001b[1m0s\u001b[0m 4ms/step - loss: 9455835136.0000 - output_1_root_mean_squared_error: 68710.2344 - output_2_root_mean_squared_error: 68800.5312\n",
      "Epoch 50: val_loss did not improve from 9707781120.00000\n",
      "\u001b[1m516/516\u001b[0m \u001b[32m━━━━━━━━━━━━━━━━━━━━\u001b[0m\u001b[37m\u001b[0m \u001b[1m2s\u001b[0m 4ms/step - loss: 9464781824.0000 - output_1_root_mean_squared_error: 68742.4375 - output_2_root_mean_squared_error: 68833.1250 - val_loss: 21736966144.0000 - val_output_1_root_mean_squared_error: 102803.6562 - val_output_2_root_mean_squared_error: 105680.5000\n",
      "Epoch 51/100\n",
      "\u001b[1m515/516\u001b[0m \u001b[32m━━━━━━━━━━━━━━━━━━━\u001b[0m\u001b[37m━\u001b[0m \u001b[1m0s\u001b[0m 4ms/step - loss: 9468506112.0000 - output_1_root_mean_squared_error: 68718.7734 - output_2_root_mean_squared_error: 68833.4219\n",
      "Epoch 51: val_loss did not improve from 9707781120.00000\n",
      "\u001b[1m516/516\u001b[0m \u001b[32m━━━━━━━━━━━━━━━━━━━━\u001b[0m\u001b[37m\u001b[0m \u001b[1m2s\u001b[0m 4ms/step - loss: 9468771328.0000 - output_1_root_mean_squared_error: 68719.8750 - output_2_root_mean_squared_error: 68834.4766 - val_loss: 14129098752.0000 - val_output_1_root_mean_squared_error: 83650.8828 - val_output_2_root_mean_squared_error: 84448.9062\n",
      "Epoch 52/100\n",
      "\u001b[1m502/516\u001b[0m \u001b[32m━━━━━━━━━━━━━━━━━━━\u001b[0m\u001b[37m━\u001b[0m \u001b[1m0s\u001b[0m 4ms/step - loss: 9515708416.0000 - output_1_root_mean_squared_error: 68918.4688 - output_2_root_mean_squared_error: 68995.3281\n",
      "Epoch 52: val_loss did not improve from 9707781120.00000\n",
      "\u001b[1m516/516\u001b[0m \u001b[32m━━━━━━━━━━━━━━━━━━━━\u001b[0m\u001b[37m\u001b[0m \u001b[1m2s\u001b[0m 4ms/step - loss: 9511313408.0000 - output_1_root_mean_squared_error: 68903.1484 - output_2_root_mean_squared_error: 68979.8438 - val_loss: 14198975488.0000 - val_output_1_root_mean_squared_error: 83925.2031 - val_output_2_root_mean_squared_error: 84590.3047\n",
      "Epoch 53/100\n",
      "\u001b[1m505/516\u001b[0m \u001b[32m━━━━━━━━━━━━━━━━━━━\u001b[0m\u001b[37m━\u001b[0m \u001b[1m0s\u001b[0m 4ms/step - loss: 8935529472.0000 - output_1_root_mean_squared_error: 66728.6797 - output_2_root_mean_squared_error: 66938.0547\n",
      "Epoch 53: val_loss did not improve from 9707781120.00000\n",
      "\u001b[1m516/516\u001b[0m \u001b[32m━━━━━━━━━━━━━━━━━━━━\u001b[0m\u001b[37m\u001b[0m \u001b[1m2s\u001b[0m 4ms/step - loss: 8941480960.0000 - output_1_root_mean_squared_error: 66751.6641 - output_2_root_mean_squared_error: 66959.6484 - val_loss: 11236610048.0000 - val_output_1_root_mean_squared_error: 74796.8125 - val_output_2_root_mean_squared_error: 75113.4609\n",
      "Epoch 54/100\n",
      "\u001b[1m512/516\u001b[0m \u001b[32m━━━━━━━━━━━━━━━━━━━\u001b[0m\u001b[37m━\u001b[0m \u001b[1m0s\u001b[0m 4ms/step - loss: 9216305152.0000 - output_1_root_mean_squared_error: 67829.9531 - output_2_root_mean_squared_error: 67911.0781\n",
      "Epoch 54: val_loss did not improve from 9707781120.00000\n",
      "\u001b[1m516/516\u001b[0m \u001b[32m━━━━━━━━━━━━━━━━━━━━\u001b[0m\u001b[37m\u001b[0m \u001b[1m2s\u001b[0m 4ms/step - loss: 9215732736.0000 - output_1_root_mean_squared_error: 67827.9922 - output_2_root_mean_squared_error: 67909.0625 - val_loss: 13951024128.0000 - val_output_1_root_mean_squared_error: 83531.9375 - val_output_2_root_mean_squared_error: 83507.0312\n",
      "Epoch 55/100\n",
      "\u001b[1m513/516\u001b[0m \u001b[32m━━━━━━━━━━━━━━━━━━━\u001b[0m\u001b[37m━\u001b[0m \u001b[1m0s\u001b[0m 4ms/step - loss: 9054976000.0000 - output_1_root_mean_squared_error: 67164.9453 - output_2_root_mean_squared_error: 67289.6875\n",
      "Epoch 55: val_loss improved from 9707781120.00000 to 9603920896.00000, saving model to best_model.keras\n",
      "\u001b[1m516/516\u001b[0m \u001b[32m━━━━━━━━━━━━━━━━━━━━\u001b[0m\u001b[37m\u001b[0m \u001b[1m2s\u001b[0m 4ms/step - loss: 9059051520.0000 - output_1_root_mean_squared_error: 67180.2188 - output_2_root_mean_squared_error: 67305.1797 - val_loss: 9603920896.0000 - val_output_1_root_mean_squared_error: 69303.9062 - val_output_2_root_mean_squared_error: 69288.3594\n",
      "Epoch 56/100\n",
      "\u001b[1m504/516\u001b[0m \u001b[32m━━━━━━━━━━━━━━━━━━━\u001b[0m\u001b[37m━\u001b[0m \u001b[1m0s\u001b[0m 4ms/step - loss: 8979521536.0000 - output_1_root_mean_squared_error: 66904.0781 - output_2_root_mean_squared_error: 67079.4688\n",
      "Epoch 56: val_loss did not improve from 9603920896.00000\n",
      "\u001b[1m516/516\u001b[0m \u001b[32m━━━━━━━━━━━━━━━━━━━━\u001b[0m\u001b[37m\u001b[0m \u001b[1m2s\u001b[0m 4ms/step - loss: 8984741888.0000 - output_1_root_mean_squared_error: 66923.2188 - output_2_root_mean_squared_error: 67099.7578 - val_loss: 13442051072.0000 - val_output_1_root_mean_squared_error: 81767.8750 - val_output_2_root_mean_squared_error: 82195.2188\n",
      "Epoch 57/100\n",
      "\u001b[1m506/516\u001b[0m \u001b[32m━━━━━━━━━━━━━━━━━━━\u001b[0m\u001b[37m━\u001b[0m \u001b[1m0s\u001b[0m 4ms/step - loss: 9018541056.0000 - output_1_root_mean_squared_error: 67121.3828 - output_2_root_mean_squared_error: 67163.6406\n",
      "Epoch 57: val_loss did not improve from 9603920896.00000\n",
      "\u001b[1m516/516\u001b[0m \u001b[32m━━━━━━━━━━━━━━━━━━━━\u001b[0m\u001b[37m\u001b[0m \u001b[1m2s\u001b[0m 4ms/step - loss: 9021973504.0000 - output_1_root_mean_squared_error: 67134.1016 - output_2_root_mean_squared_error: 67176.7266 - val_loss: 9963669504.0000 - val_output_1_root_mean_squared_error: 70530.5156 - val_output_2_root_mean_squared_error: 70633.6094\n",
      "Epoch 58/100\n",
      "\u001b[1m504/516\u001b[0m \u001b[32m━━━━━━━━━━━━━━━━━━━\u001b[0m\u001b[37m━\u001b[0m \u001b[1m0s\u001b[0m 4ms/step - loss: 9126682624.0000 - output_1_root_mean_squared_error: 67510.2500 - output_2_root_mean_squared_error: 67582.9609\n",
      "Epoch 58: val_loss did not improve from 9603920896.00000\n",
      "\u001b[1m516/516\u001b[0m \u001b[32m━━━━━━━━━━━━━━━━━━━━\u001b[0m\u001b[37m\u001b[0m \u001b[1m2s\u001b[0m 4ms/step - loss: 9127644160.0000 - output_1_root_mean_squared_error: 67513.7578 - output_2_root_mean_squared_error: 67586.8594 - val_loss: 10286832640.0000 - val_output_1_root_mean_squared_error: 71694.8125 - val_output_2_root_mean_squared_error: 71740.3438\n",
      "Epoch 59/100\n",
      "\u001b[1m511/516\u001b[0m \u001b[32m━━━━━━━━━━━━━━━━━━━\u001b[0m\u001b[37m━\u001b[0m \u001b[1m0s\u001b[0m 4ms/step - loss: 8796854272.0000 - output_1_root_mean_squared_error: 66216.5312 - output_2_root_mean_squared_error: 66367.2031\n",
      "Epoch 59: val_loss did not improve from 9603920896.00000\n",
      "\u001b[1m516/516\u001b[0m \u001b[32m━━━━━━━━━━━━━━━━━━━━\u001b[0m\u001b[37m\u001b[0m \u001b[1m2s\u001b[0m 4ms/step - loss: 8799910912.0000 - output_1_root_mean_squared_error: 66228.2031 - output_2_root_mean_squared_error: 66379.0703 - val_loss: 11946679296.0000 - val_output_1_root_mean_squared_error: 76943.0703 - val_output_2_root_mean_squared_error: 77630.0938\n",
      "Epoch 60/100\n",
      "\u001b[1m510/516\u001b[0m \u001b[32m━━━━━━━━━━━━━━━━━━━\u001b[0m\u001b[37m━\u001b[0m \u001b[1m0s\u001b[0m 4ms/step - loss: 8975832064.0000 - output_1_root_mean_squared_error: 66705.6484 - output_2_root_mean_squared_error: 67242.7656\n",
      "Epoch 60: val_loss did not improve from 9603920896.00000\n",
      "\u001b[1m516/516\u001b[0m \u001b[32m━━━━━━━━━━━━━━━━━━━━\u001b[0m\u001b[37m\u001b[0m \u001b[1m2s\u001b[0m 4ms/step - loss: 8981886976.0000 - output_1_root_mean_squared_error: 66726.0469 - output_2_root_mean_squared_error: 67267.4453 - val_loss: 12516905984.0000 - val_output_1_root_mean_squared_error: 79869.7891 - val_output_2_root_mean_squared_error: 78343.4844\n",
      "Epoch 61/100\n",
      "\u001b[1m513/516\u001b[0m \u001b[32m━━━━━━━━━━━━━━━━━━━\u001b[0m\u001b[37m━\u001b[0m \u001b[1m0s\u001b[0m 4ms/step - loss: 8900487168.0000 - output_1_root_mean_squared_error: 66436.2266 - output_2_root_mean_squared_error: 66962.0625\n",
      "Epoch 61: val_loss did not improve from 9603920896.00000\n",
      "\u001b[1m516/516\u001b[0m \u001b[32m━━━━━━━━━━━━━━━━━━━━\u001b[0m\u001b[37m\u001b[0m \u001b[1m2s\u001b[0m 4ms/step - loss: 8903190528.0000 - output_1_root_mean_squared_error: 66446.5234 - output_2_root_mean_squared_error: 66972.0000 - val_loss: 12390469632.0000 - val_output_1_root_mean_squared_error: 78443.2734 - val_output_2_root_mean_squared_error: 78975.3516\n",
      "Epoch 62/100\n",
      "\u001b[1m510/516\u001b[0m \u001b[32m━━━━━━━━━━━━━━━━━━━\u001b[0m\u001b[37m━\u001b[0m \u001b[1m0s\u001b[0m 4ms/step - loss: 8971512832.0000 - output_1_root_mean_squared_error: 66853.1016 - output_2_root_mean_squared_error: 67077.3594\n",
      "Epoch 62: val_loss did not improve from 9603920896.00000\n",
      "\u001b[1m516/516\u001b[0m \u001b[32m━━━━━━━━━━━━━━━━━━━━\u001b[0m\u001b[37m\u001b[0m \u001b[1m2s\u001b[0m 4ms/step - loss: 8970613760.0000 - output_1_root_mean_squared_error: 66849.8438 - output_2_root_mean_squared_error: 67074.1719 - val_loss: 14840889344.0000 - val_output_1_root_mean_squared_error: 86015.0469 - val_output_2_root_mean_squared_error: 86268.6797\n",
      "Epoch 63/100\n",
      "\u001b[1m507/516\u001b[0m \u001b[32m━━━━━━━━━━━━━━━━━━━\u001b[0m\u001b[37m━\u001b[0m \u001b[1m0s\u001b[0m 4ms/step - loss: 9589667840.0000 - output_1_root_mean_squared_error: 69044.8594 - output_2_root_mean_squared_error: 69320.0703\n",
      "Epoch 63: val_loss did not improve from 9603920896.00000\n",
      "\u001b[1m516/516\u001b[0m \u001b[32m━━━━━━━━━━━━━━━━━━━━\u001b[0m\u001b[37m\u001b[0m \u001b[1m2s\u001b[0m 4ms/step - loss: 9585770496.0000 - output_1_root_mean_squared_error: 69031.3672 - output_2_root_mean_squared_error: 69307.6719 - val_loss: 13695035392.0000 - val_output_1_root_mean_squared_error: 82689.4062 - val_output_2_root_mean_squared_error: 82809.8984\n",
      "Epoch 64/100\n",
      "\u001b[1m509/516\u001b[0m \u001b[32m━━━━━━━━━━━━━━━━━━━\u001b[0m\u001b[37m━\u001b[0m \u001b[1m0s\u001b[0m 4ms/step - loss: 8956819456.0000 - output_1_root_mean_squared_error: 66807.1484 - output_2_root_mean_squared_error: 67018.2422\n",
      "Epoch 64: val_loss did not improve from 9603920896.00000\n",
      "\u001b[1m516/516\u001b[0m \u001b[32m━━━━━━━━━━━━━━━━━━━━\u001b[0m\u001b[37m\u001b[0m \u001b[1m2s\u001b[0m 4ms/step - loss: 8957456384.0000 - output_1_root_mean_squared_error: 66809.2266 - output_2_root_mean_squared_error: 67021.1797 - val_loss: 11612379136.0000 - val_output_1_root_mean_squared_error: 76358.3672 - val_output_2_root_mean_squared_error: 76037.9219\n",
      "Epoch 65/100\n",
      "\u001b[1m509/516\u001b[0m \u001b[32m━━━━━━━━━━━━━━━━━━━\u001b[0m\u001b[37m━\u001b[0m \u001b[1m0s\u001b[0m 4ms/step - loss: 8771944448.0000 - output_1_root_mean_squared_error: 66115.7422 - output_2_root_mean_squared_error: 66320.8906\n",
      "Epoch 65: val_loss did not improve from 9603920896.00000\n",
      "\u001b[1m516/516\u001b[0m \u001b[32m━━━━━━━━━━━━━━━━━━━━\u001b[0m\u001b[37m\u001b[0m \u001b[1m2s\u001b[0m 4ms/step - loss: 8775335936.0000 - output_1_root_mean_squared_error: 66128.7891 - output_2_root_mean_squared_error: 66333.5391 - val_loss: 14046361600.0000 - val_output_1_root_mean_squared_error: 83016.5234 - val_output_2_root_mean_squared_error: 84584.9219\n",
      "Epoch 66/100\n",
      "\u001b[1m504/516\u001b[0m \u001b[32m━━━━━━━━━━━━━━━━━━━\u001b[0m\u001b[37m━\u001b[0m \u001b[1m0s\u001b[0m 4ms/step - loss: 9189702656.0000 - output_1_root_mean_squared_error: 67674.2891 - output_2_root_mean_squared_error: 67866.1172\n",
      "Epoch 66: val_loss did not improve from 9603920896.00000\n",
      "\u001b[1m516/516\u001b[0m \u001b[32m━━━━━━━━━━━━━━━━━━━━\u001b[0m\u001b[37m\u001b[0m \u001b[1m2s\u001b[0m 4ms/step - loss: 9186250752.0000 - output_1_root_mean_squared_error: 67661.8125 - output_2_root_mean_squared_error: 67853.7969 - val_loss: 13461909504.0000 - val_output_1_root_mean_squared_error: 82242.9922 - val_output_2_root_mean_squared_error: 81841.2188\n",
      "Epoch 67/100\n",
      "\u001b[1m512/516\u001b[0m \u001b[32m━━━━━━━━━━━━━━━━━━━\u001b[0m\u001b[37m━\u001b[0m \u001b[1m0s\u001b[0m 4ms/step - loss: 8827473920.0000 - output_1_root_mean_squared_error: 66344.6250 - output_2_root_mean_squared_error: 66509.6641\n",
      "Epoch 67: val_loss did not improve from 9603920896.00000\n",
      "\u001b[1m516/516\u001b[0m \u001b[32m━━━━━━━━━━━━━━━━━━━━\u001b[0m\u001b[37m\u001b[0m \u001b[1m2s\u001b[0m 4ms/step - loss: 8827547648.0000 - output_1_root_mean_squared_error: 66344.7422 - output_2_root_mean_squared_error: 66510.2656 - val_loss: 10263185408.0000 - val_output_1_root_mean_squared_error: 71704.3750 - val_output_2_root_mean_squared_error: 71565.7500\n",
      "Epoch 68/100\n",
      "\u001b[1m502/516\u001b[0m \u001b[32m━━━━━━━━━━━━━━━━━━━\u001b[0m\u001b[37m━\u001b[0m \u001b[1m0s\u001b[0m 4ms/step - loss: 8941688832.0000 - output_1_root_mean_squared_error: 66772.7656 - output_2_root_mean_squared_error: 66912.4375\n",
      "Epoch 68: val_loss did not improve from 9603920896.00000\n",
      "\u001b[1m516/516\u001b[0m \u001b[32m━━━━━━━━━━━━━━━━━━━━\u001b[0m\u001b[37m\u001b[0m \u001b[1m2s\u001b[0m 4ms/step - loss: 8933667840.0000 - output_1_root_mean_squared_error: 66741.8047 - output_2_root_mean_squared_error: 66884.1953 - val_loss: 10473608192.0000 - val_output_1_root_mean_squared_error: 72081.3672 - val_output_2_root_mean_squared_error: 72649.0078\n",
      "Epoch 69/100\n",
      "\u001b[1m509/516\u001b[0m \u001b[32m━━━━━━━━━━━━━━━━━━━\u001b[0m\u001b[37m━\u001b[0m \u001b[1m0s\u001b[0m 4ms/step - loss: 8968289280.0000 - output_1_root_mean_squared_error: 66888.0938 - output_2_root_mean_squared_error: 67009.1875\n",
      "Epoch 69: val_loss did not improve from 9603920896.00000\n",
      "\u001b[1m516/516\u001b[0m \u001b[32m━━━━━━━━━━━━━━━━━━━━\u001b[0m\u001b[37m\u001b[0m \u001b[1m2s\u001b[0m 4ms/step - loss: 8966067200.0000 - output_1_root_mean_squared_error: 66879.7812 - output_2_root_mean_squared_error: 67001.3047 - val_loss: 14654754816.0000 - val_output_1_root_mean_squared_error: 85018.4609 - val_output_2_root_mean_squared_error: 86177.7266\n",
      "Epoch 70/100\n",
      "\u001b[1m505/516\u001b[0m \u001b[32m━━━━━━━━━━━━━━━━━━━\u001b[0m\u001b[37m━\u001b[0m \u001b[1m0s\u001b[0m 4ms/step - loss: 9101463552.0000 - output_1_root_mean_squared_error: 67341.0547 - output_2_root_mean_squared_error: 67554.0312\n",
      "Epoch 70: val_loss did not improve from 9603920896.00000\n",
      "\u001b[1m516/516\u001b[0m \u001b[32m━━━━━━━━━━━━━━━━━━━━\u001b[0m\u001b[37m\u001b[0m \u001b[1m2s\u001b[0m 4ms/step - loss: 9099485184.0000 - output_1_root_mean_squared_error: 67334.0859 - output_2_root_mean_squared_error: 67546.8281 - val_loss: 11198853120.0000 - val_output_1_root_mean_squared_error: 74735.0156 - val_output_2_root_mean_squared_error: 74923.4531\n",
      "Epoch 71/100\n",
      "\u001b[1m509/516\u001b[0m \u001b[32m━━━━━━━━━━━━━━━━━━━\u001b[0m\u001b[37m━\u001b[0m \u001b[1m0s\u001b[0m 3ms/step - loss: 8899447808.0000 - output_1_root_mean_squared_error: 66596.1953 - output_2_root_mean_squared_error: 66731.1406\n",
      "Epoch 71: val_loss improved from 9603920896.00000 to 8963024896.00000, saving model to best_model.keras\n",
      "\u001b[1m516/516\u001b[0m \u001b[32m━━━━━━━━━━━━━━━━━━━━\u001b[0m\u001b[37m\u001b[0m \u001b[1m2s\u001b[0m 4ms/step - loss: 8895243264.0000 - output_1_root_mean_squared_error: 66580.9609 - output_2_root_mean_squared_error: 66715.9375 - val_loss: 8963024896.0000 - val_output_1_root_mean_squared_error: 66894.2188 - val_output_2_root_mean_squared_error: 66993.8438\n",
      "Epoch 72/100\n",
      "\u001b[1m515/516\u001b[0m \u001b[32m━━━━━━━━━━━━━━━━━━━\u001b[0m\u001b[37m━\u001b[0m \u001b[1m0s\u001b[0m 4ms/step - loss: 8607557632.0000 - output_1_root_mean_squared_error: 65507.5938 - output_2_root_mean_squared_error: 65633.7656\n",
      "Epoch 72: val_loss did not improve from 8963024896.00000\n",
      "\u001b[1m516/516\u001b[0m \u001b[32m━━━━━━━━━━━━━━━━━━━━\u001b[0m\u001b[37m\u001b[0m \u001b[1m2s\u001b[0m 4ms/step - loss: 8608800768.0000 - output_1_root_mean_squared_error: 65512.4102 - output_2_root_mean_squared_error: 65638.5859 - val_loss: 10689077248.0000 - val_output_1_root_mean_squared_error: 72991.0625 - val_output_2_root_mean_squared_error: 73221.3281\n",
      "Epoch 73/100\n",
      "\u001b[1m506/516\u001b[0m \u001b[32m━━━━━━━━━━━━━━━━━━━\u001b[0m\u001b[37m━\u001b[0m \u001b[1m0s\u001b[0m 4ms/step - loss: 8563776000.0000 - output_1_root_mean_squared_error: 65360.1641 - output_2_root_mean_squared_error: 65488.8789\n",
      "Epoch 73: val_loss did not improve from 8963024896.00000\n",
      "\u001b[1m516/516\u001b[0m \u001b[32m━━━━━━━━━━━━━━━━━━━━\u001b[0m\u001b[37m\u001b[0m \u001b[1m2s\u001b[0m 4ms/step - loss: 8569879040.0000 - output_1_root_mean_squared_error: 65383.4727 - output_2_root_mean_squared_error: 65512.3125 - val_loss: 10469723136.0000 - val_output_1_root_mean_squared_error: 72395.3047 - val_output_2_root_mean_squared_error: 72309.2344\n",
      "Epoch 74/100\n",
      "\u001b[1m505/516\u001b[0m \u001b[32m━━━━━━━━━━━━━━━━━━━\u001b[0m\u001b[37m━\u001b[0m \u001b[1m0s\u001b[0m 4ms/step - loss: 8748762112.0000 - output_1_root_mean_squared_error: 66081.4844 - output_2_root_mean_squared_error: 66178.3516\n",
      "Epoch 74: val_loss did not improve from 8963024896.00000\n",
      "\u001b[1m516/516\u001b[0m \u001b[32m━━━━━━━━━━━━━━━━━━━━\u001b[0m\u001b[37m\u001b[0m \u001b[1m2s\u001b[0m 4ms/step - loss: 8744251392.0000 - output_1_root_mean_squared_error: 66064.7344 - output_2_root_mean_squared_error: 66161.2344 - val_loss: 11439224832.0000 - val_output_1_root_mean_squared_error: 75165.4219 - val_output_2_root_mean_squared_error: 76087.9219\n",
      "Epoch 75/100\n",
      "\u001b[1m503/516\u001b[0m \u001b[32m━━━━━━━━━━━━━━━━━━━\u001b[0m\u001b[37m━\u001b[0m \u001b[1m0s\u001b[0m 4ms/step - loss: 8983649280.0000 - output_1_root_mean_squared_error: 66949.6797 - output_2_root_mean_squared_error: 67045.2578\n",
      "Epoch 75: val_loss did not improve from 8963024896.00000\n",
      "\u001b[1m516/516\u001b[0m \u001b[32m━━━━━━━━━━━━━━━━━━━━\u001b[0m\u001b[37m\u001b[0m \u001b[1m2s\u001b[0m 4ms/step - loss: 8985876480.0000 - output_1_root_mean_squared_error: 66958.2109 - output_2_root_mean_squared_error: 67054.5781 - val_loss: 12839030784.0000 - val_output_1_root_mean_squared_error: 79895.2734 - val_output_2_root_mean_squared_error: 80347.7812\n",
      "Epoch 76/100\n",
      "\u001b[1m504/516\u001b[0m \u001b[32m━━━━━━━━━━━━━━━━━━━\u001b[0m\u001b[37m━\u001b[0m \u001b[1m0s\u001b[0m 4ms/step - loss: 8917579776.0000 - output_1_root_mean_squared_error: 66692.6172 - output_2_root_mean_squared_error: 66787.7109\n",
      "Epoch 76: val_loss did not improve from 8963024896.00000\n",
      "\u001b[1m516/516\u001b[0m \u001b[32m━━━━━━━━━━━━━━━━━━━━\u001b[0m\u001b[37m\u001b[0m \u001b[1m2s\u001b[0m 4ms/step - loss: 8915337216.0000 - output_1_root_mean_squared_error: 66685.0781 - output_2_root_mean_squared_error: 66780.1328 - val_loss: 11676760064.0000 - val_output_1_root_mean_squared_error: 76333.0312 - val_output_2_root_mean_squared_error: 76485.3828\n",
      "Epoch 77/100\n",
      "\u001b[1m507/516\u001b[0m \u001b[32m━━━━━━━━━━━━━━━━━━━\u001b[0m\u001b[37m━\u001b[0m \u001b[1m0s\u001b[0m 4ms/step - loss: 8745062400.0000 - output_1_root_mean_squared_error: 66077.5000 - output_2_root_mean_squared_error: 66155.8203\n",
      "Epoch 77: val_loss did not improve from 8963024896.00000\n",
      "\u001b[1m516/516\u001b[0m \u001b[32m━━━━━━━━━━━━━━━━━━━━\u001b[0m\u001b[37m\u001b[0m \u001b[1m2s\u001b[0m 4ms/step - loss: 8743646208.0000 - output_1_root_mean_squared_error: 66072.2891 - output_2_root_mean_squared_error: 66150.6172 - val_loss: 11005966336.0000 - val_output_1_root_mean_squared_error: 74056.5938 - val_output_2_root_mean_squared_error: 74307.2891\n",
      "Epoch 78/100\n",
      "\u001b[1m515/516\u001b[0m \u001b[32m━━━━━━━━━━━━━━━━━━━\u001b[0m\u001b[37m━\u001b[0m \u001b[1m0s\u001b[0m 4ms/step - loss: 9403407360.0000 - output_1_root_mean_squared_error: 68451.9531 - output_2_root_mean_squared_error: 68575.5391\n",
      "Epoch 78: val_loss did not improve from 8963024896.00000\n",
      "\u001b[1m516/516\u001b[0m \u001b[32m━━━━━━━━━━━━━━━━━━━━\u001b[0m\u001b[37m\u001b[0m \u001b[1m2s\u001b[0m 4ms/step - loss: 9401168896.0000 - output_1_root_mean_squared_error: 68443.9375 - output_2_root_mean_squared_error: 68567.4062 - val_loss: 10961822720.0000 - val_output_1_root_mean_squared_error: 74008.6641 - val_output_2_root_mean_squared_error: 74057.5625\n",
      "Epoch 79/100\n",
      "\u001b[1m509/516\u001b[0m \u001b[32m━━━━━━━━━━━━━━━━━━━\u001b[0m\u001b[37m━\u001b[0m \u001b[1m0s\u001b[0m 4ms/step - loss: 8551059968.0000 - output_1_root_mean_squared_error: 65357.2070 - output_2_root_mean_squared_error: 65384.9375\n",
      "Epoch 79: val_loss did not improve from 8963024896.00000\n",
      "\u001b[1m516/516\u001b[0m \u001b[32m━━━━━━━━━━━━━━━━━━━━\u001b[0m\u001b[37m\u001b[0m \u001b[1m2s\u001b[0m 4ms/step - loss: 8552698880.0000 - output_1_root_mean_squared_error: 65363.5547 - output_2_root_mean_squared_error: 65391.5977 - val_loss: 11421731840.0000 - val_output_1_root_mean_squared_error: 75581.1484 - val_output_2_root_mean_squared_error: 75559.3047\n",
      "Epoch 80/100\n",
      "\u001b[1m507/516\u001b[0m \u001b[32m━━━━━━━━━━━━━━━━━━━\u001b[0m\u001b[37m━\u001b[0m \u001b[1m0s\u001b[0m 4ms/step - loss: 8260322816.0000 - output_1_root_mean_squared_error: 64212.4805 - output_2_root_mean_squared_error: 64308.1875\n",
      "Epoch 80: val_loss did not improve from 8963024896.00000\n",
      "\u001b[1m516/516\u001b[0m \u001b[32m━━━━━━━━━━━━━━━━━━━━\u001b[0m\u001b[37m\u001b[0m \u001b[1m2s\u001b[0m 4ms/step - loss: 8262839808.0000 - output_1_root_mean_squared_error: 64222.3906 - output_2_root_mean_squared_error: 64318.0117 - val_loss: 13557812224.0000 - val_output_1_root_mean_squared_error: 82394.4297 - val_output_2_root_mean_squared_error: 82273.6875\n",
      "Epoch 81/100\n",
      "\u001b[1m513/516\u001b[0m \u001b[32m━━━━━━━━━━━━━━━━━━━\u001b[0m\u001b[37m━\u001b[0m \u001b[1m0s\u001b[0m 4ms/step - loss: 9007097856.0000 - output_1_root_mean_squared_error: 67023.6562 - output_2_root_mean_squared_error: 67153.7422\n",
      "Epoch 81: val_loss did not improve from 8963024896.00000\n",
      "\u001b[1m516/516\u001b[0m \u001b[32m━━━━━━━━━━━━━━━━━━━━\u001b[0m\u001b[37m\u001b[0m \u001b[1m2s\u001b[0m 4ms/step - loss: 9005997056.0000 - output_1_root_mean_squared_error: 67019.3750 - output_2_root_mean_squared_error: 67150.1016 - val_loss: 10156478464.0000 - val_output_1_root_mean_squared_error: 71432.6250 - val_output_2_root_mean_squared_error: 71090.3828\n",
      "Epoch 82/100\n",
      "\u001b[1m506/516\u001b[0m \u001b[32m━━━━━━━━━━━━━━━━━━━\u001b[0m\u001b[37m━\u001b[0m \u001b[1m0s\u001b[0m 4ms/step - loss: 8699048960.0000 - output_1_root_mean_squared_error: 65884.9062 - output_2_root_mean_squared_error: 65990.3828\n",
      "Epoch 82: val_loss did not improve from 8963024896.00000\n",
      "\u001b[1m516/516\u001b[0m \u001b[32m━━━━━━━━━━━━━━━━━━━━\u001b[0m\u001b[37m\u001b[0m \u001b[1m2s\u001b[0m 4ms/step - loss: 8698208256.0000 - output_1_root_mean_squared_error: 65882.3750 - output_2_root_mean_squared_error: 65987.0938 - val_loss: 15385594880.0000 - val_output_1_root_mean_squared_error: 87474.7656 - val_output_2_root_mean_squared_error: 87941.7109\n",
      "Epoch 83/100\n",
      "\u001b[1m502/516\u001b[0m \u001b[32m━━━━━━━━━━━━━━━━━━━\u001b[0m\u001b[37m━\u001b[0m \u001b[1m0s\u001b[0m 4ms/step - loss: 9248847872.0000 - output_1_root_mean_squared_error: 67924.0234 - output_2_root_mean_squared_error: 68037.0078\n",
      "Epoch 83: val_loss did not improve from 8963024896.00000\n",
      "\u001b[1m516/516\u001b[0m \u001b[32m━━━━━━━━━━━━━━━━━━━━\u001b[0m\u001b[37m\u001b[0m \u001b[1m2s\u001b[0m 4ms/step - loss: 9234855936.0000 - output_1_root_mean_squared_error: 67872.7031 - output_2_root_mean_squared_error: 67985.3828 - val_loss: 11897408512.0000 - val_output_1_root_mean_squared_error: 77206.4297 - val_output_2_root_mean_squared_error: 77049.0391\n",
      "Epoch 84/100\n",
      "\u001b[1m510/516\u001b[0m \u001b[32m━━━━━━━━━━━━━━━━━━━\u001b[0m\u001b[37m━\u001b[0m \u001b[1m0s\u001b[0m 4ms/step - loss: 8108412416.0000 - output_1_root_mean_squared_error: 63609.8477 - output_2_root_mean_squared_error: 63690.6680\n",
      "Epoch 84: val_loss did not improve from 8963024896.00000\n",
      "\u001b[1m516/516\u001b[0m \u001b[32m━━━━━━━━━━━━━━━━━━━━\u001b[0m\u001b[37m\u001b[0m \u001b[1m2s\u001b[0m 4ms/step - loss: 8111252480.0000 - output_1_root_mean_squared_error: 63621.2812 - output_2_root_mean_squared_error: 63701.9922 - val_loss: 10902802432.0000 - val_output_1_root_mean_squared_error: 73749.7188 - val_output_2_root_mean_squared_error: 73917.2812\n",
      "Epoch 85/100\n",
      "\u001b[1m504/516\u001b[0m \u001b[32m━━━━━━━━━━━━━━━━━━━\u001b[0m\u001b[37m━\u001b[0m \u001b[1m0s\u001b[0m 4ms/step - loss: 8677533696.0000 - output_1_root_mean_squared_error: 65654.8672 - output_2_root_mean_squared_error: 66020.4922\n",
      "Epoch 85: val_loss did not improve from 8963024896.00000\n",
      "\u001b[1m516/516\u001b[0m \u001b[32m━━━━━━━━━━━━━━━━━━━━\u001b[0m\u001b[37m\u001b[0m \u001b[1m2s\u001b[0m 4ms/step - loss: 8674735104.0000 - output_1_root_mean_squared_error: 65646.9453 - output_2_root_mean_squared_error: 66008.6875 - val_loss: 14441276416.0000 - val_output_1_root_mean_squared_error: 84758.3359 - val_output_2_root_mean_squared_error: 85189.7188\n",
      "Epoch 86/100\n",
      "\u001b[1m510/516\u001b[0m \u001b[32m━━━━━━━━━━━━━━━━━━━\u001b[0m\u001b[37m━\u001b[0m \u001b[1m0s\u001b[0m 4ms/step - loss: 9030011904.0000 - output_1_root_mean_squared_error: 66550.8906 - output_2_root_mean_squared_error: 67727.8047\n",
      "Epoch 86: val_loss did not improve from 8963024896.00000\n",
      "\u001b[1m516/516\u001b[0m \u001b[32m━━━━━━━━━━━━━━━━━━━━\u001b[0m\u001b[37m\u001b[0m \u001b[1m2s\u001b[0m 4ms/step - loss: 9036709888.0000 - output_1_root_mean_squared_error: 66572.8984 - output_2_root_mean_squared_error: 67756.3047 - val_loss: 11661416448.0000 - val_output_1_root_mean_squared_error: 76097.7422 - val_output_2_root_mean_squared_error: 76619.4141\n",
      "Epoch 87/100\n",
      "\u001b[1m507/516\u001b[0m \u001b[32m━━━━━━━━━━━━━━━━━━━\u001b[0m\u001b[37m━\u001b[0m \u001b[1m0s\u001b[0m 4ms/step - loss: 8997682176.0000 - output_1_root_mean_squared_error: 66952.5859 - output_2_root_mean_squared_error: 67050.6328\n",
      "Epoch 87: val_loss did not improve from 8963024896.00000\n",
      "\u001b[1m516/516\u001b[0m \u001b[32m━━━━━━━━━━━━━━━━━━━━\u001b[0m\u001b[37m\u001b[0m \u001b[1m2s\u001b[0m 4ms/step - loss: 9007048704.0000 - output_1_root_mean_squared_error: 66988.3125 - output_2_root_mean_squared_error: 67086.5938 - val_loss: 10971066368.0000 - val_output_1_root_mean_squared_error: 73975.8516 - val_output_2_root_mean_squared_error: 74152.7188\n",
      "Epoch 88/100\n",
      "\u001b[1m512/516\u001b[0m \u001b[32m━━━━━━━━━━━━━━━━━━━\u001b[0m\u001b[37m━\u001b[0m \u001b[1m0s\u001b[0m 4ms/step - loss: 8963031040.0000 - output_1_root_mean_squared_error: 66865.5469 - output_2_root_mean_squared_error: 66981.7344\n",
      "Epoch 88: val_loss did not improve from 8963024896.00000\n",
      "\u001b[1m516/516\u001b[0m \u001b[32m━━━━━━━━━━━━━━━━━━━━\u001b[0m\u001b[37m\u001b[0m \u001b[1m2s\u001b[0m 4ms/step - loss: 8958984192.0000 - output_1_root_mean_squared_error: 66850.6016 - output_2_root_mean_squared_error: 66966.4844 - val_loss: 13041210368.0000 - val_output_1_root_mean_squared_error: 80619.3750 - val_output_2_root_mean_squared_error: 80880.8438\n",
      "Epoch 89/100\n",
      "\u001b[1m515/516\u001b[0m \u001b[32m━━━━━━━━━━━━━━━━━━━\u001b[0m\u001b[37m━\u001b[0m \u001b[1m0s\u001b[0m 4ms/step - loss: 8373212160.0000 - output_1_root_mean_squared_error: 64660.6758 - output_2_root_mean_squared_error: 64731.7695\n",
      "Epoch 89: val_loss did not improve from 8963024896.00000\n",
      "\u001b[1m516/516\u001b[0m \u001b[32m━━━━━━━━━━━━━━━━━━━━\u001b[0m\u001b[37m\u001b[0m \u001b[1m2s\u001b[0m 4ms/step - loss: 8373190144.0000 - output_1_root_mean_squared_error: 64660.6211 - output_2_root_mean_squared_error: 64731.7148 - val_loss: 13036597248.0000 - val_output_1_root_mean_squared_error: 80773.1016 - val_output_2_root_mean_squared_error: 80698.7266\n",
      "Epoch 90/100\n",
      "\u001b[1m504/516\u001b[0m \u001b[32m━━━━━━━━━━━━━━━━━━━\u001b[0m\u001b[37m━\u001b[0m \u001b[1m0s\u001b[0m 4ms/step - loss: 8337445888.0000 - output_1_root_mean_squared_error: 64506.9141 - output_2_root_mean_squared_error: 64574.6328\n",
      "Epoch 90: val_loss did not improve from 8963024896.00000\n",
      "\u001b[1m516/516\u001b[0m \u001b[32m━━━━━━━━━━━━━━━━━━━━\u001b[0m\u001b[37m\u001b[0m \u001b[1m2s\u001b[0m 4ms/step - loss: 8345441280.0000 - output_1_root_mean_squared_error: 64537.9258 - output_2_root_mean_squared_error: 64606.2070 - val_loss: 9822394368.0000 - val_output_1_root_mean_squared_error: 70013.5781 - val_output_2_root_mean_squared_error: 70146.1406\n",
      "Epoch 91/100\n",
      "\u001b[1m504/516\u001b[0m \u001b[32m━━━━━━━━━━━━━━━━━━━\u001b[0m\u001b[37m━\u001b[0m \u001b[1m0s\u001b[0m 4ms/step - loss: 8698721280.0000 - output_1_root_mean_squared_error: 65902.5547 - output_2_root_mean_squared_error: 65982.8438\n",
      "Epoch 91: val_loss did not improve from 8963024896.00000\n",
      "\u001b[1m516/516\u001b[0m \u001b[32m━━━━━━━━━━━━━━━━━━━━\u001b[0m\u001b[37m\u001b[0m \u001b[1m2s\u001b[0m 4ms/step - loss: 8697831424.0000 - output_1_root_mean_squared_error: 65899.2734 - output_2_root_mean_squared_error: 65979.7188 - val_loss: 12311526400.0000 - val_output_1_root_mean_squared_error: 78319.3828 - val_output_2_root_mean_squared_error: 78597.6641\n",
      "Epoch 92/100\n",
      "\u001b[1m516/516\u001b[0m \u001b[32m━━━━━━━━━━━━━━━━━━━━\u001b[0m\u001b[37m\u001b[0m \u001b[1m0s\u001b[0m 4ms/step - loss: 8383496192.0000 - output_1_root_mean_squared_error: 64669.1523 - output_2_root_mean_squared_error: 64791.1602\n",
      "Epoch 92: val_loss did not improve from 8963024896.00000\n",
      "\u001b[1m516/516\u001b[0m \u001b[32m━━━━━━━━━━━━━━━━━━━━\u001b[0m\u001b[37m\u001b[0m \u001b[1m2s\u001b[0m 4ms/step - loss: 8384146432.0000 - output_1_root_mean_squared_error: 64671.6602 - output_2_root_mean_squared_error: 64793.6758 - val_loss: 20031586304.0000 - val_output_1_root_mean_squared_error: 99902.7266 - val_output_2_root_mean_squared_error: 100254.7422\n",
      "Epoch 93/100\n",
      "\u001b[1m514/516\u001b[0m \u001b[32m━━━━━━━━━━━━━━━━━━━\u001b[0m\u001b[37m━\u001b[0m \u001b[1m0s\u001b[0m 4ms/step - loss: 8785945600.0000 - output_1_root_mean_squared_error: 66181.5156 - output_2_root_mean_squared_error: 66288.4219\n",
      "Epoch 93: val_loss did not improve from 8963024896.00000\n",
      "\u001b[1m516/516\u001b[0m \u001b[32m━━━━━━━━━━━━━━━━━━━━\u001b[0m\u001b[37m\u001b[0m \u001b[1m2s\u001b[0m 4ms/step - loss: 8785179648.0000 - output_1_root_mean_squared_error: 66178.9141 - output_2_root_mean_squared_error: 66285.7344 - val_loss: 9886428160.0000 - val_output_1_root_mean_squared_error: 70361.6875 - val_output_2_root_mean_squared_error: 70254.1484\n",
      "Epoch 94/100\n",
      "\u001b[1m506/516\u001b[0m \u001b[32m━━━━━━━━━━━━━━━━━━━\u001b[0m\u001b[37m━\u001b[0m \u001b[1m0s\u001b[0m 4ms/step - loss: 8492181504.0000 - output_1_root_mean_squared_error: 65118.3906 - output_2_root_mean_squared_error: 65190.1875\n",
      "Epoch 94: val_loss did not improve from 8963024896.00000\n",
      "\u001b[1m516/516\u001b[0m \u001b[32m━━━━━━━━━━━━━━━━━━━━\u001b[0m\u001b[37m\u001b[0m \u001b[1m2s\u001b[0m 4ms/step - loss: 8496661504.0000 - output_1_root_mean_squared_error: 65135.1875 - output_2_root_mean_squared_error: 65207.8867 - val_loss: 9358242816.0000 - val_output_1_root_mean_squared_error: 68430.5156 - val_output_2_root_mean_squared_error: 68377.5781\n",
      "Epoch 95/100\n",
      "\u001b[1m511/516\u001b[0m \u001b[32m━━━━━━━━━━━━━━━━━━━\u001b[0m\u001b[37m━\u001b[0m \u001b[1m0s\u001b[0m 4ms/step - loss: 8411312640.0000 - output_1_root_mean_squared_error: 64808.9883 - output_2_root_mean_squared_error: 64885.8711\n",
      "Epoch 95: val_loss did not improve from 8963024896.00000\n",
      "\u001b[1m516/516\u001b[0m \u001b[32m━━━━━━━━━━━━━━━━━━━━\u001b[0m\u001b[37m\u001b[0m \u001b[1m2s\u001b[0m 4ms/step - loss: 8411332608.0000 - output_1_root_mean_squared_error: 64809.1680 - output_2_root_mean_squared_error: 64885.9258 - val_loss: 12076894208.0000 - val_output_1_root_mean_squared_error: 77696.1328 - val_output_2_root_mean_squared_error: 77718.5938\n",
      "Epoch 96/100\n",
      "\u001b[1m513/516\u001b[0m \u001b[32m━━━━━━━━━━━━━━━━━━━\u001b[0m\u001b[37m━\u001b[0m \u001b[1m0s\u001b[0m 4ms/step - loss: 8555746816.0000 - output_1_root_mean_squared_error: 65378.0781 - output_2_root_mean_squared_error: 65407.6758\n",
      "Epoch 96: val_loss did not improve from 8963024896.00000\n",
      "\u001b[1m516/516\u001b[0m \u001b[32m━━━━━━━━━━━━━━━━━━━━\u001b[0m\u001b[37m\u001b[0m \u001b[1m2s\u001b[0m 4ms/step - loss: 8556041216.0000 - output_1_root_mean_squared_error: 65379.1992 - output_2_root_mean_squared_error: 65408.9961 - val_loss: 15991664640.0000 - val_output_1_root_mean_squared_error: 89320.8750 - val_output_2_root_mean_squared_error: 89517.7500\n",
      "Epoch 97/100\n",
      "\u001b[1m505/516\u001b[0m \u001b[32m━━━━━━━━━━━━━━━━━━━\u001b[0m\u001b[37m━\u001b[0m \u001b[1m0s\u001b[0m 4ms/step - loss: 8760223744.0000 - output_1_root_mean_squared_error: 66110.6328 - output_2_root_mean_squared_error: 66226.0156\n",
      "Epoch 97: val_loss did not improve from 8963024896.00000\n",
      "\u001b[1m516/516\u001b[0m \u001b[32m━━━━━━━━━━━━━━━━━━━━\u001b[0m\u001b[37m\u001b[0m \u001b[1m2s\u001b[0m 4ms/step - loss: 8754733056.0000 - output_1_root_mean_squared_error: 66089.8125 - output_2_root_mean_squared_error: 66205.7188 - val_loss: 14264825856.0000 - val_output_1_root_mean_squared_error: 84759.2266 - val_output_2_root_mean_squared_error: 84146.8281\n",
      "Epoch 98/100\n",
      "\u001b[1m512/516\u001b[0m \u001b[32m━━━━━━━━━━━━━━━━━━━\u001b[0m\u001b[37m━\u001b[0m \u001b[1m0s\u001b[0m 4ms/step - loss: 8131748352.0000 - output_1_root_mean_squared_error: 63740.4727 - output_2_root_mean_squared_error: 63770.0078\n",
      "Epoch 98: val_loss did not improve from 8963024896.00000\n",
      "\u001b[1m516/516\u001b[0m \u001b[32m━━━━━━━━━━━━━━━━━━━━\u001b[0m\u001b[37m\u001b[0m \u001b[1m2s\u001b[0m 4ms/step - loss: 8132511744.0000 - output_1_root_mean_squared_error: 63743.4219 - output_2_root_mean_squared_error: 63773.1992 - val_loss: 13508545536.0000 - val_output_1_root_mean_squared_error: 82238.7266 - val_output_2_root_mean_squared_error: 82129.8984\n",
      "Epoch 99/100\n",
      "\u001b[1m514/516\u001b[0m \u001b[32m━━━━━━━━━━━━━━━━━━━\u001b[0m\u001b[37m━\u001b[0m \u001b[1m0s\u001b[0m 4ms/step - loss: 8263661056.0000 - output_1_root_mean_squared_error: 64237.5391 - output_2_root_mean_squared_error: 64286.7930\n",
      "Epoch 99: val_loss did not improve from 8963024896.00000\n",
      "\u001b[1m516/516\u001b[0m \u001b[32m━━━━━━━━━━━━━━━━━━━━\u001b[0m\u001b[37m\u001b[0m \u001b[1m2s\u001b[0m 4ms/step - loss: 8263749632.0000 - output_1_root_mean_squared_error: 64237.9727 - output_2_root_mean_squared_error: 64287.2422 - val_loss: 9022568448.0000 - val_output_1_root_mean_squared_error: 67214.6484 - val_output_2_root_mean_squared_error: 67117.3828\n",
      "Epoch 100/100\n",
      "\u001b[1m511/516\u001b[0m \u001b[32m━━━━━━━━━━━━━━━━━━━\u001b[0m\u001b[37m━\u001b[0m \u001b[1m0s\u001b[0m 4ms/step - loss: 8233442304.0000 - output_1_root_mean_squared_error: 64088.3828 - output_2_root_mean_squared_error: 64159.2734\n",
      "Epoch 100: val_loss did not improve from 8963024896.00000\n",
      "\u001b[1m516/516\u001b[0m \u001b[32m━━━━━━━━━━━━━━━━━━━━\u001b[0m\u001b[37m\u001b[0m \u001b[1m2s\u001b[0m 4ms/step - loss: 8234774528.0000 - output_1_root_mean_squared_error: 64093.9492 - output_2_root_mean_squared_error: 64164.9336 - val_loss: 9054302208.0000 - val_output_1_root_mean_squared_error: 67254.0312 - val_output_2_root_mean_squared_error: 67314.0625\n"
     ]
    },
    {
     "data": {
      "text/plain": [
       "<keras.src.callbacks.history.History at 0x19a2f806e50>"
      ]
     },
     "execution_count": 25,
     "metadata": {},
     "output_type": "execute_result"
    }
   ],
   "source": [
    "model.fit([train_x_deep, train_x_wide], {'output_1':train_y, 'output_2':train_y}, epochs=100, validation_split=0.2 , callbacks = [tf.keras.callbacks.ModelCheckpoint(filepath = 'best_model.keras',\n",
    "                                                                                                                                         monitor = 'val_loss',\n",
    "                                                                                                                                         save_best_only = True,\n",
    "                                                                                                                                         save_weights_only = False,\n",
    "                                                                                                                                         mode = 'min',\n",
    "                                                                                                                                         verbose =1),\n",
    "                                                                                                                                         tf.keras.callbacks.TensorBoard(run_logdir)])"
   ]
  },
  {
   "cell_type": "code",
   "execution_count": 19,
   "metadata": {},
   "outputs": [
    {
     "name": "stdout",
     "output_type": "stream",
     "text": [
      "WARNING:tensorflow:From C:\\Users\\isthi\\AppData\\Roaming\\Python\\Python311\\site-packages\\keras\\src\\backend\\tensorflow\\core.py:184: The name tf.placeholder is deprecated. Please use tf.compat.v1.placeholder instead.\n",
      "\n"
     ]
    }
   ],
   "source": [
    "best_model = tf.keras.models.load_model('best_model.keras')"
   ]
  },
  {
   "cell_type": "code",
   "execution_count": 20,
   "metadata": {},
   "outputs": [
    {
     "name": "stdout",
     "output_type": "stream",
     "text": [
      "\u001b[1m645/645\u001b[0m \u001b[32m━━━━━━━━━━━━━━━━━━━━\u001b[0m\u001b[37m\u001b[0m \u001b[1m1s\u001b[0m 2ms/step\n"
     ]
    }
   ],
   "source": [
    "y_pred = best_model.predict([train_x_deep, train_x_wide])"
   ]
  },
  {
   "cell_type": "code",
   "execution_count": 21,
   "metadata": {},
   "outputs": [],
   "source": [
    "y_pred_main , y_pred_aux = y_pred['output_1'] , y_pred['output_2']"
   ]
  },
  {
   "cell_type": "code",
   "execution_count": 22,
   "metadata": {},
   "outputs": [
    {
     "data": {
      "text/plain": [
       "(array([[473116.94],\n",
       "        [506254.25],\n",
       "        [446086.38],\n",
       "        [382780.06],\n",
       "        [307152.94],\n",
       "        [348559.7 ],\n",
       "        [329179.16],\n",
       "        [424699.2 ],\n",
       "        [212631.56],\n",
       "        [367889.38]], dtype=float32),\n",
       " <tf.Tensor: shape=(10,), dtype=float32, numpy=\n",
       " array([452600., 358500., 352100., 341300., 342200., 269700., 299200.,\n",
       "        241400., 226700., 261100.], dtype=float32)>)"
      ]
     },
     "execution_count": 22,
     "metadata": {},
     "output_type": "execute_result"
    }
   ],
   "source": [
    "y_pred_main[0:10] , train_y[0:10]"
   ]
  },
  {
   "cell_type": "code",
   "execution_count": 23,
   "metadata": {},
   "outputs": [
    {
     "data": {
      "text/plain": [
       "[<Dense name=dense_9, built=True>,\n",
       " <Dense name=dense_10, built=True>,\n",
       " <Dense name=dense_11, built=True>,\n",
       " <Dense name=dense_12, built=True>,\n",
       " <Dense name=dense_13, built=True>,\n",
       " <Dense name=dense_14, built=True>,\n",
       " <Dense name=dense_15, built=True>,\n",
       " <Dense name=dense_16, built=True>,\n",
       " <BatchNormalization name=batch_normalization_7, built=True>,\n",
       " <BatchNormalization name=batch_normalization_8, built=True>,\n",
       " <BatchNormalization name=batch_normalization_9, built=True>,\n",
       " <BatchNormalization name=batch_normalization_10, built=True>,\n",
       " <BatchNormalization name=batch_normalization_11, built=True>,\n",
       " <BatchNormalization name=batch_normalization_12, built=True>,\n",
       " <BatchNormalization name=batch_normalization_13, built=True>,\n",
       " <BatchNormalization name=batch_normalization_14, built=True>,\n",
       " <Dense name=dense_17, built=True>,\n",
       " <Dense name=dense_18, built=True>,\n",
       " <Dense name=dense_19, built=True>,\n",
       " <Dense name=dense_20, built=True>,\n",
       " <Dense name=dense_21, built=True>,\n",
       " <Dense name=dense_22, built=True>,\n",
       " <Dense name=dense_23, built=True>,\n",
       " <Dense name=dense_24, built=True>,\n",
       " <BatchNormalization name=batch_normalization_15, built=True>,\n",
       " <RTGaussianRegNoiseLayer name=rt_gaussian_reg_noise_layer_1, built=True>,\n",
       " <Concatenate name=concatenate_1, built=True>,\n",
       " <Dense name=output_1, built=True>,\n",
       " <Dense name=output_2, built=True>]"
      ]
     },
     "execution_count": 23,
     "metadata": {},
     "output_type": "execute_result"
    }
   ],
   "source": [
    "best_model.layers"
   ]
  },
  {
   "cell_type": "code",
   "execution_count": 24,
   "metadata": {
    "notebookRunGroups": {
     "groupValue": "2"
    }
   },
   "outputs": [
    {
     "data": {
      "image/png": "[encoded data removed]",
      "text/plain": [
       "<IPython.core.display.Image object>"
      ]
     },
     "execution_count": 24,
     "metadata": {},
     "output_type": "execute_result"
    }
   ],
   "source": [
    "tf.keras.utils.plot_model(best_model, to_file='model_plot.png', show_shapes=True, show_layer_names=True)"
   ]
  }
 ],
 "metadata": {
  "kernelspec": {
   "display_name": "Python 3",
   "language": "python",
   "name": "python3"
  },
  "language_info": {
   "codemirror_mode": {
    "name": "ipython",
    "version": 3
   },
   "file_extension": ".py",
   "mimetype": "text/x-python",
   "name": "python",
   "nbconvert_exporter": "python",
   "pygments_lexer": "ipython3",
   "version": "3.11.5"
  }
 },
 "nbformat": 4,
 "nbformat_minor": 2
}
