{
 "cells": [
  {
   "cell_type": "code",
   "execution_count": 2,
   "metadata": {},
   "outputs": [],
   "source": [
    "import numpy as np\n",
    "import pandas as pd\n",
    "import matplotlib.pyplot as plt\n",
    "from Perceptron import *"
   ]
  },
  {
   "cell_type": "code",
   "execution_count": 3,
   "metadata": {},
   "outputs": [
    {
     "name": "stdout",
     "output_type": "stream",
     "text": [
      "https://archive.ics.uci.edu/ml/machine-learning-databases/iris/iris.data\n"
     ]
    }
   ],
   "source": [
    "url = 'https://archive.ics.uci.edu/ml/machine-learning-databases/iris/iris.data'\n",
    "print(url)"
   ]
  },
  {
   "cell_type": "code",
   "execution_count": 4,
   "metadata": {},
   "outputs": [
    {
     "data": {
      "text/html": [
       "<div>\n",
       "<style scoped>\n",
       "    .dataframe tbody tr th:only-of-type {\n",
       "        vertical-align: middle;\n",
       "    }\n",
       "\n",
       "    .dataframe tbody tr th {\n",
       "        vertical-align: top;\n",
       "    }\n",
       "\n",
       "    .dataframe thead th {\n",
       "        text-align: right;\n",
       "    }\n",
       "</style>\n",
       "<table border=\"1\" class=\"dataframe\">\n",
       "  <thead>\n",
       "    <tr style=\"text-align: right;\">\n",
       "      <th></th>\n",
       "      <th>0</th>\n",
       "      <th>1</th>\n",
       "      <th>2</th>\n",
       "      <th>3</th>\n",
       "      <th>4</th>\n",
       "    </tr>\n",
       "  </thead>\n",
       "  <tbody>\n",
       "    <tr>\n",
       "      <th>0</th>\n",
       "      <td>5.1</td>\n",
       "      <td>3.5</td>\n",
       "      <td>1.4</td>\n",
       "      <td>0.2</td>\n",
       "      <td>Iris-setosa</td>\n",
       "    </tr>\n",
       "    <tr>\n",
       "      <th>1</th>\n",
       "      <td>4.9</td>\n",
       "      <td>3.0</td>\n",
       "      <td>1.4</td>\n",
       "      <td>0.2</td>\n",
       "      <td>Iris-setosa</td>\n",
       "    </tr>\n",
       "    <tr>\n",
       "      <th>2</th>\n",
       "      <td>4.7</td>\n",
       "      <td>3.2</td>\n",
       "      <td>1.3</td>\n",
       "      <td>0.2</td>\n",
       "      <td>Iris-setosa</td>\n",
       "    </tr>\n",
       "    <tr>\n",
       "      <th>3</th>\n",
       "      <td>4.6</td>\n",
       "      <td>3.1</td>\n",
       "      <td>1.5</td>\n",
       "      <td>0.2</td>\n",
       "      <td>Iris-setosa</td>\n",
       "    </tr>\n",
       "    <tr>\n",
       "      <th>4</th>\n",
       "      <td>5.0</td>\n",
       "      <td>3.6</td>\n",
       "      <td>1.4</td>\n",
       "      <td>0.2</td>\n",
       "      <td>Iris-setosa</td>\n",
       "    </tr>\n",
       "  </tbody>\n",
       "</table>\n",
       "</div>"
      ],
      "text/plain": [
       "     0    1    2    3            4\n",
       "0  5.1  3.5  1.4  0.2  Iris-setosa\n",
       "1  4.9  3.0  1.4  0.2  Iris-setosa\n",
       "2  4.7  3.2  1.3  0.2  Iris-setosa\n",
       "3  4.6  3.1  1.5  0.2  Iris-setosa\n",
       "4  5.0  3.6  1.4  0.2  Iris-setosa"
      ]
     },
     "execution_count": 4,
     "metadata": {},
     "output_type": "execute_result"
    }
   ],
   "source": [
    "df = pd.read_csv(url , header= None , encoding= 'utf-8')\n",
    "df.head()"
   ]
  },
  {
   "cell_type": "code",
   "execution_count": 5,
   "metadata": {},
   "outputs": [
    {
     "name": "stdout",
     "output_type": "stream",
     "text": [
      "['Iris-setosa' 'Iris-setosa' 'Iris-setosa' 'Iris-setosa' 'Iris-setosa'\n",
      " 'Iris-setosa' 'Iris-setosa' 'Iris-setosa' 'Iris-setosa' 'Iris-setosa'\n",
      " 'Iris-setosa' 'Iris-setosa' 'Iris-setosa' 'Iris-setosa' 'Iris-setosa'\n",
      " 'Iris-setosa' 'Iris-setosa' 'Iris-setosa' 'Iris-setosa' 'Iris-setosa'\n",
      " 'Iris-setosa' 'Iris-setosa' 'Iris-setosa' 'Iris-setosa' 'Iris-setosa'\n",
      " 'Iris-setosa' 'Iris-setosa' 'Iris-setosa' 'Iris-setosa' 'Iris-setosa'\n",
      " 'Iris-setosa' 'Iris-setosa' 'Iris-setosa' 'Iris-setosa' 'Iris-setosa'\n",
      " 'Iris-setosa' 'Iris-setosa' 'Iris-setosa' 'Iris-setosa' 'Iris-setosa'\n",
      " 'Iris-setosa' 'Iris-setosa' 'Iris-setosa' 'Iris-setosa' 'Iris-setosa'\n",
      " 'Iris-setosa' 'Iris-setosa' 'Iris-setosa' 'Iris-setosa' 'Iris-setosa'\n",
      " 'Iris-versicolor' 'Iris-versicolor' 'Iris-versicolor' 'Iris-versicolor'\n",
      " 'Iris-versicolor' 'Iris-versicolor' 'Iris-versicolor' 'Iris-versicolor'\n",
      " 'Iris-versicolor' 'Iris-versicolor' 'Iris-versicolor' 'Iris-versicolor'\n",
      " 'Iris-versicolor' 'Iris-versicolor' 'Iris-versicolor' 'Iris-versicolor'\n",
      " 'Iris-versicolor' 'Iris-versicolor' 'Iris-versicolor' 'Iris-versicolor'\n",
      " 'Iris-versicolor' 'Iris-versicolor' 'Iris-versicolor' 'Iris-versicolor'\n",
      " 'Iris-versicolor' 'Iris-versicolor' 'Iris-versicolor' 'Iris-versicolor'\n",
      " 'Iris-versicolor' 'Iris-versicolor' 'Iris-versicolor' 'Iris-versicolor'\n",
      " 'Iris-versicolor' 'Iris-versicolor' 'Iris-versicolor' 'Iris-versicolor'\n",
      " 'Iris-versicolor' 'Iris-versicolor' 'Iris-versicolor' 'Iris-versicolor'\n",
      " 'Iris-versicolor' 'Iris-versicolor' 'Iris-versicolor' 'Iris-versicolor'\n",
      " 'Iris-versicolor' 'Iris-versicolor' 'Iris-versicolor' 'Iris-versicolor'\n",
      " 'Iris-versicolor' 'Iris-versicolor']\n"
     ]
    }
   ],
   "source": [
    "y = df.iloc[0:100 , 4].values\n",
    "print(y)"
   ]
  },
  {
   "cell_type": "code",
   "execution_count": 6,
   "metadata": {},
   "outputs": [],
   "source": [
    "y = np.where( y == 'Iris-setosa' , 0 , 1)"
   ]
  },
  {
   "cell_type": "code",
   "execution_count": 7,
   "metadata": {},
   "outputs": [
    {
     "name": "stdout",
     "output_type": "stream",
     "text": [
      "[0 0 0 0 0 0 0 0 0 0 0 0 0 0 0 0 0 0 0 0 0 0 0 0 0 0 0 0 0 0 0 0 0 0 0 0 0\n",
      " 0 0 0 0 0 0 0 0 0 0 0 0 0 1 1 1 1 1 1 1 1 1 1 1 1 1 1 1 1 1 1 1 1 1 1 1 1\n",
      " 1 1 1 1 1 1 1 1 1 1 1 1 1 1 1 1 1 1 1 1 1 1 1 1 1 1]\n"
     ]
    }
   ],
   "source": [
    "print(y)"
   ]
  },
  {
   "cell_type": "code",
   "execution_count": 8,
   "metadata": {},
   "outputs": [
    {
     "name": "stdout",
     "output_type": "stream",
     "text": [
      "[[5.1 1.4]\n",
      " [4.9 1.4]\n",
      " [4.7 1.3]\n",
      " [4.6 1.5]\n",
      " [5.  1.4]\n",
      " [5.4 1.7]\n",
      " [4.6 1.4]\n",
      " [5.  1.5]\n",
      " [4.4 1.4]\n",
      " [4.9 1.5]\n",
      " [5.4 1.5]\n",
      " [4.8 1.6]\n",
      " [4.8 1.4]\n",
      " [4.3 1.1]\n",
      " [5.8 1.2]\n",
      " [5.7 1.5]\n",
      " [5.4 1.3]\n",
      " [5.1 1.4]\n",
      " [5.7 1.7]\n",
      " [5.1 1.5]\n",
      " [5.4 1.7]\n",
      " [5.1 1.5]\n",
      " [4.6 1. ]\n",
      " [5.1 1.7]\n",
      " [4.8 1.9]\n",
      " [5.  1.6]\n",
      " [5.  1.6]\n",
      " [5.2 1.5]\n",
      " [5.2 1.4]\n",
      " [4.7 1.6]\n",
      " [4.8 1.6]\n",
      " [5.4 1.5]\n",
      " [5.2 1.5]\n",
      " [5.5 1.4]\n",
      " [4.9 1.5]\n",
      " [5.  1.2]\n",
      " [5.5 1.3]\n",
      " [4.9 1.5]\n",
      " [4.4 1.3]\n",
      " [5.1 1.5]\n",
      " [5.  1.3]\n",
      " [4.5 1.3]\n",
      " [4.4 1.3]\n",
      " [5.  1.6]\n",
      " [5.1 1.9]\n",
      " [4.8 1.4]\n",
      " [5.1 1.6]\n",
      " [4.6 1.4]\n",
      " [5.3 1.5]\n",
      " [5.  1.4]\n",
      " [7.  4.7]\n",
      " [6.4 4.5]\n",
      " [6.9 4.9]\n",
      " [5.5 4. ]\n",
      " [6.5 4.6]\n",
      " [5.7 4.5]\n",
      " [6.3 4.7]\n",
      " [4.9 3.3]\n",
      " [6.6 4.6]\n",
      " [5.2 3.9]\n",
      " [5.  3.5]\n",
      " [5.9 4.2]\n",
      " [6.  4. ]\n",
      " [6.1 4.7]\n",
      " [5.6 3.6]\n",
      " [6.7 4.4]\n",
      " [5.6 4.5]\n",
      " [5.8 4.1]\n",
      " [6.2 4.5]\n",
      " [5.6 3.9]\n",
      " [5.9 4.8]\n",
      " [6.1 4. ]\n",
      " [6.3 4.9]\n",
      " [6.1 4.7]\n",
      " [6.4 4.3]\n",
      " [6.6 4.4]\n",
      " [6.8 4.8]\n",
      " [6.7 5. ]\n",
      " [6.  4.5]\n",
      " [5.7 3.5]\n",
      " [5.5 3.8]\n",
      " [5.5 3.7]\n",
      " [5.8 3.9]\n",
      " [6.  5.1]\n",
      " [5.4 4.5]\n",
      " [6.  4.5]\n",
      " [6.7 4.7]\n",
      " [6.3 4.4]\n",
      " [5.6 4.1]\n",
      " [5.5 4. ]\n",
      " [5.5 4.4]\n",
      " [6.1 4.6]\n",
      " [5.8 4. ]\n",
      " [5.  3.3]\n",
      " [5.6 4.2]\n",
      " [5.7 4.2]\n",
      " [5.7 4.2]\n",
      " [6.2 4.3]\n",
      " [5.1 3. ]\n",
      " [5.7 4.1]]\n"
     ]
    }
   ],
   "source": [
    "x = df.iloc[0:100 , [ 0 , 2]].values\n",
    "print(x)"
   ]
  },
  {
   "cell_type": "code",
   "execution_count": 9,
   "metadata": {},
   "outputs": [
    {
     "data": {
      "image/png": "[encoded data removed]",
      "text/plain": [
       "<Figure size 640x480 with 1 Axes>"
      ]
     },
     "metadata": {},
     "output_type": "display_data"
    }
   ],
   "source": [
    "plt.scatter(x[0:50 , 0 ] , x[0:50 , 1] , color = 'red' , marker='o' , label = 'Setosa' )\n",
    "plt.scatter( x[50 : , 0 ], x[50: , 1], color = 'blue' , marker = 's', label = 'Versicolor')\n",
    "plt.xlabel('Sepal Length [cm]')\n",
    "plt.ylabel('Petal Length [cm]')\n",
    "plt.legend(loc= 'upper left')\n",
    "plt.show()"
   ]
  },
  {
   "cell_type": "code",
   "execution_count": 10,
   "metadata": {},
   "outputs": [
    {
     "data": {
      "image/png": "[encoded data removed]",
      "text/plain": [
       "<Figure size 640x480 with 1 Axes>"
      ]
     },
     "metadata": {},
     "output_type": "display_data"
    }
   ],
   "source": [
    "ppn = Perceptron(eta = 0.01 , n_iters = 10)\n",
    "ppn.fit(x , y)\n",
    "plt.plot(range(1 , len(ppn.errors_)+1) ,ppn.errors_,  marker = 'o')\n",
    "plt.xlabel('Epochs')\n",
    "plt.ylabel('No. of updates')\n",
    "plt.show()"
   ]
  }
 ],
 "metadata": {
  "kernelspec": {
   "display_name": "Python 3",
   "language": "python",
   "name": "python3"
  },
  "language_info": {
   "codemirror_mode": {
    "name": "ipython",
    "version": 3
   },
   "file_extension": ".py",
   "mimetype": "text/x-python",
   "name": "python",
   "nbconvert_exporter": "python",
   "pygments_lexer": "ipython3",
   "version": "3.11.5"
  }
 },
 "nbformat": 4,
 "nbformat_minor": 2
}
